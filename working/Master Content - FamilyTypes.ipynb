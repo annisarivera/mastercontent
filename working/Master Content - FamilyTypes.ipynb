{
 "cells": [
  {
   "cell_type": "code",
   "execution_count": 1,
   "metadata": {
    "collapsed": true,
    "hide_input": false,
    "slideshow": {
     "slide_type": "skip"
    }
   },
   "outputs": [],
   "source": [
    "import matplotlib\n",
    "import matplotlib.pyplot as plt\n",
    "import numpy as np\n",
    "import pandas as pd\n",
    "import os"
   ]
  },
  {
   "cell_type": "code",
   "execution_count": 2,
   "metadata": {
    "collapsed": true,
    "hide_input": false,
    "slideshow": {
     "slide_type": "skip"
    }
   },
   "outputs": [],
   "source": [
    "%matplotlib inline\n",
    "plt.rcParams['figure.figsize'] = (20, 10)"
   ]
  },
  {
   "cell_type": "markdown",
   "metadata": {
    "slideshow": {
     "slide_type": "slide"
    }
   },
   "source": [
    "# RETRIEVING AND BASIC FORMATTING EXCEL FILES"
   ]
  },
  {
   "cell_type": "markdown",
   "metadata": {
    "hide_input": true,
    "slideshow": {
     "slide_type": "slide"
    }
   },
   "source": [
    "## Retrieving the .xlsx files\n",
    "Find the directory where the excel files are living. \n",
    "\n",
    "Then **'excel_files'** will report what lives inside the folder. \n",
    "\n",
    "Note: Any additional excel files you want analysed will need to be put into the same location as **'directory'.**"
   ]
  },
  {
   "cell_type": "code",
   "execution_count": 3,
   "metadata": {
    "collapsed": false,
    "slideshow": {
     "slide_type": "subslide"
    }
   },
   "outputs": [
    {
     "data": {
      "text/plain": [
       "['20170429 9_28 Family Types Log.xlsx',\n",
       " '20170429 9_28 FamilyCategory Log.xlsx',\n",
       " '20170429 9_28 FamilySubCategory Log.xlsx',\n",
       " '20170429 9_28 Host Families Log.xlsx',\n",
       " '20170429 9_28 Nested Families Log.xlsx',\n",
       " '20170429 9_28 OmniClass Log.xlsx',\n",
       " '20170429 9_28 Parameters Log.xlsx',\n",
       " '20170429 9_28 ParameterValuesByTypes Log.xlsx',\n",
       " '20170429 9_28 Reference Planes Log.xlsx',\n",
       " '20170429 9_28 Units Log.xlsx',\n",
       " '20170501 6_28 Materials Log.xlsx',\n",
       " '~$20170429 9_28 ParameterValuesByTypes Log.xlsx']"
      ]
     },
     "execution_count": 3,
     "metadata": {},
     "output_type": "execute_result"
    }
   ],
   "source": [
    "directory = r\"\\\\dc2-file001\\Practice\\InfoTech\\BIM\\Revit\\RevitStandardsMasterBVN\\02_BVN_Library\\Master Content\\X_Data\\Data - ARR\\_CONSOLIDATED v2\"\n",
    "files = os.listdir(directory)\n",
    "excel_files = []\n",
    "for f in files:\n",
    "    if \".xlsx\" in f:\n",
    "        excel_files.append(f)\n",
    "excel_files"
   ]
  },
  {
   "cell_type": "markdown",
   "metadata": {
    "hide_input": true,
    "slideshow": {
     "slide_type": "skip"
    }
   },
   "source": [
    "## xlsx. key and values\n",
    "\n",
    "Use <b>keys</b> to pair each key with each excel file in <b>excel_files</b>. This is so that you don't have to type the long file name everytime you need to call it in the rest of the code. \n",
    "\n",
    "<b>file_dict</b> will tell you which excel file is paired with each key."
   ]
  },
  {
   "cell_type": "code",
   "execution_count": 4,
   "metadata": {
    "collapsed": false,
    "hide_input": false
   },
   "outputs": [
    {
     "data": {
      "text/plain": [
       "{'FamilyCategory': '20170429 9_28 FamilyCategory Log.xlsx',\n",
       " 'FamilySubCategory': '20170429 9_28 FamilySubCategory Log.xlsx',\n",
       " 'FamilyTypes': '20170429 9_28 Family Types Log.xlsx',\n",
       " 'HostFamilies': '20170429 9_28 Host Families Log.xlsx',\n",
       " 'Materials': '20170501 6_28 Materials Log.xlsx',\n",
       " 'NestedFamilies': '20170429 9_28 Nested Families Log.xlsx',\n",
       " 'OmniClass': '20170429 9_28 OmniClass Log.xlsx',\n",
       " 'ParameterValuesByTypes': '20170429 9_28 ParameterValuesByTypes Log.xlsx',\n",
       " 'Parameters': '20170429 9_28 Parameters Log.xlsx',\n",
       " 'ReferencePlanes': '20170429 9_28 Reference Planes Log.xlsx',\n",
       " 'Units': '20170429 9_28 Units Log.xlsx'}"
      ]
     },
     "execution_count": 4,
     "metadata": {},
     "output_type": "execute_result"
    }
   ],
   "source": [
    "keys = [\n",
    "        \"FamilyTypes\",\n",
    "        \"FamilyCategory\",\n",
    "        \"FamilySubCategory\",\n",
    "        \"HostFamilies\",\n",
    "        \"NestedFamilies\",\n",
    "        \"OmniClass\",\n",
    "        \"Parameters\",\n",
    "        \"ParameterValuesByTypes\",\n",
    "        \"ReferencePlanes\",\n",
    "        \"Units\",\n",
    "        \"Materials\"\n",
    "       ]\n",
    "\n",
    "file_dict = {key: value for (key, value) in zip(keys, excel_files)}\n",
    "file_dict"
   ]
  },
  {
   "cell_type": "markdown",
   "metadata": {
    "slideshow": {
     "slide_type": "slide"
    }
   },
   "source": [
    "## FUNCTIONS TO FORMAT EXCEL FILES"
   ]
  },
  {
   "cell_type": "markdown",
   "metadata": {
    "slideshow": {
     "slide_type": "slide"
    }
   },
   "source": [
    "### Removing the common file path characters from original family file path name\n",
    "\n",
    "The example file path below is very long. In order to cut the fat out of the long file path, the common characters from each file path is removed. \n",
    "\n",
    "\\\\dc2-file001\\Practice\\InfoTech\\BIM\\Revit\\RevitStandardsMasterBVN\\02_BVN_Library\\Master Content\\Windows\\Double Hung\\Double Hung_3 Panel.rfa\n",
    "\n",
    "Therefore, the start of the file path <b>\\\\dc2-file001\\Practice\\InfoTech\\BIM\\Revit\\RevitStandardsMasterBVN\\02_BVN_Library\\Master Content</b> is removed in every spreadsheet."
   ]
  },
  {
   "cell_type": "markdown",
   "metadata": {
    "slideshow": {
     "slide_type": "slide"
    }
   },
   "source": [
    "### Removing the rfa. name from FamilyFilePath.\n",
    "\n",
    "In the excel files, the family name (.rfa) is part of the FamilyFilePath column.\n",
    "\n",
    "e.g. \\\\dc2-file001\\Practice\\InfoTech\\BIM\\Revit\\RevitStandardsMasterBVN\\02_BVN_Library\\Master Content\\Windows\\Special\\<u>Window Lancet_basic.rfa</u>"
   ]
  },
  {
   "cell_type": "markdown",
   "metadata": {
    "slideshow": {
     "slide_type": "slide"
    }
   },
   "source": [
    "### Determines whether the family is an .rfa or from a .txt catalogue file.\n",
    "\n",
    "<b> remove_rfaName</b> removes the family name from the FamilyFilePath column. This allows us to find things such as the count of how many families there are within a particular master content folder. It splits the <b>full_filepath</b> path by each \\ .\n",
    "\n",
    "<b>joined_again</b> will join the file path back through the \\ except for the last one. The new file path is appended on a FamilyFilePath column."
   ]
  },
  {
   "cell_type": "markdown",
   "metadata": {
    "slideshow": {
     "slide_type": "slide"
    }
   },
   "source": [
    "### Determines whether the family is an .rfa or from a .txt catalogue file.\n",
    "<b>getFileType</b> removes the last three characters from the FamilyFilePath.\n",
    "\n",
    "<b>stripFileType</b> removes the last four characters (including the '.') from the FamilyName."
   ]
  },
  {
   "cell_type": "code",
   "execution_count": 5,
   "metadata": {
    "collapsed": false,
    "hide_input": false,
    "slideshow": {
     "slide_type": "subslide"
    }
   },
   "outputs": [
    {
     "name": "stdout",
     "output_type": "stream",
     "text": [
      "95\n"
     ]
    }
   ],
   "source": [
    "commonPartofFilePath = len(r'\\\\dc2-file001\\Practice\\InfoTech\\BIM\\Revit\\RevitStandardsMasterBVN\\02_BVN_Library\\Master Content')\n",
    "print commonPartofFilePath\n",
    "def stripCommonPath(row):\n",
    "        return row.FamilyFilePath[commonPartofFilePath+1:]\n",
    "    \n",
    "def remove_rfaName(row):\n",
    "    full_filepath = row.FamilyFilePath\n",
    "    split = full_filepath.split(\"\\\\\")[:-1]\n",
    "    joined_again = (\"\\\\\".join(split))\n",
    "    return  joined_again\n",
    "\n",
    "def getFileType(row):\n",
    "    return row.FamilyFilePath[-3:]\n",
    "\n",
    "def stripFileType(row):\n",
    "    return row.FamilyName[:-4]"
   ]
  },
  {
   "cell_type": "markdown",
   "metadata": {},
   "source": [
    "# FAMILY TYPES\n",
    "\n",
    "<b>ft</b> and <b>ft_path</b> reads from the Family Types excel file."
   ]
  },
  {
   "cell_type": "code",
   "execution_count": 6,
   "metadata": {
    "collapsed": false
   },
   "outputs": [
    {
     "data": {
      "text/html": [
       "<div>\n",
       "<table border=\"1\" class=\"dataframe\">\n",
       "  <thead>\n",
       "    <tr style=\"text-align: right;\">\n",
       "      <th></th>\n",
       "      <th>FamilyFilePath</th>\n",
       "      <th>FamilyName</th>\n",
       "      <th>FamilyTypeName</th>\n",
       "      <th>fileType</th>\n",
       "    </tr>\n",
       "  </thead>\n",
       "  <tbody>\n",
       "    <tr>\n",
       "      <th>0</th>\n",
       "      <td>Windows\\Special</td>\n",
       "      <td>Window Round_basic</td>\n",
       "      <td></td>\n",
       "      <td>rfa</td>\n",
       "    </tr>\n",
       "    <tr>\n",
       "      <th>1</th>\n",
       "      <td>Windows\\Special</td>\n",
       "      <td>Window Lancet_basic</td>\n",
       "      <td></td>\n",
       "      <td>rfa</td>\n",
       "    </tr>\n",
       "    <tr>\n",
       "      <th>2</th>\n",
       "      <td>Windows\\Special</td>\n",
       "      <td>Window Arched Top_basic</td>\n",
       "      <td></td>\n",
       "      <td>rfa</td>\n",
       "    </tr>\n",
       "    <tr>\n",
       "      <th>3</th>\n",
       "      <td>Windows\\Special</td>\n",
       "      <td>Skylight_Velux_FCM_WIN</td>\n",
       "      <td></td>\n",
       "      <td>rfa</td>\n",
       "    </tr>\n",
       "    <tr>\n",
       "      <th>4</th>\n",
       "      <td>Windows\\Special</td>\n",
       "      <td>Skylight_Operable_WIN</td>\n",
       "      <td>600 x 600mm</td>\n",
       "      <td>rfa</td>\n",
       "    </tr>\n",
       "  </tbody>\n",
       "</table>\n",
       "</div>"
      ],
      "text/plain": [
       "    FamilyFilePath               FamilyName FamilyTypeName fileType\n",
       "0  Windows\\Special       Window Round_basic                     rfa\n",
       "1  Windows\\Special      Window Lancet_basic                     rfa\n",
       "2  Windows\\Special  Window Arched Top_basic                     rfa\n",
       "3  Windows\\Special   Skylight_Velux_FCM_WIN                     rfa\n",
       "4  Windows\\Special    Skylight_Operable_WIN    600 x 600mm      rfa"
      ]
     },
     "execution_count": 6,
     "metadata": {},
     "output_type": "execute_result"
    }
   ],
   "source": [
    "ft_path = os.path.join(directory, file_dict[\"FamilyTypes\"])\n",
    "ft = pd.read_excel(ft_path)\n",
    "\n",
    "ft[\"fileType\"] = ft.apply(getFileType, axis=1)\n",
    "ft[\"FamilyName\"] = ft.apply(stripFileType, axis=1)\n",
    "ft[\"FamilyFilePath\"] = ft.apply(remove_rfaName, axis=1)\n",
    "ft[\"FamilyFilePath\"] = ft.apply(stripCommonPath, axis=1)\n",
    "\n",
    "ft.head()"
   ]
  },
  {
   "cell_type": "markdown",
   "metadata": {},
   "source": [
    "## No. of Family Types\n",
    "\n",
    "<b>ft_counts</b> will count the number of family types there are for each family."
   ]
  },
  {
   "cell_type": "code",
   "execution_count": 7,
   "metadata": {
    "collapsed": true
   },
   "outputs": [],
   "source": [
    "ft_counts = ft.FamilyName.value_counts()"
   ]
  },
  {
   "cell_type": "code",
   "execution_count": 8,
   "metadata": {
    "collapsed": false
   },
   "outputs": [
    {
     "data": {
      "image/png": "[encoded data removed]",
      "text/plain": [
       "<matplotlib.figure.Figure at 0xaaa3b00>"
      ]
     },
     "metadata": {},
     "output_type": "display_data"
    }
   ],
   "source": [
    "plt.hist(ft_counts, bins=20)\n",
    "plt.title(\"Number of Family Types across Master Content\", fontsize=20)\n",
    "plt.xlabel(\"Number of Family Types\", fontsize=15)\n",
    "plt.ylabel(\"Number of Families\", fontsize=15)\n",
    "plt.show()"
   ]
  },
  {
   "cell_type": "markdown",
   "metadata": {},
   "source": [
    "## No. of Family Types (Highest Offenders)\n",
    "\n",
    "Use <b>cutoff</b> to filter the graph based on the number of families there are in a category.\n",
    "\n",
    "e.g. cutoff > 50"
   ]
  },
  {
   "cell_type": "code",
   "execution_count": 9,
   "metadata": {
    "collapsed": false,
    "slideshow": {
     "slide_type": "slide"
    }
   },
   "outputs": [
    {
     "data": {
      "image/png": "[encoded data removed]",
      "text/plain": [
       "<matplotlib.figure.Figure at 0xc382748>"
      ]
     },
     "metadata": {},
     "output_type": "display_data"
    }
   ],
   "source": [
    "cutoff = 50\n",
    "\n",
    "plt.hist(ft_counts[ft_counts>cutoff])\n",
    "plt.title(\"Number of Family Types across Master Content (Over 50 Family Types)\", fontsize=20)\n",
    "plt.xlabel(\"Number of Family Types\", fontsize=15)\n",
    "plt.ylabel(\"Number of Families\", fontsize=15)\n",
    "plt.show()"
   ]
  },
  {
   "cell_type": "markdown",
   "metadata": {
    "slideshow": {
     "slide_type": "slide"
    }
   },
   "source": [
    "## Families with 50+ family types"
   ]
  },
  {
   "cell_type": "code",
   "execution_count": 10,
   "metadata": {
    "collapsed": false,
    "slideshow": {
     "slide_type": "slide"
    }
   },
   "outputs": [
    {
     "data": {
      "text/plain": [
       "Supply Diffuser_Sidewall                             529\n",
       "HSS_Hollow Structural Section_Pro                    333\n",
       "CISC Wide Flange Shapes_Side                         294\n",
       "CISC Wide Flange Shapes_Section                      294\n",
       "CISC Wide Flange Shapes_Top                          294\n",
       "W_Wide Flange                                        274\n",
       "W_Wide Flange_Pro                                    267\n",
       "WT_Structural Tee_Pro                                267\n",
       "WT_Structural Tee                                    267\n",
       "Table_HermanMiller_DU6ACS_RectangularTable_C_Foot    192\n",
       "CISC WT Shapes_Top                                   190\n",
       "CISC WT Shapes_Section                               190\n",
       "CISC WT Shapes_Side                                  190\n",
       "Table_HermanMiller_DU6ATS_RectangularTable_T_Foot    180\n",
       "VAV Outlet Plenum_Wye                                153\n",
       "VAV Outlet Plenum_Elbow                              153\n",
       "Louvre_Extruded_200 mm Pitch                         150\n",
       "Plate                                                142\n",
       "CISC Tube Shapes_Section                             126\n",
       "CISC Tube Shapes_Top                                 126\n",
       "CISC Tube Shapes_Side                                126\n",
       "Linear Stiffener_Angle                               125\n",
       "L_Angle_Pro                                          125\n",
       "Flat Bar                                             116\n",
       "FB_Flat Bar_Column                                   116\n",
       "FB_Flat Bar_Framing                                  116\n",
       "SHS_Square Hollow Section                            115\n",
       "SHS_Square Hollow Section_Framing                    115\n",
       "SHS_Square Hollow Section_Column                     115\n",
       "CHS_Circular Hollow Section_Framing                  113\n",
       "CHS_Circular Hollow Section                          113\n",
       "CHS_Circular Hollow Section_Column                   113\n",
       "Table_HermanMiller_DU6DTS_OvalTable_T_Foot           108\n",
       "CISC Angle Shapes_Section                            106\n",
       "CISC Angle Shapes_Side                               106\n",
       "CISC Angle Shapes_Top                                106\n",
       "RHS_Rectangular Hollow Section                       100\n",
       "RHS_Rectangular Hollow Section_Column                100\n",
       "RHS_Rectangular Hollow Section_Framing               100\n",
       "VAV Outlet Plenum_Cross                               85\n",
       "VAV Outlet Plenum_Tee                                 85\n",
       "VAV Outlet Plenum_Double Wye                          85\n",
       "Timber Stud_Section                                   80\n",
       "Timber Stud_Section_DCO                               80\n",
       "LH_Series Bar Joist                                   80\n",
       "Swing_Single_DOR -                                    78\n",
       "Swing_Single                                          78\n",
       "UB_Universal Beam_Pro                                 73\n",
       "Weights equipment_SEQ                                 67\n",
       "K_Series Bar Joist_Angle Web                          64\n",
       "K_Series Bar Joist_Rod Web                            64\n",
       "UBT - Structural Tee - Section (AUS)                  64\n",
       "CISC HS Pipe Shapes_Section                           63\n",
       "CISC HS Pipe Shapes_Side                              63\n",
       "CISC HS Pipe Shapes_Top                               63\n",
       "COM_Host_WI                                           60\n",
       "Timber_Column                                         56\n",
       "Timber                                                56\n",
       "Name: FamilyName, dtype: int64"
      ]
     },
     "execution_count": 10,
     "metadata": {},
     "output_type": "execute_result"
    }
   ],
   "source": [
    "ft_counts[ft_counts>50]"
   ]
  },
  {
   "cell_type": "markdown",
   "metadata": {},
   "source": [
    "## Families with 500+ family types?\n",
    "\n",
    "The high count of family types means that these families have a Revit catalogue file attached to it. \n",
    "\n",
    "The code below differentiates the .txt catalogue files from the .rfa files."
   ]
  },
  {
   "cell_type": "markdown",
   "metadata": {},
   "source": [
    "## .rfa vs .txt Family Types \n",
    "\n",
    "### Filtering for .txt files\n",
    "\n",
    "<b>ft_hasTxt</b> filters for family types that are from txt catalog files."
   ]
  },
  {
   "cell_type": "code",
   "execution_count": 11,
   "metadata": {
    "collapsed": false
   },
   "outputs": [
    {
     "data": {
      "text/html": [
       "<div>\n",
       "<table border=\"1\" class=\"dataframe\">\n",
       "  <thead>\n",
       "    <tr style=\"text-align: right;\">\n",
       "      <th></th>\n",
       "      <th>FamilyFilePath</th>\n",
       "      <th>FamilyName</th>\n",
       "      <th>FamilyTypeName</th>\n",
       "      <th>fileType</th>\n",
       "    </tr>\n",
       "  </thead>\n",
       "  <tbody>\n",
       "    <tr>\n",
       "      <th>156</th>\n",
       "      <td>Windows\\Double Hung</td>\n",
       "      <td>Double Hung_3LT</td>\n",
       "      <td>1816</td>\n",
       "      <td>txt</td>\n",
       "    </tr>\n",
       "    <tr>\n",
       "      <th>157</th>\n",
       "      <td>Windows\\Double Hung</td>\n",
       "      <td>Double Hung_3LT</td>\n",
       "      <td>1818</td>\n",
       "      <td>txt</td>\n",
       "    </tr>\n",
       "    <tr>\n",
       "      <th>158</th>\n",
       "      <td>Windows\\Double Hung</td>\n",
       "      <td>Double Hung_3LT</td>\n",
       "      <td>1822</td>\n",
       "      <td>txt</td>\n",
       "    </tr>\n",
       "    <tr>\n",
       "      <th>159</th>\n",
       "      <td>Windows\\Double Hung</td>\n",
       "      <td>Double Hung_3LT</td>\n",
       "      <td>1824</td>\n",
       "      <td>txt</td>\n",
       "    </tr>\n",
       "    <tr>\n",
       "      <th>160</th>\n",
       "      <td>Windows\\Double Hung</td>\n",
       "      <td>Double Hung_3LT</td>\n",
       "      <td>1828</td>\n",
       "      <td>txt</td>\n",
       "    </tr>\n",
       "  </tbody>\n",
       "</table>\n",
       "</div>"
      ],
      "text/plain": [
       "          FamilyFilePath       FamilyName FamilyTypeName fileType\n",
       "156  Windows\\Double Hung  Double Hung_3LT           1816      txt\n",
       "157  Windows\\Double Hung  Double Hung_3LT           1818      txt\n",
       "158  Windows\\Double Hung  Double Hung_3LT           1822      txt\n",
       "159  Windows\\Double Hung  Double Hung_3LT           1824      txt\n",
       "160  Windows\\Double Hung  Double Hung_3LT           1828      txt"
      ]
     },
     "execution_count": 11,
     "metadata": {},
     "output_type": "execute_result"
    }
   ],
   "source": [
    "ft_hasTxt = ft[ft.fileType==\"txt\"]\n",
    "ft_hasTxt.head()"
   ]
  },
  {
   "cell_type": "markdown",
   "metadata": {},
   "source": [
    "### Filtering for .rfa files\n",
    "\n",
    "<b>ft_noTxt</b> filters for family types that are from within the Revit family."
   ]
  },
  {
   "cell_type": "code",
   "execution_count": 12,
   "metadata": {
    "collapsed": false
   },
   "outputs": [
    {
     "data": {
      "text/html": [
       "<div>\n",
       "<table border=\"1\" class=\"dataframe\">\n",
       "  <thead>\n",
       "    <tr style=\"text-align: right;\">\n",
       "      <th></th>\n",
       "      <th>FamilyFilePath</th>\n",
       "      <th>FamilyName</th>\n",
       "      <th>FamilyTypeName</th>\n",
       "      <th>fileType</th>\n",
       "    </tr>\n",
       "  </thead>\n",
       "  <tbody>\n",
       "    <tr>\n",
       "      <th>0</th>\n",
       "      <td>Windows\\Special</td>\n",
       "      <td>Window Round_basic</td>\n",
       "      <td></td>\n",
       "      <td>rfa</td>\n",
       "    </tr>\n",
       "    <tr>\n",
       "      <th>1</th>\n",
       "      <td>Windows\\Special</td>\n",
       "      <td>Window Lancet_basic</td>\n",
       "      <td></td>\n",
       "      <td>rfa</td>\n",
       "    </tr>\n",
       "    <tr>\n",
       "      <th>2</th>\n",
       "      <td>Windows\\Special</td>\n",
       "      <td>Window Arched Top_basic</td>\n",
       "      <td></td>\n",
       "      <td>rfa</td>\n",
       "    </tr>\n",
       "    <tr>\n",
       "      <th>3</th>\n",
       "      <td>Windows\\Special</td>\n",
       "      <td>Skylight_Velux_FCM_WIN</td>\n",
       "      <td></td>\n",
       "      <td>rfa</td>\n",
       "    </tr>\n",
       "    <tr>\n",
       "      <th>4</th>\n",
       "      <td>Windows\\Special</td>\n",
       "      <td>Skylight_Operable_WIN</td>\n",
       "      <td>600 x 600mm</td>\n",
       "      <td>rfa</td>\n",
       "    </tr>\n",
       "    <tr>\n",
       "      <th>5</th>\n",
       "      <td>Windows\\Special</td>\n",
       "      <td>Skylight_Operable_WIN</td>\n",
       "      <td>900 x 600mm</td>\n",
       "      <td>rfa</td>\n",
       "    </tr>\n",
       "    <tr>\n",
       "      <th>6</th>\n",
       "      <td>Windows\\Special</td>\n",
       "      <td>Skylight_Operable_WIN</td>\n",
       "      <td>900 x 900mm</td>\n",
       "      <td>rfa</td>\n",
       "    </tr>\n",
       "    <tr>\n",
       "      <th>7</th>\n",
       "      <td>Windows\\Special</td>\n",
       "      <td>Round with Trim_WIN</td>\n",
       "      <td>0610 mm Diameter</td>\n",
       "      <td>rfa</td>\n",
       "    </tr>\n",
       "    <tr>\n",
       "      <th>8</th>\n",
       "      <td>Windows\\Special</td>\n",
       "      <td>Round with Trim_WIN</td>\n",
       "      <td>0915mm Diameter</td>\n",
       "      <td>rfa</td>\n",
       "    </tr>\n",
       "    <tr>\n",
       "      <th>9</th>\n",
       "      <td>Windows\\Special</td>\n",
       "      <td>Round with Trim_WIN</td>\n",
       "      <td>1220mm Diameter</td>\n",
       "      <td>rfa</td>\n",
       "    </tr>\n",
       "  </tbody>\n",
       "</table>\n",
       "</div>"
      ],
      "text/plain": [
       "    FamilyFilePath               FamilyName    FamilyTypeName fileType\n",
       "0  Windows\\Special       Window Round_basic                        rfa\n",
       "1  Windows\\Special      Window Lancet_basic                        rfa\n",
       "2  Windows\\Special  Window Arched Top_basic                        rfa\n",
       "3  Windows\\Special   Skylight_Velux_FCM_WIN                        rfa\n",
       "4  Windows\\Special    Skylight_Operable_WIN       600 x 600mm      rfa\n",
       "5  Windows\\Special    Skylight_Operable_WIN       900 x 600mm      rfa\n",
       "6  Windows\\Special    Skylight_Operable_WIN       900 x 900mm      rfa\n",
       "7  Windows\\Special      Round with Trim_WIN  0610 mm Diameter      rfa\n",
       "8  Windows\\Special      Round with Trim_WIN   0915mm Diameter      rfa\n",
       "9  Windows\\Special      Round with Trim_WIN   1220mm Diameter      rfa"
      ]
     },
     "execution_count": 12,
     "metadata": {},
     "output_type": "execute_result"
    }
   ],
   "source": [
    "ft_noTxt = ft[ft.fileType==\"rfa\"]\n",
    "ft_noTxt.head(10)"
   ]
  },
  {
   "cell_type": "markdown",
   "metadata": {},
   "source": [
    "### No. of .txt vs .rfa family types\n",
    "\n",
    "<b>fileType_counts</b> counts the number of .rfa vs .txt family types."
   ]
  },
  {
   "cell_type": "code",
   "execution_count": 13,
   "metadata": {
    "collapsed": false
   },
   "outputs": [],
   "source": [
    "fileType_counts = ft.fileType.value_counts()"
   ]
  },
  {
   "cell_type": "code",
   "execution_count": 14,
   "metadata": {
    "collapsed": false
   },
   "outputs": [
    {
     "data": {
      "image/png": "[encoded data removed]",
      "text/plain": [
       "<matplotlib.figure.Figure at 0xab6a978>"
      ]
     },
     "metadata": {},
     "output_type": "display_data"
    }
   ],
   "source": [
    "fileType_counts.plot(kind=\"bar\", grid=True, fontsize=15)\n",
    "plt.title(\"Number of Family Types (.rfa vs .txt)\", fontsize=20)\n",
    "plt.xlabel(\"File Type\", fontsize=15)\n",
    "plt.ylabel(\"Number of family types\", fontsize=15)\n",
    "plt.show()"
   ]
  },
  {
   "cell_type": "markdown",
   "metadata": {},
   "source": [
    "### No. of Family Types for native .rfa families\n",
    "\n",
    "<b>rfaType_counts</b> counts the number of family types within the native rfa family."
   ]
  },
  {
   "cell_type": "code",
   "execution_count": 15,
   "metadata": {
    "collapsed": false
   },
   "outputs": [
    {
     "data": {
      "text/html": [
       "<div>\n",
       "<table border=\"1\" class=\"dataframe\">\n",
       "  <thead>\n",
       "    <tr style=\"text-align: right;\">\n",
       "      <th></th>\n",
       "      <th>FamilyTypeName</th>\n",
       "    </tr>\n",
       "    <tr>\n",
       "      <th>FamilyName</th>\n",
       "      <th></th>\n",
       "    </tr>\n",
       "  </thead>\n",
       "  <tbody>\n",
       "    <tr>\n",
       "      <th>1 Bay Window</th>\n",
       "      <td>2</td>\n",
       "    </tr>\n",
       "    <tr>\n",
       "      <th>1 Bay Window - Non Hosted</th>\n",
       "      <td>1</td>\n",
       "    </tr>\n",
       "    <tr>\n",
       "      <th>10P_Perimeter_Bench_FYS</th>\n",
       "      <td>1</td>\n",
       "    </tr>\n",
       "    <tr>\n",
       "      <th>115_BVNDH_WC Cubicle</th>\n",
       "      <td>3</td>\n",
       "    </tr>\n",
       "    <tr>\n",
       "      <th>12P_Meeting_FYS</th>\n",
       "      <td>1</td>\n",
       "    </tr>\n",
       "  </tbody>\n",
       "</table>\n",
       "</div>"
      ],
      "text/plain": [
       "                           FamilyTypeName\n",
       "FamilyName                               \n",
       "1 Bay Window                            2\n",
       "1 Bay Window - Non Hosted               1\n",
       "10P_Perimeter_Bench_FYS                 1\n",
       "115_BVNDH_WC Cubicle                    3\n",
       "12P_Meeting_FYS                         1"
      ]
     },
     "execution_count": 15,
     "metadata": {},
     "output_type": "execute_result"
    }
   ],
   "source": [
    "rfaType_counts = ft_noTxt[[\"FamilyName\",\"FamilyTypeName\"]].groupby(\"FamilyName\").agg(\"count\")\n",
    "\n",
    "rfaType_counts.head()"
   ]
  },
  {
   "cell_type": "code",
   "execution_count": 16,
   "metadata": {
    "collapsed": false,
    "scrolled": false
   },
   "outputs": [
    {
     "data": {
      "text/plain": [
       "<matplotlib.text.Text at 0xc39d160>"
      ]
     },
     "execution_count": 16,
     "metadata": {},
     "output_type": "execute_result"
    },
    {
     "data": {
      "image/png": "[encoded data removed]",
      "text/plain": [
       "<matplotlib.figure.Figure at 0xbcdd400>"
      ]
     },
     "metadata": {},
     "output_type": "display_data"
    }
   ],
   "source": [
    "rfaType_counts.hist(bins=100)\n",
    "plt.title(\"Number of Family Types for .rfa families\", fontsize=20)\n",
    "plt.xlabel(\"Number of Family Types\", fontsize=15)\n",
    "plt.ylabel(\"Number of Families\", fontsize=15)"
   ]
  },
  {
   "cell_type": "markdown",
   "metadata": {},
   "source": [
    "### No. of Family Types for native .rfa families (Worst Offenders)"
   ]
  },
  {
   "cell_type": "code",
   "execution_count": 17,
   "metadata": {
    "collapsed": false,
    "scrolled": true
   },
   "outputs": [
    {
     "data": {
      "text/html": [
       "<div>\n",
       "<table border=\"1\" class=\"dataframe\">\n",
       "  <thead>\n",
       "    <tr style=\"text-align: right;\">\n",
       "      <th></th>\n",
       "      <th>FamilyTypeName</th>\n",
       "    </tr>\n",
       "    <tr>\n",
       "      <th>FamilyName</th>\n",
       "      <th></th>\n",
       "    </tr>\n",
       "  </thead>\n",
       "  <tbody>\n",
       "    <tr>\n",
       "      <th>Timber Stud_Section_DCO</th>\n",
       "      <td>80</td>\n",
       "    </tr>\n",
       "    <tr>\n",
       "      <th>Weights equipment_SEQ</th>\n",
       "      <td>67</td>\n",
       "    </tr>\n",
       "  </tbody>\n",
       "</table>\n",
       "</div>"
      ],
      "text/plain": [
       "                         FamilyTypeName\n",
       "FamilyName                             \n",
       "Timber Stud_Section_DCO              80\n",
       "Weights equipment_SEQ                67"
      ]
     },
     "execution_count": 17,
     "metadata": {},
     "output_type": "execute_result"
    }
   ],
   "source": [
    "rfaType_counts[rfaType_counts.FamilyTypeName>50]"
   ]
  },
  {
   "cell_type": "markdown",
   "metadata": {},
   "source": [
    "### No. of Family Types from .txt files"
   ]
  },
  {
   "cell_type": "code",
   "execution_count": 18,
   "metadata": {
    "collapsed": true
   },
   "outputs": [],
   "source": [
    "txtType_counts = ft_hasTxt[[\"FamilyName\",\"FamilyTypeName\"]].groupby(\"FamilyName\").agg(\"count\")"
   ]
  },
  {
   "cell_type": "code",
   "execution_count": 19,
   "metadata": {
    "collapsed": false
   },
   "outputs": [
    {
     "data": {
      "image/png": "[encoded data removed]",
      "text/plain": [
       "<matplotlib.figure.Figure at 0xacf1ef0>"
      ]
     },
     "metadata": {},
     "output_type": "display_data"
    }
   ],
   "source": [
    "txtType_counts.hist(bins=100)\n",
    "plt.title(\"Number of Family Types for families with .txt files\", fontsize=20)\n",
    "plt.xlabel(\"Number of Family Types\", fontsize=15)\n",
    "plt.ylabel(\"Number of Families\", fontsize=15)\n",
    "plt.show()"
   ]
  },
  {
   "cell_type": "markdown",
   "metadata": {},
   "source": [
    "### No. of Family Types from .txt files > 200"
   ]
  },
  {
   "cell_type": "code",
   "execution_count": 20,
   "metadata": {
    "collapsed": false
   },
   "outputs": [
    {
     "data": {
      "text/html": [
       "<div>\n",
       "<table border=\"1\" class=\"dataframe\">\n",
       "  <thead>\n",
       "    <tr style=\"text-align: right;\">\n",
       "      <th></th>\n",
       "      <th>FamilyTypeName</th>\n",
       "    </tr>\n",
       "    <tr>\n",
       "      <th>FamilyName</th>\n",
       "      <th></th>\n",
       "    </tr>\n",
       "  </thead>\n",
       "  <tbody>\n",
       "    <tr>\n",
       "      <th>CISC Wide Flange Shapes_Section</th>\n",
       "      <td>294</td>\n",
       "    </tr>\n",
       "    <tr>\n",
       "      <th>CISC Wide Flange Shapes_Side</th>\n",
       "      <td>294</td>\n",
       "    </tr>\n",
       "    <tr>\n",
       "      <th>CISC Wide Flange Shapes_Top</th>\n",
       "      <td>294</td>\n",
       "    </tr>\n",
       "    <tr>\n",
       "      <th>HSS_Hollow Structural Section_Pro</th>\n",
       "      <td>333</td>\n",
       "    </tr>\n",
       "    <tr>\n",
       "      <th>Supply Diffuser_Sidewall</th>\n",
       "      <td>529</td>\n",
       "    </tr>\n",
       "    <tr>\n",
       "      <th>WT_Structural Tee</th>\n",
       "      <td>267</td>\n",
       "    </tr>\n",
       "    <tr>\n",
       "      <th>WT_Structural Tee_Pro</th>\n",
       "      <td>267</td>\n",
       "    </tr>\n",
       "    <tr>\n",
       "      <th>W_Wide Flange</th>\n",
       "      <td>274</td>\n",
       "    </tr>\n",
       "    <tr>\n",
       "      <th>W_Wide Flange_Pro</th>\n",
       "      <td>267</td>\n",
       "    </tr>\n",
       "  </tbody>\n",
       "</table>\n",
       "</div>"
      ],
      "text/plain": [
       "                                   FamilyTypeName\n",
       "FamilyName                                       \n",
       "CISC Wide Flange Shapes_Section               294\n",
       "CISC Wide Flange Shapes_Side                  294\n",
       "CISC Wide Flange Shapes_Top                   294\n",
       "HSS_Hollow Structural Section_Pro             333\n",
       "Supply Diffuser_Sidewall                      529\n",
       "WT_Structural Tee                             267\n",
       "WT_Structural Tee_Pro                         267\n",
       "W_Wide Flange                                 274\n",
       "W_Wide Flange_Pro                             267"
      ]
     },
     "execution_count": 20,
     "metadata": {},
     "output_type": "execute_result"
    }
   ],
   "source": [
    "txtType_counts[txtType_counts.FamilyTypeName>200]"
   ]
  },
  {
   "cell_type": "markdown",
   "metadata": {},
   "source": [
    "### ***REVISIT***"
   ]
  },
  {
   "cell_type": "code",
   "execution_count": 21,
   "metadata": {
    "collapsed": false
   },
   "outputs": [
    {
     "name": "stderr",
     "output_type": "stream",
     "text": [
      "Q:\\Users\\arivera\\AppData\\Local\\Continuum\\Anaconda2\\lib\\site-packages\\ipykernel\\__main__.py:8: SettingWithCopyWarning: \n",
      "A value is trying to be set on a copy of a slice from a DataFrame.\n",
      "Try using .loc[row_indexer,col_indexer] = value instead\n",
      "\n",
      "See the caveats in the documentation: http://pandas.pydata.org/pandas-docs/stable/indexing.html#indexing-view-versus-copy\n"
     ]
    },
    {
     "data": {
      "text/html": [
       "<div>\n",
       "<table border=\"1\" class=\"dataframe\">\n",
       "  <thead>\n",
       "    <tr style=\"text-align: right;\">\n",
       "      <th></th>\n",
       "      <th>FamilyFilePath</th>\n",
       "      <th>FamilyName</th>\n",
       "      <th>FamilyTypeName</th>\n",
       "      <th>fileType</th>\n",
       "      <th>catalogueSize</th>\n",
       "    </tr>\n",
       "  </thead>\n",
       "  <tbody>\n",
       "    <tr>\n",
       "      <th>0</th>\n",
       "      <td>Windows\\Special</td>\n",
       "      <td>Window Round_basic</td>\n",
       "      <td></td>\n",
       "      <td>rfa</td>\n",
       "      <td>0</td>\n",
       "    </tr>\n",
       "    <tr>\n",
       "      <th>1</th>\n",
       "      <td>Windows\\Special</td>\n",
       "      <td>Window Lancet_basic</td>\n",
       "      <td></td>\n",
       "      <td>rfa</td>\n",
       "      <td>0</td>\n",
       "    </tr>\n",
       "    <tr>\n",
       "      <th>2</th>\n",
       "      <td>Windows\\Special</td>\n",
       "      <td>Window Arched Top_basic</td>\n",
       "      <td></td>\n",
       "      <td>rfa</td>\n",
       "      <td>0</td>\n",
       "    </tr>\n",
       "    <tr>\n",
       "      <th>3</th>\n",
       "      <td>Windows\\Special</td>\n",
       "      <td>Skylight_Velux_FCM_WIN</td>\n",
       "      <td></td>\n",
       "      <td>rfa</td>\n",
       "      <td>0</td>\n",
       "    </tr>\n",
       "    <tr>\n",
       "      <th>4</th>\n",
       "      <td>Windows\\Special</td>\n",
       "      <td>Skylight_Operable_WIN</td>\n",
       "      <td>600 x 600mm</td>\n",
       "      <td>rfa</td>\n",
       "      <td>0</td>\n",
       "    </tr>\n",
       "  </tbody>\n",
       "</table>\n",
       "</div>"
      ],
      "text/plain": [
       "    FamilyFilePath               FamilyName FamilyTypeName fileType  \\\n",
       "0  Windows\\Special       Window Round_basic                     rfa   \n",
       "1  Windows\\Special      Window Lancet_basic                     rfa   \n",
       "2  Windows\\Special  Window Arched Top_basic                     rfa   \n",
       "3  Windows\\Special   Skylight_Velux_FCM_WIN                     rfa   \n",
       "4  Windows\\Special    Skylight_Operable_WIN    600 x 600mm      rfa   \n",
       "\n",
       "   catalogueSize  \n",
       "0              0  \n",
       "1              0  \n",
       "2              0  \n",
       "3              0  \n",
       "4              0  "
      ]
     },
     "execution_count": 21,
     "metadata": {},
     "output_type": "execute_result"
    }
   ],
   "source": [
    "def has_txt_catalogue(row):\n",
    "    \"\"\"Checks to see if theres a txt file corresponding to this family\n",
    "    \n",
    "    Very slow, needs work at some point\n",
    "    \"\"\"\n",
    "    return ft[(ft.fileType==\"txt\") & (ft.FamilyName==row.FamilyName)].shape[0]\n",
    "\n",
    "ft_noTxt[\"catalogueSize\"] = ft_noTxt.apply(has_txt_catalogue, axis=1)\n",
    "ft_noTxt.head()"
   ]
  },
  {
   "cell_type": "code",
   "execution_count": 22,
   "metadata": {
    "collapsed": false
   },
   "outputs": [
    {
     "data": {
      "text/plain": [
       "(10436, 5)"
      ]
     },
     "execution_count": 22,
     "metadata": {},
     "output_type": "execute_result"
    }
   ],
   "source": [
    "ft_noTxt.shape"
   ]
  }
 ],
 "metadata": {
  "celltoolbar": "Slideshow",
  "kernelspec": {
   "display_name": "Python 2",
   "language": "python",
   "name": "python2"
  },
  "language_info": {
   "codemirror_mode": {
    "name": "ipython",
    "version": 2
   },
   "file_extension": ".py",
   "mimetype": "text/x-python",
   "name": "python",
   "nbconvert_exporter": "python",
   "pygments_lexer": "ipython2",
   "version": "2.7.13"
  },
  "toc": {
   "colors": {
    "hover_highlight": "#DAA520",
    "navigate_num": "#000000",
    "navigate_text": "#333333",
    "running_highlight": "#FF0000",
    "selected_highlight": "#FFD700",
    "sidebar_border": "#EEEEEE",
    "wrapper_background": "#FFFFFF"
   },
   "moveMenuLeft": true,
   "nav_menu": {
    "height": "512px",
    "width": "252px"
   },
   "navigate_menu": true,
   "number_sections": true,
   "sideBar": false,
   "threshold": 4,
   "toc_cell": false,
   "toc_position": {
    "height": "367px",
    "left": "397.77px",
    "right": "auto",
    "top": "-421.88px",
    "width": "257px"
   },
   "toc_section_display": "block",
   "toc_window_display": false,
   "widenNotebook": false
  }
 },
 "nbformat": 4,
 "nbformat_minor": 2
}
