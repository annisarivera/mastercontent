{
 "cells": [
  {
   "cell_type": "code",
   "execution_count": 1,
   "metadata": {
    "collapsed": true,
    "slideshow": {
     "slide_type": "skip"
    }
   },
   "outputs": [],
   "source": [
    "# -*- coding: utf-8 -*-"
   ]
  },
  {
   "cell_type": "code",
   "execution_count": 2,
   "metadata": {
    "collapsed": true,
    "hide_input": false,
    "slideshow": {
     "slide_type": "skip"
    }
   },
   "outputs": [],
   "source": [
    "import matplotlib\n",
    "import matplotlib.pyplot as plt\n",
    "import numpy as np\n",
    "import pandas as pd\n",
    "import os"
   ]
  },
  {
   "cell_type": "code",
   "execution_count": 3,
   "metadata": {
    "collapsed": true,
    "hide_input": false,
    "slideshow": {
     "slide_type": "skip"
    }
   },
   "outputs": [],
   "source": [
    "%matplotlib inline\n",
    "plt.rcParams['figure.figsize'] = (20, 10)"
   ]
  },
  {
   "cell_type": "markdown",
   "metadata": {
    "slideshow": {
     "slide_type": "slide"
    }
   },
   "source": [
    "# RETRIEVING AND BASIC FORMATTING EXCEL FILES"
   ]
  },
  {
   "cell_type": "markdown",
   "metadata": {
    "hide_input": true,
    "slideshow": {
     "slide_type": "slide"
    }
   },
   "source": [
    "## Retrieving the .xlsx files\n",
    "Find the directory where the excel files are living. \n",
    "\n",
    "Then **'excel_files'** will report what lives inside the folder. \n",
    "\n",
    "Note: Any additional excel files you want analysed will need to be put into the same location as **'directory'.**"
   ]
  },
  {
   "cell_type": "code",
   "execution_count": 4,
   "metadata": {
    "collapsed": false,
    "hide_input": false,
    "slideshow": {
     "slide_type": "subslide"
    }
   },
   "outputs": [
    {
     "data": {
      "text/plain": [
       "['20170706 12_20 Family Types Log.xlsx',\n",
       " '20170706 12_20 FamilyCategory Log.xlsx',\n",
       " '20170706 12_20 FamilySubCategory Log.xlsx',\n",
       " '20170706 12_20 Host Families Log.xlsx',\n",
       " '20170706 12_20 Materials Log.xlsx',\n",
       " '20170706 12_20 Nested Families Log.xlsx',\n",
       " '20170706 12_20 OmniClass Log.xlsx',\n",
       " '20170706 12_20 Parameters Log.xlsx',\n",
       " '20170706 12_20 ParameterValuesByTypes Log.xlsx',\n",
       " '20170706 12_20 Reference Planes Log.xlsx',\n",
       " '20170706 12_20 Units Log.xlsx']"
      ]
     },
     "execution_count": 4,
     "metadata": {},
     "output_type": "execute_result"
    }
   ],
   "source": [
    "directory = r\"\\\\dc2-file001\\Practice\\InfoTech\\BIM\\Revit\\RevitStandardsMasterBVN\\02_BVN_Library\\Master Content\\X_Data\\Data - ARR\\_CONSOLIDATED v3\"\n",
    "files = os.listdir(directory)\n",
    "excel_files = []\n",
    "for f in files:\n",
    "    if \".xlsx\" in f:\n",
    "        excel_files.append(f)\n",
    "excel_files"
   ]
  },
  {
   "cell_type": "markdown",
   "metadata": {
    "hide_input": true,
    "slideshow": {
     "slide_type": "skip"
    }
   },
   "source": [
    "## xlsx. key and values\n",
    "\n",
    "Use <b>keys</b> to pair each key with each excel file in <b>excel_files</b>. This is so that you don't have to type the long file name everytime you need to call it in the rest of the code. \n",
    "\n",
    "<b>file_dict</b> will tell you which excel file is paired with each key."
   ]
  },
  {
   "cell_type": "code",
   "execution_count": 8,
   "metadata": {
    "collapsed": false,
    "hide_input": false
   },
   "outputs": [
    {
     "data": {
      "text/plain": [
       "{'FamilyCategory': '20170706 12_20 FamilyCategory Log.xlsx',\n",
       " 'FamilySubCategory': '20170706 12_20 FamilySubCategory Log.xlsx',\n",
       " 'FamilyTypes': '20170706 12_20 Family Types Log.xlsx',\n",
       " 'HostFamilies': '20170706 12_20 Host Families Log.xlsx',\n",
       " 'Materials': '20170706 12_20 Materials Log.xlsx',\n",
       " 'NestedFamilies': '20170706 12_20 Nested Families Log.xlsx',\n",
       " 'Omniclass': '20170706 12_20 OmniClass Log.xlsx',\n",
       " 'ParameterValuesByTypes': '20170706 12_20 ParameterValuesByTypes Log.xlsx',\n",
       " 'Parameters': '20170706 12_20 Parameters Log.xlsx',\n",
       " 'ReferencePlanes': '20170706 12_20 Reference Planes Log.xlsx',\n",
       " 'Units': '20170706 12_20 Units Log.xlsx'}"
      ]
     },
     "execution_count": 8,
     "metadata": {},
     "output_type": "execute_result"
    }
   ],
   "source": [
    "keys = [\n",
    "        \"FamilyTypes\",\n",
    "        \"FamilyCategory\",\n",
    "        \"FamilySubCategory\",\n",
    "        \"HostFamilies\",\n",
    "        \"Materials\",\n",
    "        \"NestedFamilies\",\n",
    "        \"Omniclass\",\n",
    "        \"Parameters\",\n",
    "        \"ParameterValuesByTypes\",\n",
    "        \"ReferencePlanes\",\n",
    "        \"Units\",\n",
    "        \n",
    "       ]\n",
    "\n",
    "file_dict = {key: value for (key, value) in zip(keys, excel_files)}\n",
    "file_dict"
   ]
  },
  {
   "cell_type": "markdown",
   "metadata": {
    "slideshow": {
     "slide_type": "slide"
    }
   },
   "source": [
    "## FUNCTIONS TO FORMAT EXCEL FILES"
   ]
  },
  {
   "cell_type": "markdown",
   "metadata": {
    "slideshow": {
     "slide_type": "slide"
    }
   },
   "source": [
    "### Removing the common file path characters from original family file path name\n",
    "\n",
    "The example file path below is very long. In order to cut the fat out of the long file path, the common characters from each file path is removed. \n",
    "\n",
    "\\\\dc2-file001\\Practice\\InfoTech\\BIM\\Revit\\RevitStandardsMasterBVN\\02_BVN_Library\\Master Content\\Windows\\Double Hung\\Double Hung_3 Panel.rfa\n",
    "\n",
    "Therefore, the start of the file path **\\\\dc2-file001\\Practice\\InfoTech\\BIM\\Revit\\RevitStandardsMasterBVN\\02_BVN_Library\\Master Content** is removed in every spreadsheet."
   ]
  },
  {
   "cell_type": "markdown",
   "metadata": {
    "slideshow": {
     "slide_type": "slide"
    }
   },
   "source": [
    "### Removing the rfa. name from FamilyFilePath.\n",
    "\n",
    "In the excel files, the family name (.rfa) is part of the FamilyFilePath column.\n",
    "\n",
    "e.g. \\\\dc2-file001\\Practice\\InfoTech\\BIM\\Revit\\RevitStandardsMasterBVN\\02_BVN_Library\\Master Content\\Windows\\Special\\<u>Window Lancet_basic.rfa</u>"
   ]
  },
  {
   "cell_type": "markdown",
   "metadata": {
    "slideshow": {
     "slide_type": "slide"
    }
   },
   "source": [
    "### Determines whether the family is an .rfa or from a .txt catalogue file.\n",
    "\n",
    "<b> remove_rfaName</b> removes the family name from the FamilyFilePath column. This allows us to find things such as the count of how many families there are within a particular master content folder. It splits the <b>full_filepath</b> path by each \\ .\n",
    "\n",
    "<b>joined_again</b> will join the file path back through the \\ except for the last one. The new file path is appended on a FamilyFilePath column."
   ]
  },
  {
   "cell_type": "markdown",
   "metadata": {
    "slideshow": {
     "slide_type": "slide"
    }
   },
   "source": [
    "### Determines whether the family is an .rfa or from a .txt catalogue file.\n",
    "<b>getFileType</b> removes the last three characters from the FamilyFilePath.\n",
    "\n",
    "<b>stripFileType</b> removes the last four characters (including the '.') from the FamilyName."
   ]
  },
  {
   "cell_type": "code",
   "execution_count": 9,
   "metadata": {
    "collapsed": false,
    "hide_input": false,
    "slideshow": {
     "slide_type": "subslide"
    }
   },
   "outputs": [
    {
     "name": "stdout",
     "output_type": "stream",
     "text": [
      "95\n"
     ]
    }
   ],
   "source": [
    "commonPartofFilePath = len(r'\\\\dc2-file001\\Practice\\InfoTech\\BIM\\Revit\\RevitStandardsMasterBVN\\02_BVN_Library\\Master Content')\n",
    "print commonPartofFilePath\n",
    "def stripCommonPath(row):\n",
    "        return row.FamilyFilePath[commonPartofFilePath+1:]\n",
    "    \n",
    "def host_stripCommonPath(row):\n",
    "        return row.HostFamilyFilePath[commonPartofFilePath+1:]\n",
    "\n",
    "def host_remove_rfaName(row):\n",
    "    full_filepath = row.HostFamilyFilePath\n",
    "    split = full_filepath.split(\"\\\\\")[:-1]\n",
    "    joined_again = (\"\\\\\".join(split))\n",
    "    return  joined_again\n",
    "\n",
    "def host_getFileType(row):\n",
    "    return row.HostFamilyFilePath[-3:]\n",
    "\n",
    "def host_stripFileType(row):\n",
    "    return row.HostFamilyName[:-4]\n",
    "\n",
    "def makeNewColNames(colNames):\n",
    "    c = list(colNames)\n",
    "    return [stripHost(n) for n in colNames]\n",
    "\n",
    "def stripHost(colName):\n",
    "    if colName[:4] == \"Host\":\n",
    "        return colName[4:]\n",
    "    else:\n",
    "        return colName"
   ]
  },
  {
   "cell_type": "markdown",
   "metadata": {
    "slideshow": {
     "slide_type": "slide"
    }
   },
   "source": [
    "# HOST AND NESTED FAMILIES\n",
    "\n",
    "<b>nf_path</b> and <b>nf</b> reads the data from the Nested Families excel file"
   ]
  },
  {
   "cell_type": "code",
   "execution_count": 11,
   "metadata": {
    "collapsed": false,
    "slideshow": {
     "slide_type": "subslide"
    }
   },
   "outputs": [
    {
     "data": {
      "text/html": [
       "<div>\n",
       "<table border=\"1\" class=\"dataframe\">\n",
       "  <thead>\n",
       "    <tr style=\"text-align: right;\">\n",
       "      <th></th>\n",
       "      <th>HostFamilyFilePath</th>\n",
       "      <th>HostFamilyName</th>\n",
       "      <th>NestedFamilyName</th>\n",
       "      <th>NestedFamilyType</th>\n",
       "      <th>NoOfInstances</th>\n",
       "      <th>NestedFamilyCategory</th>\n",
       "      <th>FileType</th>\n",
       "    </tr>\n",
       "  </thead>\n",
       "  <tbody>\n",
       "    <tr>\n",
       "      <th>0</th>\n",
       "      <td>Windows\\Sliding</td>\n",
       "      <td>Sliding_Single Row_XOX_WIN</td>\n",
       "      <td>X_WN_Sngl_SidePanel_FullFrame</td>\n",
       "      <td>Type1</td>\n",
       "      <td>2</td>\n",
       "      <td>Windows</td>\n",
       "      <td>rfa</td>\n",
       "    </tr>\n",
       "    <tr>\n",
       "      <th>1</th>\n",
       "      <td>Windows\\Sliding</td>\n",
       "      <td>Sliding_Single Row_XOX_WIN</td>\n",
       "      <td>X_SlidingArrow</td>\n",
       "      <td>Type1</td>\n",
       "      <td>4</td>\n",
       "      <td>Detail Items</td>\n",
       "      <td>rfa</td>\n",
       "    </tr>\n",
       "    <tr>\n",
       "      <th>2</th>\n",
       "      <td>Windows\\Sliding</td>\n",
       "      <td>Sliding_Single Row_XOOX_WIN</td>\n",
       "      <td>X_WN_Sngl_SidePanel_FullFrame</td>\n",
       "      <td>Type1</td>\n",
       "      <td>2</td>\n",
       "      <td>Windows</td>\n",
       "      <td>rfa</td>\n",
       "    </tr>\n",
       "    <tr>\n",
       "      <th>3</th>\n",
       "      <td>Windows\\Sliding</td>\n",
       "      <td>Sliding_Single Row_XOOX_WIN</td>\n",
       "      <td>X_SlidingArrow</td>\n",
       "      <td>Type1</td>\n",
       "      <td>4</td>\n",
       "      <td>Detail Items</td>\n",
       "      <td>rfa</td>\n",
       "    </tr>\n",
       "    <tr>\n",
       "      <th>4</th>\n",
       "      <td>Windows\\Sliding</td>\n",
       "      <td>Sliding_Single Row_XO_WIN</td>\n",
       "      <td>X_WN_Sngl_Sliding_SidePanel_FullFrame</td>\n",
       "      <td>Type1</td>\n",
       "      <td>1</td>\n",
       "      <td>Windows</td>\n",
       "      <td>rfa</td>\n",
       "    </tr>\n",
       "  </tbody>\n",
       "</table>\n",
       "</div>"
      ],
      "text/plain": [
       "  HostFamilyFilePath               HostFamilyName  \\\n",
       "0    Windows\\Sliding   Sliding_Single Row_XOX_WIN   \n",
       "1    Windows\\Sliding   Sliding_Single Row_XOX_WIN   \n",
       "2    Windows\\Sliding  Sliding_Single Row_XOOX_WIN   \n",
       "3    Windows\\Sliding  Sliding_Single Row_XOOX_WIN   \n",
       "4    Windows\\Sliding    Sliding_Single Row_XO_WIN   \n",
       "\n",
       "                        NestedFamilyName NestedFamilyType  NoOfInstances  \\\n",
       "0          X_WN_Sngl_SidePanel_FullFrame            Type1              2   \n",
       "1                         X_SlidingArrow            Type1              4   \n",
       "2          X_WN_Sngl_SidePanel_FullFrame            Type1              2   \n",
       "3                         X_SlidingArrow            Type1              4   \n",
       "4  X_WN_Sngl_Sliding_SidePanel_FullFrame            Type1              1   \n",
       "\n",
       "  NestedFamilyCategory FileType  \n",
       "0              Windows      rfa  \n",
       "1         Detail Items      rfa  \n",
       "2              Windows      rfa  \n",
       "3         Detail Items      rfa  \n",
       "4              Windows      rfa  "
      ]
     },
     "execution_count": 11,
     "metadata": {},
     "output_type": "execute_result"
    }
   ],
   "source": [
    "nf_path = os.path.join(directory, file_dict[\"NestedFamilies\"])\n",
    "nf = pd.read_excel(nf_path)\n",
    "\n",
    "nf[\"HostFamilyFilePath\"] = nf.apply(host_stripCommonPath, axis=1)\n",
    "nf[\"HostFamilyName\"] = nf.apply(host_stripFileType, axis=1)\n",
    "nf[\"FileType\"] = nf.apply(host_getFileType, axis=1)\n",
    "nf[\"HostFamilyFilePath\"] = nf.apply(host_remove_rfaName, axis=1)\n",
    "\n",
    "nf.drop([\"NestedFamilyAction\", \"NestedFamilyActionParameter_One\", \"NestedFamilyActionParameter_Two\"],axis=1,inplace=True)\n",
    "\n",
    "nf.head()"
   ]
  },
  {
   "cell_type": "markdown",
   "metadata": {
    "slideshow": {
     "slide_type": "slide"
    }
   },
   "source": [
    "## No. of Nested Families\n",
    "\n",
    "**nf_counts** will count the number of nested families there are in a family."
   ]
  },
  {
   "cell_type": "code",
   "execution_count": 12,
   "metadata": {
    "collapsed": false
   },
   "outputs": [
    {
     "data": {
      "text/html": [
       "<div>\n",
       "<table border=\"1\" class=\"dataframe\">\n",
       "  <thead>\n",
       "    <tr style=\"text-align: right;\">\n",
       "      <th></th>\n",
       "      <th>HostFamilyName</th>\n",
       "      <th>NestedFamilyName</th>\n",
       "    </tr>\n",
       "  </thead>\n",
       "  <tbody>\n",
       "    <tr>\n",
       "      <th>0</th>\n",
       "      <td>Sliding_Single Row_XOX_WIN</td>\n",
       "      <td>X_WN_Sngl_SidePanel_FullFrame</td>\n",
       "    </tr>\n",
       "    <tr>\n",
       "      <th>1</th>\n",
       "      <td>Sliding_Single Row_XOX_WIN</td>\n",
       "      <td>X_SlidingArrow</td>\n",
       "    </tr>\n",
       "    <tr>\n",
       "      <th>2</th>\n",
       "      <td>Sliding_Single Row_XOOX_WIN</td>\n",
       "      <td>X_WN_Sngl_SidePanel_FullFrame</td>\n",
       "    </tr>\n",
       "    <tr>\n",
       "      <th>3</th>\n",
       "      <td>Sliding_Single Row_XOOX_WIN</td>\n",
       "      <td>X_SlidingArrow</td>\n",
       "    </tr>\n",
       "    <tr>\n",
       "      <th>4</th>\n",
       "      <td>Sliding_Single Row_XO_WIN</td>\n",
       "      <td>X_WN_Sngl_Sliding_SidePanel_FullFrame</td>\n",
       "    </tr>\n",
       "  </tbody>\n",
       "</table>\n",
       "</div>"
      ],
      "text/plain": [
       "                HostFamilyName                       NestedFamilyName\n",
       "0   Sliding_Single Row_XOX_WIN          X_WN_Sngl_SidePanel_FullFrame\n",
       "1   Sliding_Single Row_XOX_WIN                         X_SlidingArrow\n",
       "2  Sliding_Single Row_XOOX_WIN          X_WN_Sngl_SidePanel_FullFrame\n",
       "3  Sliding_Single Row_XOOX_WIN                         X_SlidingArrow\n",
       "4    Sliding_Single Row_XO_WIN  X_WN_Sngl_Sliding_SidePanel_FullFrame"
      ]
     },
     "execution_count": 12,
     "metadata": {},
     "output_type": "execute_result"
    }
   ],
   "source": [
    "hostandNest = nf[[\"HostFamilyName\", \"NestedFamilyName\"]]\n",
    "\n",
    "hostandNest.head()"
   ]
  },
  {
   "cell_type": "code",
   "execution_count": 13,
   "metadata": {
    "collapsed": false,
    "scrolled": true,
    "slideshow": {
     "slide_type": "subslide"
    }
   },
   "outputs": [
    {
     "data": {
      "text/html": [
       "<div>\n",
       "<table border=\"1\" class=\"dataframe\">\n",
       "  <thead>\n",
       "    <tr>\n",
       "      <th></th>\n",
       "      <th>NestedFamilyName</th>\n",
       "    </tr>\n",
       "    <tr>\n",
       "      <th></th>\n",
       "      <th>count</th>\n",
       "    </tr>\n",
       "    <tr>\n",
       "      <th>HostFamilyName</th>\n",
       "      <th></th>\n",
       "    </tr>\n",
       "  </thead>\n",
       "  <tbody>\n",
       "    <tr>\n",
       "      <th>1 Bay Window</th>\n",
       "      <td>20</td>\n",
       "    </tr>\n",
       "    <tr>\n",
       "      <th>1 Bay Window - Non Hosted</th>\n",
       "      <td>12</td>\n",
       "    </tr>\n",
       "    <tr>\n",
       "      <th>10P_Perimeter_Bench_FYS</th>\n",
       "      <td>5</td>\n",
       "    </tr>\n",
       "    <tr>\n",
       "      <th>12P_Meeting_FYS</th>\n",
       "      <td>6</td>\n",
       "    </tr>\n",
       "    <tr>\n",
       "      <th>14P_Meeting_Rectangle_FYS</th>\n",
       "      <td>6</td>\n",
       "    </tr>\n",
       "  </tbody>\n",
       "</table>\n",
       "</div>"
      ],
      "text/plain": [
       "                          NestedFamilyName\n",
       "                                     count\n",
       "HostFamilyName                            \n",
       "1 Bay Window                            20\n",
       "1 Bay Window - Non Hosted               12\n",
       "10P_Perimeter_Bench_FYS                  5\n",
       "12P_Meeting_FYS                          6\n",
       "14P_Meeting_Rectangle_FYS                6"
      ]
     },
     "execution_count": 13,
     "metadata": {},
     "output_type": "execute_result"
    }
   ],
   "source": [
    "nest_grouped = hostandNest.groupby(\"HostFamilyName\").agg(['count'])\n",
    "\n",
    "nest_grouped.head()"
   ]
  },
  {
   "cell_type": "code",
   "execution_count": 14,
   "metadata": {
    "collapsed": false,
    "slideshow": {
     "slide_type": "slide"
    }
   },
   "outputs": [
    {
     "data": {
      "image/png": "[encoded data removed]",
      "text/plain": [
       "<matplotlib.figure.Figure at 0xbdf4a58>"
      ]
     },
     "metadata": {},
     "output_type": "display_data"
    }
   ],
   "source": [
    "nest_grouped[\"NestedFamilyName\"].hist(bins=50);\n",
    "plt.title(\"Number of Nested Families within Host Families\", fontsize=20)\n",
    "plt.xlabel(\"Number of nested families\", fontsize=15)\n",
    "plt.ylabel(\"Number of families\", fontsize=15)\n",
    "plt.show()"
   ]
  },
  {
   "cell_type": "markdown",
   "metadata": {},
   "source": [
    "## No. of Nested Families (Worst Offenders)"
   ]
  },
  {
   "cell_type": "code",
   "execution_count": 15,
   "metadata": {
    "collapsed": false
   },
   "outputs": [
    {
     "data": {
      "text/html": [
       "<div>\n",
       "<table border=\"1\" class=\"dataframe\">\n",
       "  <thead>\n",
       "    <tr style=\"text-align: right;\">\n",
       "      <th></th>\n",
       "      <th>count</th>\n",
       "    </tr>\n",
       "    <tr>\n",
       "      <th>HostFamilyName</th>\n",
       "      <th></th>\n",
       "    </tr>\n",
       "  </thead>\n",
       "  <tbody>\n",
       "    <tr>\n",
       "      <th>BVN-2016-Casework</th>\n",
       "      <td>162</td>\n",
       "    </tr>\n",
       "    <tr>\n",
       "      <th>BVN-2017-Casework</th>\n",
       "      <td>162</td>\n",
       "    </tr>\n",
       "    <tr>\n",
       "      <th>BVN-Casework - ALL - FAMILY</th>\n",
       "      <td>321</td>\n",
       "    </tr>\n",
       "    <tr>\n",
       "      <th>Bathroom Standard Types 1</th>\n",
       "      <td>39</td>\n",
       "    </tr>\n",
       "    <tr>\n",
       "      <th>Bathroom Standard Types 2</th>\n",
       "      <td>36</td>\n",
       "    </tr>\n",
       "    <tr>\n",
       "      <th>Bathroom Standard Types 3</th>\n",
       "      <td>37</td>\n",
       "    </tr>\n",
       "    <tr>\n",
       "      <th>Bathroom Standard Types 4</th>\n",
       "      <td>32</td>\n",
       "    </tr>\n",
       "    <tr>\n",
       "      <th>J-BPR - Bottle Prep</th>\n",
       "      <td>50</td>\n",
       "    </tr>\n",
       "    <tr>\n",
       "      <th>J-CFB - Craft Bench</th>\n",
       "      <td>39</td>\n",
       "    </tr>\n",
       "    <tr>\n",
       "      <th>J-LCK Lockers</th>\n",
       "      <td>32</td>\n",
       "    </tr>\n",
       "    <tr>\n",
       "      <th>J-LDB - Laundry Bench 1</th>\n",
       "      <td>122</td>\n",
       "    </tr>\n",
       "    <tr>\n",
       "      <th>J-NC1 - Nappy change 1 - 1-2yrs</th>\n",
       "      <td>67</td>\n",
       "    </tr>\n",
       "    <tr>\n",
       "      <th>J-NC2 - Napyy Change 2 - NC x 1</th>\n",
       "      <td>65</td>\n",
       "    </tr>\n",
       "    <tr>\n",
       "      <th>J-NC3 - Nappy change 3 NC X 2 &amp; bed store</th>\n",
       "      <td>65</td>\n",
       "    </tr>\n",
       "    <tr>\n",
       "      <th>J-NC4 - Nappy change 4 - NC x 2 &amp; craft sink</th>\n",
       "      <td>67</td>\n",
       "    </tr>\n",
       "    <tr>\n",
       "      <th>J-SKB - Staff Room Kitchen Bench</th>\n",
       "      <td>55</td>\n",
       "    </tr>\n",
       "    <tr>\n",
       "      <th>Kitchen Standard Type 1</th>\n",
       "      <td>33</td>\n",
       "    </tr>\n",
       "    <tr>\n",
       "      <th>Switch and Outlet_Not Hosted</th>\n",
       "      <td>54</td>\n",
       "    </tr>\n",
       "    <tr>\n",
       "      <th>Switch and Outlet_Wall Based</th>\n",
       "      <td>53</td>\n",
       "    </tr>\n",
       "  </tbody>\n",
       "</table>\n",
       "</div>"
      ],
      "text/plain": [
       "                                              count\n",
       "HostFamilyName                                     \n",
       "BVN-2016-Casework                               162\n",
       "BVN-2017-Casework                               162\n",
       "BVN-Casework - ALL - FAMILY                     321\n",
       "Bathroom Standard Types 1                        39\n",
       "Bathroom Standard Types 2                        36\n",
       "Bathroom Standard Types 3                        37\n",
       "Bathroom Standard Types 4                        32\n",
       "J-BPR - Bottle Prep                              50\n",
       "J-CFB - Craft Bench                              39\n",
       "J-LCK Lockers                                    32\n",
       "J-LDB - Laundry Bench 1                         122\n",
       "J-NC1 - Nappy change 1 - 1-2yrs                  67\n",
       "J-NC2 - Napyy Change 2 - NC x 1                  65\n",
       "J-NC3 - Nappy change 3 NC X 2 & bed store        65\n",
       "J-NC4 - Nappy change 4 - NC x 2 & craft sink     67\n",
       "J-SKB - Staff Room Kitchen Bench                 55\n",
       "Kitchen Standard Type 1                          33\n",
       "Switch and Outlet_Not Hosted                     54\n",
       "Switch and Outlet_Wall Based                     53"
      ]
     },
     "execution_count": 15,
     "metadata": {},
     "output_type": "execute_result"
    }
   ],
   "source": [
    "nf_counts = nest_grouped[\"NestedFamilyName\"]\n",
    "nf_counts[nf_counts[\"count\"]>30]"
   ]
  },
  {
   "cell_type": "markdown",
   "metadata": {},
   "source": [
    "## Nested Families with high number of instances"
   ]
  },
  {
   "cell_type": "code",
   "execution_count": 16,
   "metadata": {
    "collapsed": false
   },
   "outputs": [
    {
     "data": {
      "text/html": [
       "<div>\n",
       "<table border=\"1\" class=\"dataframe\">\n",
       "  <thead>\n",
       "    <tr style=\"text-align: right;\">\n",
       "      <th></th>\n",
       "      <th>HostFamilyName</th>\n",
       "      <th>NestedFamilyName</th>\n",
       "      <th>NoOfInstances</th>\n",
       "    </tr>\n",
       "  </thead>\n",
       "  <tbody>\n",
       "    <tr>\n",
       "      <th>0</th>\n",
       "      <td>Sliding_Single Row_XOX_WIN</td>\n",
       "      <td>X_WN_Sngl_SidePanel_FullFrame</td>\n",
       "      <td>2</td>\n",
       "    </tr>\n",
       "    <tr>\n",
       "      <th>1</th>\n",
       "      <td>Sliding_Single Row_XOX_WIN</td>\n",
       "      <td>X_SlidingArrow</td>\n",
       "      <td>4</td>\n",
       "    </tr>\n",
       "    <tr>\n",
       "      <th>2</th>\n",
       "      <td>Sliding_Single Row_XOOX_WIN</td>\n",
       "      <td>X_WN_Sngl_SidePanel_FullFrame</td>\n",
       "      <td>2</td>\n",
       "    </tr>\n",
       "    <tr>\n",
       "      <th>3</th>\n",
       "      <td>Sliding_Single Row_XOOX_WIN</td>\n",
       "      <td>X_SlidingArrow</td>\n",
       "      <td>4</td>\n",
       "    </tr>\n",
       "    <tr>\n",
       "      <th>4</th>\n",
       "      <td>Sliding_Single Row_XO_WIN</td>\n",
       "      <td>X_WN_Sngl_Sliding_SidePanel_FullFrame</td>\n",
       "      <td>1</td>\n",
       "    </tr>\n",
       "  </tbody>\n",
       "</table>\n",
       "</div>"
      ],
      "text/plain": [
       "                HostFamilyName                       NestedFamilyName  \\\n",
       "0   Sliding_Single Row_XOX_WIN          X_WN_Sngl_SidePanel_FullFrame   \n",
       "1   Sliding_Single Row_XOX_WIN                         X_SlidingArrow   \n",
       "2  Sliding_Single Row_XOOX_WIN          X_WN_Sngl_SidePanel_FullFrame   \n",
       "3  Sliding_Single Row_XOOX_WIN                         X_SlidingArrow   \n",
       "4    Sliding_Single Row_XO_WIN  X_WN_Sngl_Sliding_SidePanel_FullFrame   \n",
       "\n",
       "   NoOfInstances  \n",
       "0              2  \n",
       "1              4  \n",
       "2              2  \n",
       "3              4  \n",
       "4              1  "
      ]
     },
     "execution_count": 16,
     "metadata": {},
     "output_type": "execute_result"
    }
   ],
   "source": [
    "instances = nf[[\"HostFamilyName\", \"NestedFamilyName\", \"NoOfInstances\"]]\n",
    "\n",
    "instances.head()"
   ]
  },
  {
   "cell_type": "code",
   "execution_count": 17,
   "metadata": {
    "collapsed": false
   },
   "outputs": [
    {
     "data": {
      "text/html": [
       "<div>\n",
       "<table border=\"1\" class=\"dataframe\">\n",
       "  <thead>\n",
       "    <tr style=\"text-align: right;\">\n",
       "      <th></th>\n",
       "      <th>HostFamilyName</th>\n",
       "      <th>NestedFamilyName</th>\n",
       "      <th>NoOfInstances</th>\n",
       "    </tr>\n",
       "  </thead>\n",
       "  <tbody>\n",
       "    <tr>\n",
       "      <th>787</th>\n",
       "      <td>Pool Waterpolo Field_SEQ</td>\n",
       "      <td>Pool Robes</td>\n",
       "      <td>134</td>\n",
       "    </tr>\n",
       "    <tr>\n",
       "      <th>788</th>\n",
       "      <td>Pool Waterpolo Field_SEQ</td>\n",
       "      <td>Pool Robes</td>\n",
       "      <td>134</td>\n",
       "    </tr>\n",
       "    <tr>\n",
       "      <th>3862</th>\n",
       "      <td>Louvers_Holyoak with Drain Rail_CUR</td>\n",
       "      <td>Louvre Blade - Hollyoak With Drain Rail</td>\n",
       "      <td>53</td>\n",
       "    </tr>\n",
       "    <tr>\n",
       "      <th>3865</th>\n",
       "      <td>Louvers 25mm Framed (Plant Room)_CUR</td>\n",
       "      <td>Louvre Blade - 25wx25h</td>\n",
       "      <td>159</td>\n",
       "    </tr>\n",
       "    <tr>\n",
       "      <th>4483</th>\n",
       "      <td>BVN-Casework - ALL - FAMILY</td>\n",
       "      <td>COM_Shelf_Typical_CAS</td>\n",
       "      <td>157</td>\n",
       "    </tr>\n",
       "    <tr>\n",
       "      <th>4484</th>\n",
       "      <td>BVN-Casework - ALL - FAMILY</td>\n",
       "      <td>COM_Kickplate_Typical_CAS</td>\n",
       "      <td>71</td>\n",
       "    </tr>\n",
       "    <tr>\n",
       "      <th>4485</th>\n",
       "      <td>BVN-Casework - ALL - FAMILY</td>\n",
       "      <td>COM_Panel_Flush_CAS</td>\n",
       "      <td>219</td>\n",
       "    </tr>\n",
       "    <tr>\n",
       "      <th>4486</th>\n",
       "      <td>BVN-Casework - ALL - FAMILY</td>\n",
       "      <td>COM_Drawer_Typical_CAS</td>\n",
       "      <td>111</td>\n",
       "    </tr>\n",
       "    <tr>\n",
       "      <th>4487</th>\n",
       "      <td>BVN-Casework - ALL - FAMILY</td>\n",
       "      <td>COM_Swing_Typical_CAS</td>\n",
       "      <td>137</td>\n",
       "    </tr>\n",
       "    <tr>\n",
       "      <th>4496</th>\n",
       "      <td>BVN-Casework - ALL - FAMILY</td>\n",
       "      <td>COM_Handle_Square D 160mm</td>\n",
       "      <td>200</td>\n",
       "    </tr>\n",
       "  </tbody>\n",
       "</table>\n",
       "</div>"
      ],
      "text/plain": [
       "                            HostFamilyName  \\\n",
       "787               Pool Waterpolo Field_SEQ   \n",
       "788               Pool Waterpolo Field_SEQ   \n",
       "3862   Louvers_Holyoak with Drain Rail_CUR   \n",
       "3865  Louvers 25mm Framed (Plant Room)_CUR   \n",
       "4483           BVN-Casework - ALL - FAMILY   \n",
       "4484           BVN-Casework - ALL - FAMILY   \n",
       "4485           BVN-Casework - ALL - FAMILY   \n",
       "4486           BVN-Casework - ALL - FAMILY   \n",
       "4487           BVN-Casework - ALL - FAMILY   \n",
       "4496           BVN-Casework - ALL - FAMILY   \n",
       "\n",
       "                             NestedFamilyName  NoOfInstances  \n",
       "787                                Pool Robes            134  \n",
       "788                                Pool Robes            134  \n",
       "3862  Louvre Blade - Hollyoak With Drain Rail             53  \n",
       "3865                   Louvre Blade - 25wx25h            159  \n",
       "4483                    COM_Shelf_Typical_CAS            157  \n",
       "4484                COM_Kickplate_Typical_CAS             71  \n",
       "4485                      COM_Panel_Flush_CAS            219  \n",
       "4486                   COM_Drawer_Typical_CAS            111  \n",
       "4487                    COM_Swing_Typical_CAS            137  \n",
       "4496                COM_Handle_Square D 160mm            200  "
      ]
     },
     "execution_count": 17,
     "metadata": {},
     "output_type": "execute_result"
    }
   ],
   "source": [
    "high_instance = instances[instances.NoOfInstances>50]\n",
    "\n",
    "high_instance.head(10)"
   ]
  },
  {
   "cell_type": "code",
   "execution_count": 18,
   "metadata": {
    "collapsed": false
   },
   "outputs": [
    {
     "data": {
      "text/html": [
       "<div>\n",
       "<table border=\"1\" class=\"dataframe\">\n",
       "  <thead>\n",
       "    <tr>\n",
       "      <th></th>\n",
       "      <th>NestedFamilyName</th>\n",
       "      <th>NoOfInstances</th>\n",
       "    </tr>\n",
       "    <tr>\n",
       "      <th></th>\n",
       "      <th>count</th>\n",
       "      <th>count</th>\n",
       "    </tr>\n",
       "    <tr>\n",
       "      <th>HostFamilyName</th>\n",
       "      <th></th>\n",
       "      <th></th>\n",
       "    </tr>\n",
       "  </thead>\n",
       "  <tbody>\n",
       "    <tr>\n",
       "      <th>1 Bay Window</th>\n",
       "      <td>20</td>\n",
       "      <td>20</td>\n",
       "    </tr>\n",
       "    <tr>\n",
       "      <th>1 Bay Window - Non Hosted</th>\n",
       "      <td>12</td>\n",
       "      <td>12</td>\n",
       "    </tr>\n",
       "    <tr>\n",
       "      <th>10P_Perimeter_Bench_FYS</th>\n",
       "      <td>5</td>\n",
       "      <td>5</td>\n",
       "    </tr>\n",
       "    <tr>\n",
       "      <th>12P_Meeting_FYS</th>\n",
       "      <td>6</td>\n",
       "      <td>6</td>\n",
       "    </tr>\n",
       "    <tr>\n",
       "      <th>14P_Meeting_Rectangle_FYS</th>\n",
       "      <td>6</td>\n",
       "      <td>6</td>\n",
       "    </tr>\n",
       "  </tbody>\n",
       "</table>\n",
       "</div>"
      ],
      "text/plain": [
       "                          NestedFamilyName NoOfInstances\n",
       "                                     count         count\n",
       "HostFamilyName                                          \n",
       "1 Bay Window                            20            20\n",
       "1 Bay Window - Non Hosted               12            12\n",
       "10P_Perimeter_Bench_FYS                  5             5\n",
       "12P_Meeting_FYS                          6             6\n",
       "14P_Meeting_Rectangle_FYS                6             6"
      ]
     },
     "execution_count": 18,
     "metadata": {},
     "output_type": "execute_result"
    }
   ],
   "source": [
    "instance_grouped = instances.groupby(\"HostFamilyName\").agg(['count'])\n",
    "\n",
    "instance_grouped.head()"
   ]
  },
  {
   "cell_type": "code",
   "execution_count": 19,
   "metadata": {
    "collapsed": false
   },
   "outputs": [
    {
     "data": {
      "image/png": "[encoded data removed]",
      "text/plain": [
       "<matplotlib.figure.Figure at 0xc4c3748>"
      ]
     },
     "metadata": {},
     "output_type": "display_data"
    }
   ],
   "source": [
    "instance_grouped[\"NestedFamilyName\"].hist(bins=50);\n",
    "plt.title(\"Number of Nested Families within Host Families\", fontsize=20)\n",
    "plt.xlabel(\"Number of nested families\", fontsize=15)\n",
    "plt.ylabel(\"Number of families\", fontsize=15)\n",
    "plt.show()"
   ]
  }
 ],
 "metadata": {
  "celltoolbar": "Slideshow",
  "kernelspec": {
   "display_name": "Python 2",
   "language": "python",
   "name": "python2"
  },
  "language_info": {
   "codemirror_mode": {
    "name": "ipython",
    "version": 2
   },
   "file_extension": ".py",
   "mimetype": "text/x-python",
   "name": "python",
   "nbconvert_exporter": "python",
   "pygments_lexer": "ipython2",
   "version": "2.7.13"
  },
  "toc": {
   "colors": {
    "hover_highlight": "#DAA520",
    "navigate_num": "#000000",
    "navigate_text": "#333333",
    "running_highlight": "#FF0000",
    "selected_highlight": "#FFD700",
    "sidebar_border": "#EEEEEE",
    "wrapper_background": "#FFFFFF"
   },
   "moveMenuLeft": true,
   "nav_menu": {
    "height": "512px",
    "width": "252px"
   },
   "navigate_menu": true,
   "number_sections": true,
   "sideBar": false,
   "threshold": 4,
   "toc_cell": false,
   "toc_position": {
    "height": "367px",
    "left": "397.77px",
    "right": "auto",
    "top": "-421.88px",
    "width": "257px"
   },
   "toc_section_display": "block",
   "toc_window_display": true,
   "widenNotebook": false
  }
 },
 "nbformat": 4,
 "nbformat_minor": 2
}
