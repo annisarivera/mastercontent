{
 "cells": [
  {
   "cell_type": "code",
   "execution_count": 47,
   "metadata": {
    "collapsed": true,
    "hide_input": false,
    "slideshow": {
     "slide_type": "skip"
    }
   },
   "outputs": [],
   "source": [
    "import matplotlib\n",
    "import matplotlib.pyplot as plt\n",
    "import numpy as np\n",
    "import pandas as pd\n",
    "import os"
   ]
  },
  {
   "cell_type": "code",
   "execution_count": 48,
   "metadata": {
    "collapsed": true,
    "hide_input": false,
    "slideshow": {
     "slide_type": "skip"
    }
   },
   "outputs": [],
   "source": [
    "%matplotlib inline\n",
    "plt.rcParams['figure.figsize'] = (20, 10)"
   ]
  },
  {
   "cell_type": "markdown",
   "metadata": {
    "slideshow": {
     "slide_type": "slide"
    }
   },
   "source": [
    "# RETRIEVING AND BASIC FORMATTING EXCEL FILES"
   ]
  },
  {
   "cell_type": "markdown",
   "metadata": {
    "hide_input": true,
    "slideshow": {
     "slide_type": "slide"
    }
   },
   "source": [
    "## Retrieving the .xlsx files\n",
    "Find the directory where the excel files are living. \n",
    "\n",
    "Then **'excel_files'** will report what lives inside the folder. \n",
    "\n",
    "Note: Any additional excel files you want analysed will need to be put into the same location as **'directory'.**"
   ]
  },
  {
   "cell_type": "code",
   "execution_count": 49,
   "metadata": {
    "collapsed": false,
    "slideshow": {
     "slide_type": "subslide"
    }
   },
   "outputs": [
    {
     "data": {
      "text/plain": [
       "['20170706 12_20 Family Types Log.xlsx',\n",
       " '20170706 12_20 FamilyCategory Log.xlsx',\n",
       " '20170706 12_20 FamilySubCategory Log.xlsx',\n",
       " '20170706 12_20 Host Families Log.xlsx',\n",
       " '20170706 12_20 Materials Log.xlsx',\n",
       " '20170706 12_20 Nested Families Log.xlsx',\n",
       " '20170706 12_20 OmniClass Log.xlsx',\n",
       " '20170706 12_20 Parameters Log.xlsx',\n",
       " '20170706 12_20 ParameterValuesByTypes Log.xlsx',\n",
       " '20170706 12_20 Reference Planes Log.xlsx',\n",
       " '20170706 12_20 Units Log.xlsx']"
      ]
     },
     "execution_count": 49,
     "metadata": {},
     "output_type": "execute_result"
    }
   ],
   "source": [
    "directory = r\"\\\\dc2-file001\\Practice\\InfoTech\\BIM\\Revit\\RevitStandardsMasterBVN\\02_BVN_Library\\Master Content\\X_Data\\Data - ARR\\_CONSOLIDATED v3\"\n",
    "files = os.listdir(directory)\n",
    "excel_files = []\n",
    "for f in files:\n",
    "    if \".xlsx\" in f:\n",
    "        excel_files.append(f)\n",
    "excel_files"
   ]
  },
  {
   "cell_type": "markdown",
   "metadata": {
    "hide_input": true,
    "slideshow": {
     "slide_type": "skip"
    }
   },
   "source": [
    "## xlsx. key and values\n",
    "\n",
    "Use <b>keys</b> to pair each key with each excel file in <b>excel_files</b>. This is so that you don't have to type the long file name everytime you need to call it in the rest of the code. \n",
    "\n",
    "<b>file_dict</b> will tell you which excel file is paired with each key."
   ]
  },
  {
   "cell_type": "code",
   "execution_count": 50,
   "metadata": {
    "collapsed": false,
    "hide_input": false
   },
   "outputs": [
    {
     "data": {
      "text/plain": [
       "{'FamilyCategory': '20170706 12_20 FamilyCategory Log.xlsx',\n",
       " 'FamilySubCategory': '20170706 12_20 FamilySubCategory Log.xlsx',\n",
       " 'FamilyTypes': '20170706 12_20 Family Types Log.xlsx',\n",
       " 'HostFamilies': '20170706 12_20 Host Families Log.xlsx',\n",
       " 'Materials': '20170706 12_20 Materials Log.xlsx',\n",
       " 'NestedFamilies': '20170706 12_20 Nested Families Log.xlsx',\n",
       " 'Omniclass': '20170706 12_20 OmniClass Log.xlsx',\n",
       " 'ParameterValuesByTypes': '20170706 12_20 ParameterValuesByTypes Log.xlsx',\n",
       " 'Parameters': '20170706 12_20 Parameters Log.xlsx',\n",
       " 'ReferencePlanes': '20170706 12_20 Reference Planes Log.xlsx',\n",
       " 'Units': '20170706 12_20 Units Log.xlsx'}"
      ]
     },
     "execution_count": 50,
     "metadata": {},
     "output_type": "execute_result"
    }
   ],
   "source": [
    "keys = [\n",
    "        \"FamilyTypes\",\n",
    "        \"FamilyCategory\",\n",
    "        \"FamilySubCategory\",\n",
    "        \"HostFamilies\",\n",
    "        \"Materials\",\n",
    "        \"NestedFamilies\",\n",
    "        \"Omniclass\",\n",
    "        \"Parameters\",\n",
    "        \"ParameterValuesByTypes\",\n",
    "        \"ReferencePlanes\",\n",
    "        \"Units\",\n",
    "        \n",
    "       ]\n",
    "\n",
    "file_dict = {key: value for (key, value) in zip(keys, excel_files)}\n",
    "file_dict"
   ]
  },
  {
   "cell_type": "markdown",
   "metadata": {
    "slideshow": {
     "slide_type": "slide"
    }
   },
   "source": [
    "## FUNCTIONS TO FORMAT EXCEL FILES"
   ]
  },
  {
   "cell_type": "markdown",
   "metadata": {
    "slideshow": {
     "slide_type": "slide"
    }
   },
   "source": [
    "### Removing the common file path characters from original family file path name\n",
    "\n",
    "The example file path below is very long. In order to cut the fat out of the long file path, the common characters from each file path is removed. \n",
    "\n",
    "\\\\dc2-file001\\Practice\\InfoTech\\BIM\\Revit\\RevitStandardsMasterBVN\\02_BVN_Library\\Master Content\\Windows\\Double Hung\\Double Hung_3 Panel.rfa\n",
    "\n",
    "Therefore, the start of the file path <b>\\\\dc2-file001\\Practice\\InfoTech\\BIM\\Revit\\RevitStandardsMasterBVN\\02_BVN_Library\\Master Content</b> is removed in every spreadsheet."
   ]
  },
  {
   "cell_type": "markdown",
   "metadata": {
    "slideshow": {
     "slide_type": "slide"
    }
   },
   "source": [
    "### Removing the rfa. name from FamilyFilePath.\n",
    "\n",
    "In the excel files, the family name (.rfa) is part of the FamilyFilePath column.\n",
    "\n",
    "e.g. \\\\dc2-file001\\Practice\\InfoTech\\BIM\\Revit\\RevitStandardsMasterBVN\\02_BVN_Library\\Master Content\\Windows\\Special\\<u>Window Lancet_basic.rfa</u>"
   ]
  },
  {
   "cell_type": "markdown",
   "metadata": {
    "slideshow": {
     "slide_type": "slide"
    }
   },
   "source": [
    "### Determines whether the family is an .rfa or from a .txt catalogue file.\n",
    "\n",
    "<b> remove_rfaName</b> removes the family name from the FamilyFilePath column. This allows us to find things such as the count of how many families there are within a particular master content folder. It splits the <b>full_filepath</b> path by each \\ .\n",
    "\n",
    "<b>joined_again</b> will join the file path back through the \\ except for the last one. The new file path is appended on a FamilyFilePath column."
   ]
  },
  {
   "cell_type": "markdown",
   "metadata": {
    "slideshow": {
     "slide_type": "slide"
    }
   },
   "source": [
    "### Determines whether the family is an .rfa or from a .txt catalogue file.\n",
    "<b>getFileType</b> removes the last three characters from the FamilyFilePath.\n",
    "\n",
    "<b>stripFileType</b> removes the last four characters (including the '.') from the FamilyName."
   ]
  },
  {
   "cell_type": "code",
   "execution_count": 51,
   "metadata": {
    "collapsed": false,
    "hide_input": false,
    "slideshow": {
     "slide_type": "subslide"
    }
   },
   "outputs": [
    {
     "name": "stdout",
     "output_type": "stream",
     "text": [
      "95\n"
     ]
    }
   ],
   "source": [
    "commonPartofFilePath = len(r'\\\\dc2-file001\\Practice\\InfoTech\\BIM\\Revit\\RevitStandardsMasterBVN\\02_BVN_Library\\Master Content')\n",
    "print commonPartofFilePath\n",
    "def stripCommonPath(row):\n",
    "        return row.FamilyFilePath[commonPartofFilePath+1:]\n",
    "    \n",
    "def remove_rfaName(row):\n",
    "    full_filepath = row.FamilyFilePath\n",
    "    split = full_filepath.split(\"\\\\\")[:-1]\n",
    "    joined_again = (\"\\\\\".join(split))\n",
    "    return  joined_again\n",
    "\n",
    "def getFileType(row):\n",
    "    return row.FamilyFilePath[-3:]\n",
    "\n",
    "def stripFileType(row):\n",
    "    return row.FamilyName[:-4]"
   ]
  },
  {
   "cell_type": "markdown",
   "metadata": {},
   "source": [
    "# FAMILY TYPES\n",
    "\n",
    "<b>ft</b> and <b>ft_path</b> reads from the Family Types excel file."
   ]
  },
  {
   "cell_type": "code",
   "execution_count": 61,
   "metadata": {
    "collapsed": false
   },
   "outputs": [
    {
     "data": {
      "text/html": [
       "<div>\n",
       "<table border=\"1\" class=\"dataframe\">\n",
       "  <thead>\n",
       "    <tr style=\"text-align: right;\">\n",
       "      <th></th>\n",
       "      <th>FamilyFilePath</th>\n",
       "      <th>FamilyName</th>\n",
       "      <th>FamilyTypeName</th>\n",
       "      <th>fileType</th>\n",
       "    </tr>\n",
       "  </thead>\n",
       "  <tbody>\n",
       "    <tr>\n",
       "      <th>0</th>\n",
       "      <td>Windows\\Structural</td>\n",
       "      <td>Window_Square Opening_WIN</td>\n",
       "      <td>0400 x 1200mm</td>\n",
       "      <td>rfa</td>\n",
       "    </tr>\n",
       "    <tr>\n",
       "      <th>1</th>\n",
       "      <td>Windows\\Structural</td>\n",
       "      <td>Window_Square Opening_WIN</td>\n",
       "      <td>0400 x 1800mm</td>\n",
       "      <td>rfa</td>\n",
       "    </tr>\n",
       "    <tr>\n",
       "      <th>2</th>\n",
       "      <td>Windows\\Structural</td>\n",
       "      <td>Window_Square Opening_WIN</td>\n",
       "      <td>0400 x 600mm</td>\n",
       "      <td>rfa</td>\n",
       "    </tr>\n",
       "    <tr>\n",
       "      <th>3</th>\n",
       "      <td>Windows\\Structural</td>\n",
       "      <td>Window_Square Opening_WIN</td>\n",
       "      <td>0600 x 1200mm</td>\n",
       "      <td>rfa</td>\n",
       "    </tr>\n",
       "    <tr>\n",
       "      <th>4</th>\n",
       "      <td>Windows\\Structural</td>\n",
       "      <td>Window_Square Opening_WIN</td>\n",
       "      <td>0600 x 1800mm</td>\n",
       "      <td>rfa</td>\n",
       "    </tr>\n",
       "  </tbody>\n",
       "</table>\n",
       "</div>"
      ],
      "text/plain": [
       "       FamilyFilePath                 FamilyName FamilyTypeName fileType\n",
       "0  Windows\\Structural  Window_Square Opening_WIN  0400 x 1200mm      rfa\n",
       "1  Windows\\Structural  Window_Square Opening_WIN  0400 x 1800mm      rfa\n",
       "2  Windows\\Structural  Window_Square Opening_WIN   0400 x 600mm      rfa\n",
       "3  Windows\\Structural  Window_Square Opening_WIN  0600 x 1200mm      rfa\n",
       "4  Windows\\Structural  Window_Square Opening_WIN  0600 x 1800mm      rfa"
      ]
     },
     "execution_count": 61,
     "metadata": {},
     "output_type": "execute_result"
    }
   ],
   "source": [
    "ft_path = os.path.join(directory, file_dict[\"FamilyTypes\"])\n",
    "ft = pd.read_excel(ft_path)\n",
    "\n",
    "ft[\"fileType\"] = ft.apply(getFileType, axis=1)\n",
    "ft[\"FamilyName\"] = ft.apply(stripFileType, axis=1)\n",
    "ft[\"FamilyFilePath\"] = ft.apply(remove_rfaName, axis=1)\n",
    "ft[\"FamilyFilePath\"] = ft.apply(stripCommonPath, axis=1)\n",
    "\n",
    "\n",
    "ft.head()"
   ]
  },
  {
   "cell_type": "markdown",
   "metadata": {},
   "source": [
    "## No. of Family Types\n",
    "\n",
    "<b>ft_counts</b> will count the number of family types there are for each family."
   ]
  },
  {
   "cell_type": "code",
   "execution_count": 62,
   "metadata": {
    "collapsed": true
   },
   "outputs": [],
   "source": [
    "ft_counts = ft.FamilyName.value_counts()"
   ]
  },
  {
   "cell_type": "code",
   "execution_count": 63,
   "metadata": {
    "collapsed": false
   },
   "outputs": [
    {
     "data": {
      "image/png": "[encoded data removed]",
      "text/plain": [
       "<matplotlib.figure.Figure at 0xd14a7f0>"
      ]
     },
     "metadata": {},
     "output_type": "display_data"
    }
   ],
   "source": [
    "plt.hist(ft_counts, bins=20)\n",
    "plt.title(\"Number of Family Types across Master Content\", fontsize=20)\n",
    "plt.xlabel(\"Number of Family Types\", fontsize=15)\n",
    "plt.ylabel(\"Number of Families\", fontsize=15)\n",
    "plt.show()"
   ]
  },
  {
   "cell_type": "markdown",
   "metadata": {},
   "source": [
    "## No. of Family Types (Highest Offenders)\n",
    "\n",
    "Use <b>cutoff</b> to filter the graph based on the number of families there are in a category.\n",
    "\n",
    "e.g. cutoff > 50"
   ]
  },
  {
   "cell_type": "code",
   "execution_count": 64,
   "metadata": {
    "collapsed": false,
    "slideshow": {
     "slide_type": "slide"
    }
   },
   "outputs": [
    {
     "data": {
      "image/png": "[encoded data removed]",
      "text/plain": [
       "<matplotlib.figure.Figure at 0xd14a6d8>"
      ]
     },
     "metadata": {},
     "output_type": "display_data"
    }
   ],
   "source": [
    "cutoff = 50\n",
    "\n",
    "plt.hist(ft_counts[ft_counts>cutoff])\n",
    "plt.title(\"Number of Family Types across Master Content (Over 50 Family Types)\", fontsize=20)\n",
    "plt.xlabel(\"Number of Family Types\", fontsize=15)\n",
    "plt.ylabel(\"Number of Families\", fontsize=15)\n",
    "plt.show()"
   ]
  },
  {
   "cell_type": "markdown",
   "metadata": {
    "slideshow": {
     "slide_type": "slide"
    }
   },
   "source": [
    "## Families with 50+ family types"
   ]
  },
  {
   "cell_type": "code",
   "execution_count": 65,
   "metadata": {
    "collapsed": false,
    "slideshow": {
     "slide_type": "slide"
    }
   },
   "outputs": [
    {
     "data": {
      "text/plain": [
       "Supply Diffuser_Sidewall                             529\n",
       "HSS_Hollow Structural Section_Pro                    333\n",
       "CISC Wide Flange Shapes_Top                          294\n",
       "CISC Wide Flange Shapes_Side                         294\n",
       "CISC Wide Flange Shapes_Section                      294\n",
       "W_Wide Flange                                        274\n",
       "WT_Structural Tee                                    267\n",
       "W_Wide Flange_Pro                                    267\n",
       "WT_Structural Tee_Pro                                267\n",
       "Table_HermanMiller_DU6ACS_RectangularTable_C_Foot    192\n",
       "CISC WT Shapes_Side                                  190\n",
       "CISC WT Shapes_Section                               190\n",
       "CISC WT Shapes_Top                                   190\n",
       "Table_HermanMiller_DU6ATS_RectangularTable_T_Foot    180\n",
       "VAV Outlet Plenum_Wye                                153\n",
       "VAV Outlet Plenum_Elbow                              153\n",
       "Louvre_Extruded_200 mm Pitch                         150\n",
       "Plate                                                142\n",
       "CISC Tube Shapes_Side                                126\n",
       "CISC Tube Shapes_Top                                 126\n",
       "CISC Tube Shapes_Section                             126\n",
       "Linear Stiffener_Angle                               125\n",
       "L_Angle_Pro                                          125\n",
       "COM_Host_WI                                          120\n",
       "Flat Bar                                             116\n",
       "FB_Flat Bar_Framing                                  116\n",
       "FB_Flat Bar_Column                                   116\n",
       "SHS_Square Hollow Section_Framing                    115\n",
       "SHS_Square Hollow Section                            115\n",
       "SHS_Square Hollow Section_Column                     115\n",
       "CHS_Circular Hollow Section                          113\n",
       "CHS_Circular Hollow Section_Framing                  113\n",
       "CHS_Circular Hollow Section_Column                   113\n",
       "Table_HermanMiller_DU6DTS_OvalTable_T_Foot           108\n",
       "CISC Angle Shapes_Side                               106\n",
       "CISC Angle Shapes_Top                                106\n",
       "CISC Angle Shapes_Section                            106\n",
       "RHS_Rectangular Hollow Section                       100\n",
       "RHS_Rectangular Hollow Section_Framing               100\n",
       "RHS_Rectangular Hollow Section_Column                100\n",
       "VAV Outlet Plenum_Cross                               85\n",
       "VAV Outlet Plenum_Double Wye                          85\n",
       "VAV Outlet Plenum_Tee                                 85\n",
       "LH_Series Bar Joist                                   80\n",
       "Timber Stud_Section                                   80\n",
       "Timber Stud_Section_DCO                               80\n",
       "Swing_Single_DOR -                                    78\n",
       "Swing_Single                                          78\n",
       "UB_Universal Beam_Pro                                 73\n",
       "Weights equipment_SEQ                                 67\n",
       "Cupboard                                              66\n",
       "Cupboard_CAS                                          66\n",
       "K_Series Bar Joist_Rod Web                            64\n",
       "UBT - Structural Tee - Section (AUS)                  64\n",
       "K_Series Bar Joist_Angle Web                          64\n",
       "CISC HS Pipe Shapes_Section                           63\n",
       "CISC HS Pipe Shapes_Top                               63\n",
       "CISC HS Pipe Shapes_Side                              63\n",
       "Timber_Column                                         56\n",
       "Timber                                                56\n",
       "Name: FamilyName, dtype: int64"
      ]
     },
     "execution_count": 65,
     "metadata": {},
     "output_type": "execute_result"
    }
   ],
   "source": [
    "ft_counts[ft_counts>50]"
   ]
  },
  {
   "cell_type": "markdown",
   "metadata": {},
   "source": [
    "## Families with 500+ family types?\n",
    "\n",
    "The high count of family types means that these families have a Revit catalogue file attached to it. \n",
    "\n",
    "The code below differentiates the .txt catalogue files from the .rfa files."
   ]
  },
  {
   "cell_type": "markdown",
   "metadata": {},
   "source": [
    "## .rfa vs .txt Family Types \n",
    "\n",
    "### Filtering for .txt files\n",
    "\n",
    "<b>ft_hasTxt</b> filters for family types that are from txt catalog files."
   ]
  },
  {
   "cell_type": "code",
   "execution_count": 66,
   "metadata": {
    "collapsed": false
   },
   "outputs": [
    {
     "data": {
      "text/html": [
       "<div>\n",
       "<table border=\"1\" class=\"dataframe\">\n",
       "  <thead>\n",
       "    <tr style=\"text-align: right;\">\n",
       "      <th></th>\n",
       "      <th>FamilyFilePath</th>\n",
       "      <th>FamilyName</th>\n",
       "      <th>FamilyTypeName</th>\n",
       "      <th>fileType</th>\n",
       "    </tr>\n",
       "  </thead>\n",
       "  <tbody>\n",
       "    <tr>\n",
       "      <th>78</th>\n",
       "      <td>Windows\\New Windows - Based on the Curtain Wal...</td>\n",
       "      <td>COM_Host_WI</td>\n",
       "      <td>Awning A</td>\n",
       "      <td>txt</td>\n",
       "    </tr>\n",
       "    <tr>\n",
       "      <th>79</th>\n",
       "      <td>Windows\\New Windows - Based on the Curtain Wal...</td>\n",
       "      <td>COM_Host_WI</td>\n",
       "      <td>Awning A+H</td>\n",
       "      <td>txt</td>\n",
       "    </tr>\n",
       "    <tr>\n",
       "      <th>80</th>\n",
       "      <td>Windows\\New Windows - Based on the Curtain Wal...</td>\n",
       "      <td>COM_Host_WI</td>\n",
       "      <td>Awning A+T</td>\n",
       "      <td>txt</td>\n",
       "    </tr>\n",
       "    <tr>\n",
       "      <th>81</th>\n",
       "      <td>Windows\\New Windows - Based on the Curtain Wal...</td>\n",
       "      <td>COM_Host_WI</td>\n",
       "      <td>Awning A+TH</td>\n",
       "      <td>txt</td>\n",
       "    </tr>\n",
       "    <tr>\n",
       "      <th>82</th>\n",
       "      <td>Windows\\New Windows - Based on the Curtain Wal...</td>\n",
       "      <td>COM_Host_WI</td>\n",
       "      <td>Awning AA</td>\n",
       "      <td>txt</td>\n",
       "    </tr>\n",
       "  </tbody>\n",
       "</table>\n",
       "</div>"
      ],
      "text/plain": [
       "                                       FamilyFilePath   FamilyName  \\\n",
       "78  Windows\\New Windows - Based on the Curtain Wal...  COM_Host_WI   \n",
       "79  Windows\\New Windows - Based on the Curtain Wal...  COM_Host_WI   \n",
       "80  Windows\\New Windows - Based on the Curtain Wal...  COM_Host_WI   \n",
       "81  Windows\\New Windows - Based on the Curtain Wal...  COM_Host_WI   \n",
       "82  Windows\\New Windows - Based on the Curtain Wal...  COM_Host_WI   \n",
       "\n",
       "   FamilyTypeName fileType  \n",
       "78       Awning A      txt  \n",
       "79     Awning A+H      txt  \n",
       "80     Awning A+T      txt  \n",
       "81    Awning A+TH      txt  \n",
       "82      Awning AA      txt  "
      ]
     },
     "execution_count": 66,
     "metadata": {},
     "output_type": "execute_result"
    }
   ],
   "source": [
    "ft_hasTxt = ft[ft.fileType==\"txt\"]\n",
    "ft_hasTxt.head()"
   ]
  },
  {
   "cell_type": "markdown",
   "metadata": {},
   "source": [
    "### Filtering for .rfa files\n",
    "\n",
    "<b>ft_noTxt</b> filters for family types that are from within the Revit family."
   ]
  },
  {
   "cell_type": "code",
   "execution_count": 67,
   "metadata": {
    "collapsed": false
   },
   "outputs": [
    {
     "data": {
      "text/html": [
       "<div>\n",
       "<table border=\"1\" class=\"dataframe\">\n",
       "  <thead>\n",
       "    <tr style=\"text-align: right;\">\n",
       "      <th></th>\n",
       "      <th>FamilyFilePath</th>\n",
       "      <th>FamilyName</th>\n",
       "      <th>FamilyTypeName</th>\n",
       "      <th>fileType</th>\n",
       "    </tr>\n",
       "  </thead>\n",
       "  <tbody>\n",
       "    <tr>\n",
       "      <th>0</th>\n",
       "      <td>Windows\\Structural</td>\n",
       "      <td>Window_Square Opening_WIN</td>\n",
       "      <td>0400 x 1200mm</td>\n",
       "      <td>rfa</td>\n",
       "    </tr>\n",
       "    <tr>\n",
       "      <th>1</th>\n",
       "      <td>Windows\\Structural</td>\n",
       "      <td>Window_Square Opening_WIN</td>\n",
       "      <td>0400 x 1800mm</td>\n",
       "      <td>rfa</td>\n",
       "    </tr>\n",
       "    <tr>\n",
       "      <th>2</th>\n",
       "      <td>Windows\\Structural</td>\n",
       "      <td>Window_Square Opening_WIN</td>\n",
       "      <td>0400 x 600mm</td>\n",
       "      <td>rfa</td>\n",
       "    </tr>\n",
       "    <tr>\n",
       "      <th>3</th>\n",
       "      <td>Windows\\Structural</td>\n",
       "      <td>Window_Square Opening_WIN</td>\n",
       "      <td>0600 x 1200mm</td>\n",
       "      <td>rfa</td>\n",
       "    </tr>\n",
       "    <tr>\n",
       "      <th>4</th>\n",
       "      <td>Windows\\Structural</td>\n",
       "      <td>Window_Square Opening_WIN</td>\n",
       "      <td>0600 x 1800mm</td>\n",
       "      <td>rfa</td>\n",
       "    </tr>\n",
       "    <tr>\n",
       "      <th>5</th>\n",
       "      <td>Windows\\Structural</td>\n",
       "      <td>Window_Square Opening_WIN</td>\n",
       "      <td>0600 x 600mm</td>\n",
       "      <td>rfa</td>\n",
       "    </tr>\n",
       "    <tr>\n",
       "      <th>6</th>\n",
       "      <td>Windows\\Structural</td>\n",
       "      <td>Window_Square Opening_WIN</td>\n",
       "      <td>0900 x 1200mm</td>\n",
       "      <td>rfa</td>\n",
       "    </tr>\n",
       "    <tr>\n",
       "      <th>7</th>\n",
       "      <td>Windows\\Structural</td>\n",
       "      <td>Window_Square Opening_WIN</td>\n",
       "      <td>0900 x 1800mm</td>\n",
       "      <td>rfa</td>\n",
       "    </tr>\n",
       "    <tr>\n",
       "      <th>8</th>\n",
       "      <td>Windows\\Structural</td>\n",
       "      <td>Window_Square Opening_WIN</td>\n",
       "      <td>0900 x 600mm</td>\n",
       "      <td>rfa</td>\n",
       "    </tr>\n",
       "    <tr>\n",
       "      <th>9</th>\n",
       "      <td>Windows\\Structural</td>\n",
       "      <td>Window_Round Opening_WIN</td>\n",
       "      <td>0300mm Diameter</td>\n",
       "      <td>rfa</td>\n",
       "    </tr>\n",
       "  </tbody>\n",
       "</table>\n",
       "</div>"
      ],
      "text/plain": [
       "       FamilyFilePath                 FamilyName   FamilyTypeName fileType\n",
       "0  Windows\\Structural  Window_Square Opening_WIN    0400 x 1200mm      rfa\n",
       "1  Windows\\Structural  Window_Square Opening_WIN    0400 x 1800mm      rfa\n",
       "2  Windows\\Structural  Window_Square Opening_WIN     0400 x 600mm      rfa\n",
       "3  Windows\\Structural  Window_Square Opening_WIN    0600 x 1200mm      rfa\n",
       "4  Windows\\Structural  Window_Square Opening_WIN    0600 x 1800mm      rfa\n",
       "5  Windows\\Structural  Window_Square Opening_WIN     0600 x 600mm      rfa\n",
       "6  Windows\\Structural  Window_Square Opening_WIN    0900 x 1200mm      rfa\n",
       "7  Windows\\Structural  Window_Square Opening_WIN    0900 x 1800mm      rfa\n",
       "8  Windows\\Structural  Window_Square Opening_WIN     0900 x 600mm      rfa\n",
       "9  Windows\\Structural   Window_Round Opening_WIN  0300mm Diameter      rfa"
      ]
     },
     "execution_count": 67,
     "metadata": {},
     "output_type": "execute_result"
    }
   ],
   "source": [
    "ft_noTxt = ft[ft.fileType==\"rfa\"]\n",
    "ft_noTxt.head(10)"
   ]
  },
  {
   "cell_type": "markdown",
   "metadata": {},
   "source": [
    "### No. of .txt vs .rfa family types\n",
    "\n",
    "<b>fileType_counts</b> counts the number of .rfa vs .txt family types."
   ]
  },
  {
   "cell_type": "code",
   "execution_count": 68,
   "metadata": {
    "collapsed": false
   },
   "outputs": [],
   "source": [
    "fileType_counts = ft.fileType.value_counts()"
   ]
  },
  {
   "cell_type": "code",
   "execution_count": 69,
   "metadata": {
    "collapsed": false
   },
   "outputs": [
    {
     "data": {
      "image/png": "[encoded data removed]",
      "text/plain": [
       "<matplotlib.figure.Figure at 0x1059dcf8>"
      ]
     },
     "metadata": {},
     "output_type": "display_data"
    }
   ],
   "source": [
    "fileType_counts.plot(kind=\"bar\", grid=True, fontsize=15)\n",
    "plt.title(\"Number of Family Types (.rfa vs .txt)\", fontsize=20)\n",
    "plt.xlabel(\"File Type\", fontsize=15)\n",
    "plt.ylabel(\"Number of family types\", fontsize=15)\n",
    "plt.show()"
   ]
  },
  {
   "cell_type": "markdown",
   "metadata": {},
   "source": [
    "### No. of Family Types for native .rfa families\n",
    "\n",
    "<b>rfaType_counts</b> counts the number of family types within the native rfa family."
   ]
  },
  {
   "cell_type": "code",
   "execution_count": 70,
   "metadata": {
    "collapsed": false
   },
   "outputs": [
    {
     "data": {
      "text/html": [
       "<div>\n",
       "<table border=\"1\" class=\"dataframe\">\n",
       "  <thead>\n",
       "    <tr style=\"text-align: right;\">\n",
       "      <th></th>\n",
       "      <th>FamilyTypeName</th>\n",
       "    </tr>\n",
       "    <tr>\n",
       "      <th>FamilyName</th>\n",
       "      <th></th>\n",
       "    </tr>\n",
       "  </thead>\n",
       "  <tbody>\n",
       "    <tr>\n",
       "      <th>1 Bay Window</th>\n",
       "      <td>4</td>\n",
       "    </tr>\n",
       "    <tr>\n",
       "      <th>1 Bay Window - Non Hosted</th>\n",
       "      <td>2</td>\n",
       "    </tr>\n",
       "    <tr>\n",
       "      <th>10P_Perimeter_Bench_FYS</th>\n",
       "      <td>1</td>\n",
       "    </tr>\n",
       "    <tr>\n",
       "      <th>115_BVNDH_WC Cubicle</th>\n",
       "      <td>3</td>\n",
       "    </tr>\n",
       "    <tr>\n",
       "      <th>12P_Meeting_FYS</th>\n",
       "      <td>1</td>\n",
       "    </tr>\n",
       "  </tbody>\n",
       "</table>\n",
       "</div>"
      ],
      "text/plain": [
       "                           FamilyTypeName\n",
       "FamilyName                               \n",
       "1 Bay Window                            4\n",
       "1 Bay Window - Non Hosted               2\n",
       "10P_Perimeter_Bench_FYS                 1\n",
       "115_BVNDH_WC Cubicle                    3\n",
       "12P_Meeting_FYS                         1"
      ]
     },
     "execution_count": 70,
     "metadata": {},
     "output_type": "execute_result"
    }
   ],
   "source": [
    "rfaType_counts = ft_noTxt[[\"FamilyName\",\"FamilyTypeName\"]].groupby(\"FamilyName\").agg(\"count\")\n",
    "\n",
    "rfaType_counts.head()"
   ]
  },
  {
   "cell_type": "code",
   "execution_count": 71,
   "metadata": {
    "collapsed": false,
    "scrolled": false
   },
   "outputs": [
    {
     "data": {
      "text/plain": [
       "<matplotlib.text.Text at 0xd4cec88>"
      ]
     },
     "execution_count": 71,
     "metadata": {},
     "output_type": "execute_result"
    },
    {
     "data": {
      "image/png": "[encoded data removed]",
      "text/plain": [
       "<matplotlib.figure.Figure at 0xee94048>"
      ]
     },
     "metadata": {},
     "output_type": "display_data"
    }
   ],
   "source": [
    "rfaType_counts.hist(bins=100)\n",
    "plt.title(\"Number of Family Types for .rfa families\", fontsize=20)\n",
    "plt.xlabel(\"Number of Family Types\", fontsize=15)\n",
    "plt.ylabel(\"Number of Families\", fontsize=15)"
   ]
  },
  {
   "cell_type": "markdown",
   "metadata": {},
   "source": [
    "### No. of Family Types for native .rfa families (Worst Offenders)"
   ]
  },
  {
   "cell_type": "code",
   "execution_count": 72,
   "metadata": {
    "collapsed": false,
    "scrolled": true
   },
   "outputs": [
    {
     "data": {
      "text/html": [
       "<div>\n",
       "<table border=\"1\" class=\"dataframe\">\n",
       "  <thead>\n",
       "    <tr style=\"text-align: right;\">\n",
       "      <th></th>\n",
       "      <th>FamilyTypeName</th>\n",
       "    </tr>\n",
       "    <tr>\n",
       "      <th>FamilyName</th>\n",
       "      <th></th>\n",
       "    </tr>\n",
       "  </thead>\n",
       "  <tbody>\n",
       "    <tr>\n",
       "      <th>Cupboard_CAS</th>\n",
       "      <td>66</td>\n",
       "    </tr>\n",
       "    <tr>\n",
       "      <th>Timber Stud_Section_DCO</th>\n",
       "      <td>80</td>\n",
       "    </tr>\n",
       "    <tr>\n",
       "      <th>Weights equipment_SEQ</th>\n",
       "      <td>67</td>\n",
       "    </tr>\n",
       "  </tbody>\n",
       "</table>\n",
       "</div>"
      ],
      "text/plain": [
       "                         FamilyTypeName\n",
       "FamilyName                             \n",
       "Cupboard_CAS                         66\n",
       "Timber Stud_Section_DCO              80\n",
       "Weights equipment_SEQ                67"
      ]
     },
     "execution_count": 72,
     "metadata": {},
     "output_type": "execute_result"
    }
   ],
   "source": [
    "rfaType_counts[rfaType_counts.FamilyTypeName>50]"
   ]
  },
  {
   "cell_type": "markdown",
   "metadata": {},
   "source": [
    "### No. of Family Types from .txt files"
   ]
  },
  {
   "cell_type": "code",
   "execution_count": 73,
   "metadata": {
    "collapsed": true
   },
   "outputs": [],
   "source": [
    "txtType_counts = ft_hasTxt[[\"FamilyName\",\"FamilyTypeName\"]].groupby(\"FamilyName\").agg(\"count\")"
   ]
  },
  {
   "cell_type": "code",
   "execution_count": 74,
   "metadata": {
    "collapsed": false
   },
   "outputs": [
    {
     "data": {
      "image/png": "[encoded data removed]",
      "text/plain": [
       "<matplotlib.figure.Figure at 0xde8b048>"
      ]
     },
     "metadata": {},
     "output_type": "display_data"
    }
   ],
   "source": [
    "txtType_counts.hist(bins=100)\n",
    "plt.title(\"Number of Family Types for families with .txt files\", fontsize=20)\n",
    "plt.xlabel(\"Number of Family Types\", fontsize=15)\n",
    "plt.ylabel(\"Number of Families\", fontsize=15)\n",
    "plt.show()"
   ]
  },
  {
   "cell_type": "markdown",
   "metadata": {},
   "source": [
    "### No. of Family Types from .txt files > 200"
   ]
  },
  {
   "cell_type": "code",
   "execution_count": 75,
   "metadata": {
    "collapsed": false
   },
   "outputs": [
    {
     "data": {
      "text/html": [
       "<div>\n",
       "<table border=\"1\" class=\"dataframe\">\n",
       "  <thead>\n",
       "    <tr style=\"text-align: right;\">\n",
       "      <th></th>\n",
       "      <th>FamilyTypeName</th>\n",
       "    </tr>\n",
       "    <tr>\n",
       "      <th>FamilyName</th>\n",
       "      <th></th>\n",
       "    </tr>\n",
       "  </thead>\n",
       "  <tbody>\n",
       "    <tr>\n",
       "      <th>CISC Wide Flange Shapes_Section</th>\n",
       "      <td>294</td>\n",
       "    </tr>\n",
       "    <tr>\n",
       "      <th>CISC Wide Flange Shapes_Side</th>\n",
       "      <td>294</td>\n",
       "    </tr>\n",
       "    <tr>\n",
       "      <th>CISC Wide Flange Shapes_Top</th>\n",
       "      <td>294</td>\n",
       "    </tr>\n",
       "    <tr>\n",
       "      <th>HSS_Hollow Structural Section_Pro</th>\n",
       "      <td>333</td>\n",
       "    </tr>\n",
       "    <tr>\n",
       "      <th>Supply Diffuser_Sidewall</th>\n",
       "      <td>529</td>\n",
       "    </tr>\n",
       "    <tr>\n",
       "      <th>WT_Structural Tee</th>\n",
       "      <td>267</td>\n",
       "    </tr>\n",
       "    <tr>\n",
       "      <th>WT_Structural Tee_Pro</th>\n",
       "      <td>267</td>\n",
       "    </tr>\n",
       "    <tr>\n",
       "      <th>W_Wide Flange</th>\n",
       "      <td>274</td>\n",
       "    </tr>\n",
       "    <tr>\n",
       "      <th>W_Wide Flange_Pro</th>\n",
       "      <td>267</td>\n",
       "    </tr>\n",
       "  </tbody>\n",
       "</table>\n",
       "</div>"
      ],
      "text/plain": [
       "                                   FamilyTypeName\n",
       "FamilyName                                       \n",
       "CISC Wide Flange Shapes_Section               294\n",
       "CISC Wide Flange Shapes_Side                  294\n",
       "CISC Wide Flange Shapes_Top                   294\n",
       "HSS_Hollow Structural Section_Pro             333\n",
       "Supply Diffuser_Sidewall                      529\n",
       "WT_Structural Tee                             267\n",
       "WT_Structural Tee_Pro                         267\n",
       "W_Wide Flange                                 274\n",
       "W_Wide Flange_Pro                             267"
      ]
     },
     "execution_count": 75,
     "metadata": {},
     "output_type": "execute_result"
    }
   ],
   "source": [
    "txtType_counts[txtType_counts.FamilyTypeName>200]"
   ]
  },
  {
   "cell_type": "markdown",
   "metadata": {},
   "source": [
    "### ***REVISIT***"
   ]
  },
  {
   "cell_type": "code",
   "execution_count": 76,
   "metadata": {
    "collapsed": false
   },
   "outputs": [
    {
     "name": "stderr",
     "output_type": "stream",
     "text": [
      "Q:\\Users\\arivera\\AppData\\Local\\Continuum\\Anaconda2\\lib\\site-packages\\ipykernel\\__main__.py:8: SettingWithCopyWarning: \n",
      "A value is trying to be set on a copy of a slice from a DataFrame.\n",
      "Try using .loc[row_indexer,col_indexer] = value instead\n",
      "\n",
      "See the caveats in the documentation: http://pandas.pydata.org/pandas-docs/stable/indexing.html#indexing-view-versus-copy\n"
     ]
    },
    {
     "data": {
      "text/html": [
       "<div>\n",
       "<table border=\"1\" class=\"dataframe\">\n",
       "  <thead>\n",
       "    <tr style=\"text-align: right;\">\n",
       "      <th></th>\n",
       "      <th>FamilyFilePath</th>\n",
       "      <th>FamilyName</th>\n",
       "      <th>FamilyTypeName</th>\n",
       "      <th>fileType</th>\n",
       "      <th>catalogueSize</th>\n",
       "    </tr>\n",
       "  </thead>\n",
       "  <tbody>\n",
       "    <tr>\n",
       "      <th>0</th>\n",
       "      <td>Windows\\Structural</td>\n",
       "      <td>Window_Square Opening_WIN</td>\n",
       "      <td>0400 x 1200mm</td>\n",
       "      <td>rfa</td>\n",
       "      <td>0</td>\n",
       "    </tr>\n",
       "    <tr>\n",
       "      <th>1</th>\n",
       "      <td>Windows\\Structural</td>\n",
       "      <td>Window_Square Opening_WIN</td>\n",
       "      <td>0400 x 1800mm</td>\n",
       "      <td>rfa</td>\n",
       "      <td>0</td>\n",
       "    </tr>\n",
       "    <tr>\n",
       "      <th>2</th>\n",
       "      <td>Windows\\Structural</td>\n",
       "      <td>Window_Square Opening_WIN</td>\n",
       "      <td>0400 x 600mm</td>\n",
       "      <td>rfa</td>\n",
       "      <td>0</td>\n",
       "    </tr>\n",
       "    <tr>\n",
       "      <th>3</th>\n",
       "      <td>Windows\\Structural</td>\n",
       "      <td>Window_Square Opening_WIN</td>\n",
       "      <td>0600 x 1200mm</td>\n",
       "      <td>rfa</td>\n",
       "      <td>0</td>\n",
       "    </tr>\n",
       "    <tr>\n",
       "      <th>4</th>\n",
       "      <td>Windows\\Structural</td>\n",
       "      <td>Window_Square Opening_WIN</td>\n",
       "      <td>0600 x 1800mm</td>\n",
       "      <td>rfa</td>\n",
       "      <td>0</td>\n",
       "    </tr>\n",
       "  </tbody>\n",
       "</table>\n",
       "</div>"
      ],
      "text/plain": [
       "       FamilyFilePath                 FamilyName FamilyTypeName fileType  \\\n",
       "0  Windows\\Structural  Window_Square Opening_WIN  0400 x 1200mm      rfa   \n",
       "1  Windows\\Structural  Window_Square Opening_WIN  0400 x 1800mm      rfa   \n",
       "2  Windows\\Structural  Window_Square Opening_WIN   0400 x 600mm      rfa   \n",
       "3  Windows\\Structural  Window_Square Opening_WIN  0600 x 1200mm      rfa   \n",
       "4  Windows\\Structural  Window_Square Opening_WIN  0600 x 1800mm      rfa   \n",
       "\n",
       "   catalogueSize  \n",
       "0              0  \n",
       "1              0  \n",
       "2              0  \n",
       "3              0  \n",
       "4              0  "
      ]
     },
     "execution_count": 76,
     "metadata": {},
     "output_type": "execute_result"
    }
   ],
   "source": [
    "def has_txt_catalogue(row):\n",
    "    \"\"\"Checks to see if theres a txt file corresponding to this family\n",
    "    \n",
    "    Very slow, needs work at some point\n",
    "    \"\"\"\n",
    "    return ft[(ft.fileType==\"txt\") & (ft.FamilyName==row.FamilyName)].shape[0]\n",
    "\n",
    "ft_noTxt[\"catalogueSize\"] = ft_noTxt.apply(has_txt_catalogue, axis=1)\n",
    "ft_noTxt.head()"
   ]
  },
  {
   "cell_type": "code",
   "execution_count": 77,
   "metadata": {
    "collapsed": false
   },
   "outputs": [
    {
     "data": {
      "text/plain": [
       "(10469, 5)"
      ]
     },
     "execution_count": 77,
     "metadata": {},
     "output_type": "execute_result"
    }
   ],
   "source": [
    "ft_noTxt.shape"
   ]
  }
 ],
 "metadata": {
  "celltoolbar": "Slideshow",
  "kernelspec": {
   "display_name": "Python 2",
   "language": "python",
   "name": "python2"
  },
  "language_info": {
   "codemirror_mode": {
    "name": "ipython",
    "version": 2
   },
   "file_extension": ".py",
   "mimetype": "text/x-python",
   "name": "python",
   "nbconvert_exporter": "python",
   "pygments_lexer": "ipython2",
   "version": "2.7.13"
  },
  "toc": {
   "colors": {
    "hover_highlight": "#DAA520",
    "navigate_num": "#000000",
    "navigate_text": "#333333",
    "running_highlight": "#FF0000",
    "selected_highlight": "#FFD700",
    "sidebar_border": "#EEEEEE",
    "wrapper_background": "#FFFFFF"
   },
   "moveMenuLeft": true,
   "nav_menu": {
    "height": "512px",
    "width": "252px"
   },
   "navigate_menu": true,
   "number_sections": true,
   "sideBar": false,
   "threshold": 4,
   "toc_cell": false,
   "toc_position": {
    "height": "367px",
    "left": "397.77px",
    "right": "auto",
    "top": "-421.88px",
    "width": "257px"
   },
   "toc_section_display": "block",
   "toc_window_display": false,
   "widenNotebook": false
  }
 },
 "nbformat": 4,
 "nbformat_minor": 2
}
