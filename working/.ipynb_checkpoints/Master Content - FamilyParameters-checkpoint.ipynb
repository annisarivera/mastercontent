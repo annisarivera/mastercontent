{
 "cells": [
  {
   "cell_type": "code",
   "execution_count": 1,
   "metadata": {
    "collapsed": true,
    "hide_input": false,
    "slideshow": {
     "slide_type": "skip"
    }
   },
   "outputs": [],
   "source": [
    "import matplotlib\n",
    "import matplotlib.pyplot as plt\n",
    "import numpy as np\n",
    "import pandas as pd\n",
    "import os"
   ]
  },
  {
   "cell_type": "code",
   "execution_count": 2,
   "metadata": {
    "collapsed": true,
    "hide_input": false,
    "slideshow": {
     "slide_type": "skip"
    }
   },
   "outputs": [],
   "source": [
    "%matplotlib inline\n",
    "plt.rcParams['figure.figsize'] = (20, 10)"
   ]
  },
  {
   "cell_type": "markdown",
   "metadata": {
    "slideshow": {
     "slide_type": "slide"
    }
   },
   "source": [
    "# RETRIEVING AND BASIC FORMATTING EXCEL FILES"
   ]
  },
  {
   "cell_type": "markdown",
   "metadata": {
    "hide_input": true,
    "slideshow": {
     "slide_type": "slide"
    }
   },
   "source": [
    "## Retrieving the .xlsx files\n",
    "Find the directory where the excel files are living. \n",
    "\n",
    "Then **'excel_files'** will report what lives inside the folder. \n",
    "\n",
    "Note: Any additional excel files you want analysed will need to be put into the same location as **'directory'.**"
   ]
  },
  {
   "cell_type": "code",
   "execution_count": 3,
   "metadata": {
    "collapsed": false,
    "hide_input": false,
    "slideshow": {
     "slide_type": "subslide"
    }
   },
   "outputs": [
    {
     "data": {
      "text/plain": [
       "['20170429 9_28 Family Types Log.xlsx',\n",
       " '20170429 9_28 FamilyCategory Log.xlsx',\n",
       " '20170429 9_28 FamilySubCategory Log.xlsx',\n",
       " '20170429 9_28 Host Families Log.xlsx',\n",
       " '20170429 9_28 Nested Families Log.xlsx',\n",
       " '20170429 9_28 OmniClass Log.xlsx',\n",
       " '20170429 9_28 Parameters Log.xlsx',\n",
       " '20170429 9_28 ParameterValuesByTypes Log.xlsx',\n",
       " '20170429 9_28 Reference Planes Log.xlsx',\n",
       " '20170429 9_28 Units Log.xlsx',\n",
       " '20170501 6_28 Materials Log.xlsx']"
      ]
     },
     "execution_count": 3,
     "metadata": {},
     "output_type": "execute_result"
    }
   ],
   "source": [
    "directory = r\"\\\\dc2-file001\\Practice\\InfoTech\\BIM\\Revit\\RevitStandardsMasterBVN\\02_BVN_Library\\Master Content\\X_Data\\Data - ARR\\_CONSOLIDATED v2\"\n",
    "files = os.listdir(directory)\n",
    "excel_files = []\n",
    "for f in files:\n",
    "    if \".xlsx\" in f:\n",
    "        excel_files.append(f)\n",
    "excel_files"
   ]
  },
  {
   "cell_type": "markdown",
   "metadata": {
    "hide_input": true,
    "slideshow": {
     "slide_type": "skip"
    }
   },
   "source": [
    "## xlsx. key and values\n",
    "\n",
    "Use <b>keys</b> to pair each key with each excel file in <b>excel_files</b>. This is so that you don't have to type the long file name everytime you need to call it in the rest of the code. \n",
    "\n",
    "<b>file_dict</b> will tell you which excel file is paired with each key."
   ]
  },
  {
   "cell_type": "code",
   "execution_count": 4,
   "metadata": {
    "collapsed": false,
    "hide_input": false
   },
   "outputs": [
    {
     "data": {
      "text/plain": [
       "{'FamilyCategory': '20170429 9_28 FamilyCategory Log.xlsx',\n",
       " 'FamilySubCategory': '20170429 9_28 FamilySubCategory Log.xlsx',\n",
       " 'FamilyTypes': '20170429 9_28 Family Types Log.xlsx',\n",
       " 'HostFamilies': '20170429 9_28 Host Families Log.xlsx',\n",
       " 'Materials': '20170501 6_28 Materials Log.xlsx',\n",
       " 'NestedFamilies': '20170429 9_28 Nested Families Log.xlsx',\n",
       " 'OmniClass': '20170429 9_28 OmniClass Log.xlsx',\n",
       " 'ParameterValuesByTypes': '20170429 9_28 ParameterValuesByTypes Log.xlsx',\n",
       " 'Parameters': '20170429 9_28 Parameters Log.xlsx',\n",
       " 'ReferencePlanes': '20170429 9_28 Reference Planes Log.xlsx',\n",
       " 'Units': '20170429 9_28 Units Log.xlsx'}"
      ]
     },
     "execution_count": 4,
     "metadata": {},
     "output_type": "execute_result"
    }
   ],
   "source": [
    "keys = [\n",
    "        \"FamilyTypes\",\n",
    "        \"FamilyCategory\",\n",
    "        \"FamilySubCategory\",\n",
    "        \"HostFamilies\",\n",
    "        \"NestedFamilies\",\n",
    "        \"OmniClass\",\n",
    "        \"Parameters\",\n",
    "        \"ParameterValuesByTypes\",\n",
    "        \"ReferencePlanes\",\n",
    "        \"Units\",\n",
    "        \"Materials\"\n",
    "       ]\n",
    "\n",
    "file_dict = {key: value for (key, value) in zip(keys, excel_files)}\n",
    "file_dict"
   ]
  },
  {
   "cell_type": "markdown",
   "metadata": {
    "slideshow": {
     "slide_type": "slide"
    }
   },
   "source": [
    "## FUNCTIONS TO FORMAT EXCEL FILES"
   ]
  },
  {
   "cell_type": "markdown",
   "metadata": {
    "slideshow": {
     "slide_type": "slide"
    }
   },
   "source": [
    "### Removing the common file path characters from original family file path name\n",
    "\n",
    "The example file path below is very long. In order to cut the fat out of the long file path, the common characters from each file path is removed. \n",
    "\n",
    "\\\\dc2-file001\\Practice\\InfoTech\\BIM\\Revit\\RevitStandardsMasterBVN\\02_BVN_Library\\Master Content\\Windows\\Double Hung\\Double Hung_3 Panel.rfa\n",
    "\n",
    "Therefore, the start of the file path <b>\\\\dc2-file001\\Practice\\InfoTech\\BIM\\Revit\\RevitStandardsMasterBVN\\02_BVN_Library\\Master Content</b> is removed in every spreadsheet."
   ]
  },
  {
   "cell_type": "markdown",
   "metadata": {
    "slideshow": {
     "slide_type": "slide"
    }
   },
   "source": [
    "### Removing the rfa. name from FamilyFilePath.\n",
    "\n",
    "In the excel files, the family name (.rfa) is part of the FamilyFilePath column.\n",
    "\n",
    "e.g. \\\\dc2-file001\\Practice\\InfoTech\\BIM\\Revit\\RevitStandardsMasterBVN\\02_BVN_Library\\Master Content\\Windows\\Special\\<u>Window Lancet_basic.rfa</u>"
   ]
  },
  {
   "cell_type": "markdown",
   "metadata": {
    "slideshow": {
     "slide_type": "slide"
    }
   },
   "source": [
    "### Determines whether the family is an .rfa or from a .txt catalogue file.\n",
    "\n",
    "<b> remove_rfaName</b> removes the family name from the FamilyFilePath column. This allows us to find things such as the count of how many families there are within a particular master content folder. It splits the <b>full_filepath</b> path by each \\ .\n",
    "\n",
    "<b>joined_again</b> will join the file path back through the \\ except for the last one. The new file path is appended on a FamilyFilePath column."
   ]
  },
  {
   "cell_type": "markdown",
   "metadata": {
    "slideshow": {
     "slide_type": "slide"
    }
   },
   "source": [
    "### Determines whether the family is an .rfa or from a .txt catalogue file.\n",
    "<b>getFileType</b> removes the last three characters from the FamilyFilePath.\n",
    "\n",
    "<b>stripFileType</b> removes the last four characters (including the '.') from the FamilyName."
   ]
  },
  {
   "cell_type": "code",
   "execution_count": 5,
   "metadata": {
    "collapsed": false,
    "hide_input": false,
    "slideshow": {
     "slide_type": "subslide"
    }
   },
   "outputs": [
    {
     "name": "stdout",
     "output_type": "stream",
     "text": [
      "95\n"
     ]
    }
   ],
   "source": [
    "commonPartofFilePath = len(r'\\\\dc2-file001\\Practice\\InfoTech\\BIM\\Revit\\RevitStandardsMasterBVN\\02_BVN_Library\\Master Content')\n",
    "print commonPartofFilePath\n",
    "def stripCommonPath(row):\n",
    "        return row.FamilyFilePath[commonPartofFilePath+1:]\n",
    "    \n",
    "def remove_rfaName(row):\n",
    "    full_filepath = row.FamilyFilePath\n",
    "    split = full_filepath.split(\"\\\\\")[:-1]\n",
    "    joined_again = (\"\\\\\".join(split))\n",
    "    return  joined_again\n",
    "\n",
    "def getFileType(row):\n",
    "    return row.FamilyFilePath[-3:]\n",
    "\n",
    "def stripFileType(row):\n",
    "    return row.FamilyName[:-4]"
   ]
  },
  {
   "cell_type": "markdown",
   "metadata": {},
   "source": [
    "# PARAMETERS\n",
    "\n",
    "**p_path** and **p** reads from the ParameterValuesByTypes excel file."
   ]
  },
  {
   "cell_type": "code",
   "execution_count": 54,
   "metadata": {
    "collapsed": false,
    "scrolled": true
   },
   "outputs": [
    {
     "data": {
      "text/html": [
       "<div>\n",
       "<table border=\"1\" class=\"dataframe\">\n",
       "  <thead>\n",
       "    <tr style=\"text-align: right;\">\n",
       "      <th></th>\n",
       "      <th>FamilyFilePath</th>\n",
       "      <th>FamilyName</th>\n",
       "      <th>ParameterName</th>\n",
       "      <th>ParameterIsDeterminedByFormula</th>\n",
       "      <th>ParameterIsInstance</th>\n",
       "      <th>ParameterIsReporting</th>\n",
       "      <th>ParameterStorageType</th>\n",
       "    </tr>\n",
       "  </thead>\n",
       "  <tbody>\n",
       "    <tr>\n",
       "      <th>0</th>\n",
       "      <td>Windows\\Structural</td>\n",
       "      <td>Window_Square Opening_WIN</td>\n",
       "      <td>Analytic Construction</td>\n",
       "      <td>False</td>\n",
       "      <td>False</td>\n",
       "      <td>False</td>\n",
       "      <td>String</td>\n",
       "    </tr>\n",
       "    <tr>\n",
       "      <th>1</th>\n",
       "      <td>Windows\\Structural</td>\n",
       "      <td>Window_Square Opening_WIN</td>\n",
       "      <td>Assembly Code</td>\n",
       "      <td>False</td>\n",
       "      <td>False</td>\n",
       "      <td>False</td>\n",
       "      <td>String</td>\n",
       "    </tr>\n",
       "    <tr>\n",
       "      <th>2</th>\n",
       "      <td>Windows\\Structural</td>\n",
       "      <td>Window_Square Opening_WIN</td>\n",
       "      <td>Construction Type</td>\n",
       "      <td>False</td>\n",
       "      <td>False</td>\n",
       "      <td>False</td>\n",
       "      <td>String</td>\n",
       "    </tr>\n",
       "    <tr>\n",
       "      <th>3</th>\n",
       "      <td>Windows\\Structural</td>\n",
       "      <td>Window_Square Opening_WIN</td>\n",
       "      <td>Cost</td>\n",
       "      <td>False</td>\n",
       "      <td>False</td>\n",
       "      <td>False</td>\n",
       "      <td>Double</td>\n",
       "    </tr>\n",
       "    <tr>\n",
       "      <th>4</th>\n",
       "      <td>Windows\\Structural</td>\n",
       "      <td>Window_Square Opening_WIN</td>\n",
       "      <td>Description</td>\n",
       "      <td>False</td>\n",
       "      <td>False</td>\n",
       "      <td>False</td>\n",
       "      <td>String</td>\n",
       "    </tr>\n",
       "  </tbody>\n",
       "</table>\n",
       "</div>"
      ],
      "text/plain": [
       "       FamilyFilePath                 FamilyName          ParameterName  \\\n",
       "0  Windows\\Structural  Window_Square Opening_WIN  Analytic Construction   \n",
       "1  Windows\\Structural  Window_Square Opening_WIN          Assembly Code   \n",
       "2  Windows\\Structural  Window_Square Opening_WIN      Construction Type   \n",
       "3  Windows\\Structural  Window_Square Opening_WIN                   Cost   \n",
       "4  Windows\\Structural  Window_Square Opening_WIN            Description   \n",
       "\n",
       "  ParameterIsDeterminedByFormula ParameterIsInstance ParameterIsReporting  \\\n",
       "0                          False               False                False   \n",
       "1                          False               False                False   \n",
       "2                          False               False                False   \n",
       "3                          False               False                False   \n",
       "4                          False               False                False   \n",
       "\n",
       "  ParameterStorageType  \n",
       "0               String  \n",
       "1               String  \n",
       "2               String  \n",
       "3               Double  \n",
       "4               String  "
      ]
     },
     "execution_count": 54,
     "metadata": {},
     "output_type": "execute_result"
    }
   ],
   "source": [
    "p_path = os.path.join(directory, file_dict[\"Parameters\"])\n",
    "p = pd.read_excel(p_path)\n",
    "\n",
    "p[\"FamilyFilePath\"] = p.apply(remove_rfaName, axis=1)\n",
    "p[\"FamilyFilePath\"] = p.apply(stripCommonPath, axis=1)\n",
    "p[\"FamilyName\"] = p.apply(stripFileType, axis=1)\n",
    "\n",
    "p.head()"
   ]
  },
  {
   "cell_type": "markdown",
   "metadata": {},
   "source": [
    "## Number of Parameters of Families"
   ]
  },
  {
   "cell_type": "code",
   "execution_count": 55,
   "metadata": {
    "collapsed": true
   },
   "outputs": [],
   "source": [
    "grouped_parameters = p.groupby(\"FamilyName\").agg(['count'])"
   ]
  },
  {
   "cell_type": "code",
   "execution_count": 56,
   "metadata": {
    "collapsed": false,
    "scrolled": false
   },
   "outputs": [
    {
     "data": {
      "image/png": "[encoded data removed]",
      "text/plain": [
       "<matplotlib.figure.Figure at 0x13d16c88>"
      ]
     },
     "metadata": {},
     "output_type": "display_data"
    }
   ],
   "source": [
    "grouped_parameters[\"ParameterName\"].hist(bins=50);\n",
    "plt.title(\"Number of parameters of families\", fontsize=20)\n",
    "plt.xlabel(\"Number of parameters\", fontsize=15)\n",
    "plt.ylabel(\"Number of families\", fontsize=15)\n",
    "plt.show()"
   ]
  },
  {
   "cell_type": "markdown",
   "metadata": {},
   "source": [
    "## Numbers of Parameters of Families (High Offenders)"
   ]
  },
  {
   "cell_type": "code",
   "execution_count": 57,
   "metadata": {
    "collapsed": false,
    "scrolled": false
   },
   "outputs": [
    {
     "data": {
      "text/html": [
       "<div>\n",
       "<table border=\"1\" class=\"dataframe\">\n",
       "  <thead>\n",
       "    <tr style=\"text-align: right;\">\n",
       "      <th></th>\n",
       "      <th>count</th>\n",
       "    </tr>\n",
       "    <tr>\n",
       "      <th>FamilyName</th>\n",
       "      <th></th>\n",
       "    </tr>\n",
       "  </thead>\n",
       "  <tbody>\n",
       "    <tr>\n",
       "      <th>Accordion_Double_DOR</th>\n",
       "      <td>128</td>\n",
       "    </tr>\n",
       "    <tr>\n",
       "      <th>Accordion_Single_DOR</th>\n",
       "      <td>125</td>\n",
       "    </tr>\n",
       "    <tr>\n",
       "      <th>Base Cabinet_Corner_LShape_CAS</th>\n",
       "      <td>184</td>\n",
       "    </tr>\n",
       "    <tr>\n",
       "      <th>Base Cabinet_Dishwasher_CAS</th>\n",
       "      <td>161</td>\n",
       "    </tr>\n",
       "    <tr>\n",
       "      <th>Base Cabinet_Door with Drawer_CAS</th>\n",
       "      <td>171</td>\n",
       "    </tr>\n",
       "    <tr>\n",
       "      <th>Base Cabinet_Double_CAS</th>\n",
       "      <td>184</td>\n",
       "    </tr>\n",
       "    <tr>\n",
       "      <th>Base Cabinet_Drawer_1_CAS</th>\n",
       "      <td>166</td>\n",
       "    </tr>\n",
       "    <tr>\n",
       "      <th>Base Cabinet_Drawer_2_CAS</th>\n",
       "      <td>168</td>\n",
       "    </tr>\n",
       "    <tr>\n",
       "      <th>Base Cabinet_Drawer_3_CAS</th>\n",
       "      <td>170</td>\n",
       "    </tr>\n",
       "    <tr>\n",
       "      <th>Base Cabinet_Drawer_4_CAS</th>\n",
       "      <td>172</td>\n",
       "    </tr>\n",
       "    <tr>\n",
       "      <th>Base Cabinet_Drawer_5_CAS</th>\n",
       "      <td>174</td>\n",
       "    </tr>\n",
       "    <tr>\n",
       "      <th>Base Cabinet_GLI</th>\n",
       "      <td>110</td>\n",
       "    </tr>\n",
       "    <tr>\n",
       "      <th>Base Cabinet_Oven with Drawer_CAS</th>\n",
       "      <td>165</td>\n",
       "    </tr>\n",
       "    <tr>\n",
       "      <th>Base Cabinet_Single_Left_CAS</th>\n",
       "      <td>184</td>\n",
       "    </tr>\n",
       "    <tr>\n",
       "      <th>Base Cabinet_Single_Right_CAS</th>\n",
       "      <td>184</td>\n",
       "    </tr>\n",
       "    <tr>\n",
       "      <th>Base Cabinet_Sliding Inset_Double_CAS</th>\n",
       "      <td>180</td>\n",
       "    </tr>\n",
       "    <tr>\n",
       "      <th>Bench_Cafe_Long_CAS</th>\n",
       "      <td>103</td>\n",
       "    </tr>\n",
       "    <tr>\n",
       "      <th>Bench_Cafe_Long_Cafe_CAS</th>\n",
       "      <td>103</td>\n",
       "    </tr>\n",
       "    <tr>\n",
       "      <th>Bench_Cafe_Long_Suite_CAS</th>\n",
       "      <td>105</td>\n",
       "    </tr>\n",
       "    <tr>\n",
       "      <th>Bench_Cafe_Short_CAS</th>\n",
       "      <td>103</td>\n",
       "    </tr>\n",
       "    <tr>\n",
       "      <th>Bench_Cafe_Short_Suite_CAS</th>\n",
       "      <td>105</td>\n",
       "    </tr>\n",
       "    <tr>\n",
       "      <th>Bench_Handwash_Cleansuite_CAS</th>\n",
       "      <td>117</td>\n",
       "    </tr>\n",
       "    <tr>\n",
       "      <th>Bench_I Shaped_CAS</th>\n",
       "      <td>120</td>\n",
       "    </tr>\n",
       "    <tr>\n",
       "      <th>Bench_L Shaped (Angle)_CAS</th>\n",
       "      <td>109</td>\n",
       "    </tr>\n",
       "    <tr>\n",
       "      <th>Bench_L Shaped_CAS</th>\n",
       "      <td>116</td>\n",
       "    </tr>\n",
       "    <tr>\n",
       "      <th>Bench_Lab_Cleansuite_CAS</th>\n",
       "      <td>114</td>\n",
       "    </tr>\n",
       "    <tr>\n",
       "      <th>Bench_Lab_Plain_CAS</th>\n",
       "      <td>107</td>\n",
       "    </tr>\n",
       "    <tr>\n",
       "      <th>Bench_Lab_Plain_End_CAS</th>\n",
       "      <td>113</td>\n",
       "    </tr>\n",
       "    <tr>\n",
       "      <th>Bench_Lab_Plastic_CAS</th>\n",
       "      <td>114</td>\n",
       "    </tr>\n",
       "    <tr>\n",
       "      <th>Bench_Lab_Sink_CAS</th>\n",
       "      <td>107</td>\n",
       "    </tr>\n",
       "    <tr>\n",
       "      <th>...</th>\n",
       "      <td>...</td>\n",
       "    </tr>\n",
       "    <tr>\n",
       "      <th>Sliding_Framed_3Panel_OOX_DOR</th>\n",
       "      <td>110</td>\n",
       "    </tr>\n",
       "    <tr>\n",
       "      <th>Sliding_Framed_3Panel_OXO_DOR</th>\n",
       "      <td>110</td>\n",
       "    </tr>\n",
       "    <tr>\n",
       "      <th>Sliding_Framed_3Panel_OXX_DOR</th>\n",
       "      <td>110</td>\n",
       "    </tr>\n",
       "    <tr>\n",
       "      <th>Sliding_Framed_4Panel_OOOX_DOR</th>\n",
       "      <td>110</td>\n",
       "    </tr>\n",
       "    <tr>\n",
       "      <th>Sliding_Framed_4Panel_OXXO_DOR</th>\n",
       "      <td>110</td>\n",
       "    </tr>\n",
       "    <tr>\n",
       "      <th>Sliding_Framed_6Panel_OXXXXO_DOR</th>\n",
       "      <td>110</td>\n",
       "    </tr>\n",
       "    <tr>\n",
       "      <th>Swing_Double_DOR</th>\n",
       "      <td>239</td>\n",
       "    </tr>\n",
       "    <tr>\n",
       "      <th>Swing_Single_DOR</th>\n",
       "      <td>229</td>\n",
       "    </tr>\n",
       "    <tr>\n",
       "      <th>Tower_Oven with Microwave_Drawers_1_CAS</th>\n",
       "      <td>191</td>\n",
       "    </tr>\n",
       "    <tr>\n",
       "      <th>Tower_Oven with Microwave_Drawers_2_CAS</th>\n",
       "      <td>192</td>\n",
       "    </tr>\n",
       "    <tr>\n",
       "      <th>Tower_Oven with Microwave_Single_Left_CAS</th>\n",
       "      <td>180</td>\n",
       "    </tr>\n",
       "    <tr>\n",
       "      <th>Tower_Oven with Microwave_Single_Right_CAS</th>\n",
       "      <td>180</td>\n",
       "    </tr>\n",
       "    <tr>\n",
       "      <th>Tower_Oven_Drawers_1_CAS</th>\n",
       "      <td>190</td>\n",
       "    </tr>\n",
       "    <tr>\n",
       "      <th>Tower_Oven_Drawers_2_CAS</th>\n",
       "      <td>191</td>\n",
       "    </tr>\n",
       "    <tr>\n",
       "      <th>Tower_Oven_Single_Left_CAS</th>\n",
       "      <td>179</td>\n",
       "    </tr>\n",
       "    <tr>\n",
       "      <th>Tower_Oven_Single_Right_CAS</th>\n",
       "      <td>179</td>\n",
       "    </tr>\n",
       "    <tr>\n",
       "      <th>Utility_Point_Large_Left_CAS</th>\n",
       "      <td>105</td>\n",
       "    </tr>\n",
       "    <tr>\n",
       "      <th>Utility_Point_Large_Left_with Column_CAS</th>\n",
       "      <td>105</td>\n",
       "    </tr>\n",
       "    <tr>\n",
       "      <th>Wall Cabinet_Corner_L Shape_CAS</th>\n",
       "      <td>180</td>\n",
       "    </tr>\n",
       "    <tr>\n",
       "      <th>Wall Cabinet_Double_CAS</th>\n",
       "      <td>180</td>\n",
       "    </tr>\n",
       "    <tr>\n",
       "      <th>Wall Cabinet_HorizontalDoor_CAS</th>\n",
       "      <td>178</td>\n",
       "    </tr>\n",
       "    <tr>\n",
       "      <th>Wall Cabinet_Microwave_Double_CAS</th>\n",
       "      <td>182</td>\n",
       "    </tr>\n",
       "    <tr>\n",
       "      <th>Wall Cabinet_Microwave_HorizontalDoor_CAS</th>\n",
       "      <td>180</td>\n",
       "    </tr>\n",
       "    <tr>\n",
       "      <th>Wall Cabinet_Microwave_Single_Left_CAS</th>\n",
       "      <td>182</td>\n",
       "    </tr>\n",
       "    <tr>\n",
       "      <th>Wall Cabinet_Microwave_Single_Right_CAS</th>\n",
       "      <td>182</td>\n",
       "    </tr>\n",
       "    <tr>\n",
       "      <th>Wall Cabinet_Shelf Unit_CAS</th>\n",
       "      <td>159</td>\n",
       "    </tr>\n",
       "    <tr>\n",
       "      <th>Wall Cabinet_Single_Left_CAS</th>\n",
       "      <td>180</td>\n",
       "    </tr>\n",
       "    <tr>\n",
       "      <th>Wall Cabinet_Single_Right_CAS</th>\n",
       "      <td>180</td>\n",
       "    </tr>\n",
       "    <tr>\n",
       "      <th>Wall Cabinet_Sliding Inset_Double_CAS</th>\n",
       "      <td>177</td>\n",
       "    </tr>\n",
       "    <tr>\n",
       "      <th>Wall Cabinet_Sliding_Double_CAS</th>\n",
       "      <td>178</td>\n",
       "    </tr>\n",
       "  </tbody>\n",
       "</table>\n",
       "<p>140 rows × 1 columns</p>\n",
       "</div>"
      ],
      "text/plain": [
       "                                            count\n",
       "FamilyName                                       \n",
       "Accordion_Double_DOR                          128\n",
       "Accordion_Single_DOR                          125\n",
       "Base Cabinet_Corner_LShape_CAS                184\n",
       "Base Cabinet_Dishwasher_CAS                   161\n",
       "Base Cabinet_Door with Drawer_CAS             171\n",
       "Base Cabinet_Double_CAS                       184\n",
       "Base Cabinet_Drawer_1_CAS                     166\n",
       "Base Cabinet_Drawer_2_CAS                     168\n",
       "Base Cabinet_Drawer_3_CAS                     170\n",
       "Base Cabinet_Drawer_4_CAS                     172\n",
       "Base Cabinet_Drawer_5_CAS                     174\n",
       "Base Cabinet_GLI                              110\n",
       "Base Cabinet_Oven with Drawer_CAS             165\n",
       "Base Cabinet_Single_Left_CAS                  184\n",
       "Base Cabinet_Single_Right_CAS                 184\n",
       "Base Cabinet_Sliding Inset_Double_CAS         180\n",
       "Bench_Cafe_Long_CAS                           103\n",
       "Bench_Cafe_Long_Cafe_CAS                      103\n",
       "Bench_Cafe_Long_Suite_CAS                     105\n",
       "Bench_Cafe_Short_CAS                          103\n",
       "Bench_Cafe_Short_Suite_CAS                    105\n",
       "Bench_Handwash_Cleansuite_CAS                 117\n",
       "Bench_I Shaped_CAS                            120\n",
       "Bench_L Shaped (Angle)_CAS                    109\n",
       "Bench_L Shaped_CAS                            116\n",
       "Bench_Lab_Cleansuite_CAS                      114\n",
       "Bench_Lab_Plain_CAS                           107\n",
       "Bench_Lab_Plain_End_CAS                       113\n",
       "Bench_Lab_Plastic_CAS                         114\n",
       "Bench_Lab_Sink_CAS                            107\n",
       "...                                           ...\n",
       "Sliding_Framed_3Panel_OOX_DOR                 110\n",
       "Sliding_Framed_3Panel_OXO_DOR                 110\n",
       "Sliding_Framed_3Panel_OXX_DOR                 110\n",
       "Sliding_Framed_4Panel_OOOX_DOR                110\n",
       "Sliding_Framed_4Panel_OXXO_DOR                110\n",
       "Sliding_Framed_6Panel_OXXXXO_DOR              110\n",
       "Swing_Double_DOR                              239\n",
       "Swing_Single_DOR                              229\n",
       "Tower_Oven with Microwave_Drawers_1_CAS       191\n",
       "Tower_Oven with Microwave_Drawers_2_CAS       192\n",
       "Tower_Oven with Microwave_Single_Left_CAS     180\n",
       "Tower_Oven with Microwave_Single_Right_CAS    180\n",
       "Tower_Oven_Drawers_1_CAS                      190\n",
       "Tower_Oven_Drawers_2_CAS                      191\n",
       "Tower_Oven_Single_Left_CAS                    179\n",
       "Tower_Oven_Single_Right_CAS                   179\n",
       "Utility_Point_Large_Left_CAS                  105\n",
       "Utility_Point_Large_Left_with Column_CAS      105\n",
       "Wall Cabinet_Corner_L Shape_CAS               180\n",
       "Wall Cabinet_Double_CAS                       180\n",
       "Wall Cabinet_HorizontalDoor_CAS               178\n",
       "Wall Cabinet_Microwave_Double_CAS             182\n",
       "Wall Cabinet_Microwave_HorizontalDoor_CAS     180\n",
       "Wall Cabinet_Microwave_Single_Left_CAS        182\n",
       "Wall Cabinet_Microwave_Single_Right_CAS       182\n",
       "Wall Cabinet_Shelf Unit_CAS                   159\n",
       "Wall Cabinet_Single_Left_CAS                  180\n",
       "Wall Cabinet_Single_Right_CAS                 180\n",
       "Wall Cabinet_Sliding Inset_Double_CAS         177\n",
       "Wall Cabinet_Sliding_Double_CAS               178\n",
       "\n",
       "[140 rows x 1 columns]"
      ]
     },
     "execution_count": 57,
     "metadata": {},
     "output_type": "execute_result"
    }
   ],
   "source": [
    "param_counts = grouped_parameters[\"ParameterName\"]\n",
    "param_counts[param_counts[\"count\"]>100]"
   ]
  },
  {
   "cell_type": "markdown",
   "metadata": {},
   "source": [
    "# SHARED PARAMETERS"
   ]
  },
  {
   "cell_type": "markdown",
   "metadata": {},
   "source": [
    "## Checks to see if parameters are part of BVN's shared parameter list"
   ]
  },
  {
   "cell_type": "code",
   "execution_count": 58,
   "metadata": {
    "collapsed": false
   },
   "outputs": [
    {
     "name": "stderr",
     "output_type": "stream",
     "text": [
      "Q:\\Users\\arivera\\AppData\\Local\\Continuum\\Anaconda2\\lib\\site-packages\\ipykernel\\__main__.py:4: UnicodeWarning: Unicode equal comparison failed to convert both arguments to Unicode - interpreting them as being unequal\n"
     ]
    },
    {
     "data": {
      "text/html": [
       "<div>\n",
       "<table border=\"1\" class=\"dataframe\">\n",
       "  <thead>\n",
       "    <tr style=\"text-align: right;\">\n",
       "      <th></th>\n",
       "      <th>FamilyFilePath</th>\n",
       "      <th>FamilyName</th>\n",
       "      <th>ParameterName</th>\n",
       "      <th>ParameterIsDeterminedByFormula</th>\n",
       "      <th>ParameterIsInstance</th>\n",
       "      <th>ParameterIsReporting</th>\n",
       "      <th>ParameterStorageType</th>\n",
       "      <th>BVNparam</th>\n",
       "    </tr>\n",
       "  </thead>\n",
       "  <tbody>\n",
       "    <tr>\n",
       "      <th>0</th>\n",
       "      <td>Windows\\Structural</td>\n",
       "      <td>Window_Square Opening_WIN</td>\n",
       "      <td>Analytic Construction</td>\n",
       "      <td>False</td>\n",
       "      <td>False</td>\n",
       "      <td>False</td>\n",
       "      <td>String</td>\n",
       "      <td>False</td>\n",
       "    </tr>\n",
       "    <tr>\n",
       "      <th>1</th>\n",
       "      <td>Windows\\Structural</td>\n",
       "      <td>Window_Square Opening_WIN</td>\n",
       "      <td>Assembly Code</td>\n",
       "      <td>False</td>\n",
       "      <td>False</td>\n",
       "      <td>False</td>\n",
       "      <td>String</td>\n",
       "      <td>False</td>\n",
       "    </tr>\n",
       "    <tr>\n",
       "      <th>2</th>\n",
       "      <td>Windows\\Structural</td>\n",
       "      <td>Window_Square Opening_WIN</td>\n",
       "      <td>Construction Type</td>\n",
       "      <td>False</td>\n",
       "      <td>False</td>\n",
       "      <td>False</td>\n",
       "      <td>String</td>\n",
       "      <td>False</td>\n",
       "    </tr>\n",
       "    <tr>\n",
       "      <th>3</th>\n",
       "      <td>Windows\\Structural</td>\n",
       "      <td>Window_Square Opening_WIN</td>\n",
       "      <td>Cost</td>\n",
       "      <td>False</td>\n",
       "      <td>False</td>\n",
       "      <td>False</td>\n",
       "      <td>Double</td>\n",
       "      <td>False</td>\n",
       "    </tr>\n",
       "    <tr>\n",
       "      <th>4</th>\n",
       "      <td>Windows\\Structural</td>\n",
       "      <td>Window_Square Opening_WIN</td>\n",
       "      <td>Description</td>\n",
       "      <td>False</td>\n",
       "      <td>False</td>\n",
       "      <td>False</td>\n",
       "      <td>String</td>\n",
       "      <td>False</td>\n",
       "    </tr>\n",
       "    <tr>\n",
       "      <th>5</th>\n",
       "      <td>Windows\\Structural</td>\n",
       "      <td>Window_Square Opening_WIN</td>\n",
       "      <td>Heat Transfer Coefficient (U)</td>\n",
       "      <td>False</td>\n",
       "      <td>False</td>\n",
       "      <td>False</td>\n",
       "      <td>Double</td>\n",
       "      <td>False</td>\n",
       "    </tr>\n",
       "    <tr>\n",
       "      <th>6</th>\n",
       "      <td>Windows\\Structural</td>\n",
       "      <td>Window_Square Opening_WIN</td>\n",
       "      <td>Height</td>\n",
       "      <td>False</td>\n",
       "      <td>False</td>\n",
       "      <td>False</td>\n",
       "      <td>Double</td>\n",
       "      <td>False</td>\n",
       "    </tr>\n",
       "    <tr>\n",
       "      <th>7</th>\n",
       "      <td>Windows\\Structural</td>\n",
       "      <td>Window_Square Opening_WIN</td>\n",
       "      <td>Keynote</td>\n",
       "      <td>False</td>\n",
       "      <td>False</td>\n",
       "      <td>False</td>\n",
       "      <td>String</td>\n",
       "      <td>False</td>\n",
       "    </tr>\n",
       "    <tr>\n",
       "      <th>8</th>\n",
       "      <td>Windows\\Structural</td>\n",
       "      <td>Window_Square Opening_WIN</td>\n",
       "      <td>Manufacturer</td>\n",
       "      <td>False</td>\n",
       "      <td>False</td>\n",
       "      <td>False</td>\n",
       "      <td>String</td>\n",
       "      <td>False</td>\n",
       "    </tr>\n",
       "    <tr>\n",
       "      <th>9</th>\n",
       "      <td>Windows\\Structural</td>\n",
       "      <td>Window_Square Opening_WIN</td>\n",
       "      <td>Model</td>\n",
       "      <td>False</td>\n",
       "      <td>False</td>\n",
       "      <td>False</td>\n",
       "      <td>String</td>\n",
       "      <td>False</td>\n",
       "    </tr>\n",
       "  </tbody>\n",
       "</table>\n",
       "</div>"
      ],
      "text/plain": [
       "       FamilyFilePath                 FamilyName  \\\n",
       "0  Windows\\Structural  Window_Square Opening_WIN   \n",
       "1  Windows\\Structural  Window_Square Opening_WIN   \n",
       "2  Windows\\Structural  Window_Square Opening_WIN   \n",
       "3  Windows\\Structural  Window_Square Opening_WIN   \n",
       "4  Windows\\Structural  Window_Square Opening_WIN   \n",
       "5  Windows\\Structural  Window_Square Opening_WIN   \n",
       "6  Windows\\Structural  Window_Square Opening_WIN   \n",
       "7  Windows\\Structural  Window_Square Opening_WIN   \n",
       "8  Windows\\Structural  Window_Square Opening_WIN   \n",
       "9  Windows\\Structural  Window_Square Opening_WIN   \n",
       "\n",
       "                   ParameterName ParameterIsDeterminedByFormula  \\\n",
       "0          Analytic Construction                          False   \n",
       "1                  Assembly Code                          False   \n",
       "2              Construction Type                          False   \n",
       "3                           Cost                          False   \n",
       "4                    Description                          False   \n",
       "5  Heat Transfer Coefficient (U)                          False   \n",
       "6                         Height                          False   \n",
       "7                        Keynote                          False   \n",
       "8                   Manufacturer                          False   \n",
       "9                          Model                          False   \n",
       "\n",
       "  ParameterIsInstance ParameterIsReporting ParameterStorageType BVNparam  \n",
       "0               False                False               String    False  \n",
       "1               False                False               String    False  \n",
       "2               False                False               String    False  \n",
       "3               False                False               Double    False  \n",
       "4               False                False               String    False  \n",
       "5               False                False               Double    False  \n",
       "6               False                False               Double    False  \n",
       "7               False                False               String    False  \n",
       "8               False                False               String    False  \n",
       "9               False                False               String    False  "
      ]
     },
     "execution_count": 58,
     "metadata": {},
     "output_type": "execute_result"
    }
   ],
   "source": [
    "p_BVN = ['_SPEC_WILKHAHN_ANSI/BIFMA_STANDARDS','_SPEC_WILKHAHN_DIN_EN_STANDARDS','_SPEC_WILKHAHN_FURNTECH-AFRDI_BLUE_TICK','_SPEC_WILKHAHN_FURNTECH-AFRDI_GREEN_TICK','_SPEC_WILKHAHN_GS_SYMBOL','_SPEC_WILKHAHN_Model','_SPEC_WILKHAHN_NPR_STANDARDS','_SPEC_WILKHAHN_Part_Number','_SPEC_WILKHAHN_Table_Length','_SPEC_WILKHAHN_Table_Width','_SPEC_WILKHAHN_URL','_SPEC_WILKHAHN_Version','_WILKHAHN Table Height','_WILKHAHN Table Length','_WILKHAHN Table Width','A3 Scale','Acoustic Performance','Acoustic Rating Rw','Adaptable','Additional Info- Fourth Line','Area Colour','Area_Colour_Bvn','Armpad Finish','AS1428 Tolerance','AS1482 Tolerance','Asset Number','Author','Back Finish','Balcony Area','Bars','Base Finish','Base Price','Bench_Material_Bvn','Bench_Thickness_Bvn','Benchtop Material','Benchtopfinish','Benchtopmaterial','Benchtopthickness','Bolt Latch','Briefed Area','Building Name','BVN Alphabet','Carcase Offset off Wall','Carcasefinish','Carcasematerial','Carcass Material','Carcass_Material_Bvn','Carcess_Thickness_Bvn','Caseworkoveralldepth','Caseworkoverallheight','Caseworkoverallwidth','Catalog','Catalog Code','Category Color','Cb Classification','Cb Code 1','Cb Description','Cb Group','Cdeb_Doorid','Cdeb_Rminstid','Cdeb_Status','Ceiling Acoustic Rating','Ceiling_Height_Bvn','Cf_1','Cf_2','CheckedBy_ANZRS','Clear Opening','Client Project Number','Closer','Column Length','Configured By','Configured By','Consultant 01','Consultant 01 Details','Consultant 02','Consultant 02 Details','Consultant 03','Consultant 03 Details','Consultant 04','Consultant 04 Details','Consultant 05','Consultant 05 Details','Copyright','Copyright','Copyright ©','Core','Core Name','CreatedBy_ANZRS','CreatedByURL_ANZRS','DAF_Created By_Username_t','DAF_Modified By_Username_t','DAF_Modified_Date_t','DAF_Modified_Date_t','DAF_Owned By_t','DAF_Revision number_t','Department_BVN','Depth_Bvn','Depth_Two_Bvn','Detailedcategory','Discipline','Door Grille/Undercut','Door Leaf Height','Door Leaf Thickness','Door Leaf Type','Door Leaf Width','Door Panel Height','Door Panel Thickness','Door Seals','Door Stop','Door Thickness','Door Thickness','Door Undercut','Double Rebate','Double Swing','Either Side Swing Away','Either Side Swing Towards','Electric Locking','Electromagnetic Hold Open','End Panel Side I Finish','End Panel Side II Finish','Expected Lifespan (Years)','Ext Frame_Offset EQUAL Host Wall thickness_i','FF&E Code','FF&E Comments','FF&E Description','FF&E Group','FF&E Issue','FF&E Item','FF&E Supplier','Ff_1','Ff_2','FF_SPECIFIC_1','Fire/Smoke Door','Flux Id','Frame Finish','Frame Overlaps Wall','Frame Profile','Frame to Match Wall Thickness','Front Panel Finish','Front Swing Away','Front Swing Towards','Frontpanel_Left_Material_Bvn','Frontpanel_Right_Material_Bvn','Frontpanel_Single_Material_Bvn','Generic Room Sheet Reference','Glazing','Glazing Material','Grade','Grid Prefix','Handle Height','Handle Offset','Head Details','Height_Bvn','Height_Skirting_Bvn','Height_Two_Bvn','Hfbs_Sub_Department','Hinge Side Swing Away','Hinge Side Swing Towards','HsbType','Ideate BIMLink','ItemCode','ItemCode_2','ItemDescription','ItemDescription_2','ItemGroup','ItemGroup_2','Jamb Details','Kicker Material','Kickerfinish','Kickerheight','Kickermaterial','Latch Side Swing Away','Latch Side Swing Towards','Leaf 1 Width','Leaf 2 Width','Leaf Height','Length','Level - Second Line','Lining_\"Opposite Side\"','Lining_\"Placement Side\"','Link_Status','Lock/Latch','Maintenance Schedule (Months)','Mass per m','Material Door Panel','Material Door Panel EXT','Material Door Panel INT','Material Frame','Material View Panel','Meeting Stile Detail','Modified Issue','ModifiedIssue','ModifiedIssue','Mounted_Top_Bvn','Mounting_Height_Bvn','Mounting_Height_Centre_Bvn','Mounting_Height_Top_Bvn','MOUNTING_HEIGHT_US_BVN','Mullion Height','No. of Parks','Original Model By','Other Protection','Overall_Height_Bvn','Package','Package Qty','Panel 1 Height','Panel 1 Width','Panel Height','Panel Width','Place in Structural Wall_i','Product Documentation Link','Project','Project Manager','Project Managers Details','Project Stage','Project Stage Code','Project Type','Protection on Pull Side','Protection on Push Side','Pull Handle','Pull Side Finish Zone','Push Plates','Push Side Finish Zone','Radius','Reed Switch','Revision','Roller Catch','Room Code','Room Colour','Room Name','rwcalc_Carcase Inside Width','rwcalc_Cupboard1 Height','rwcalc_Double Panel Width','rwcalc_Front Panel Visibility','rwcalc_Kickplate On','rwcalc_Kickplate Side I setback','rwcalc_Kickplate Side II setback','rwcalc_Kickplate Visibility','rwcalc_Panel Back Offset','rwcalc_Panel Inset Side I','rwcalc_Panel Inset Side II','rwcalc_Panel Offset off Base','rwcalc_Panel Thk Base','rwcalc_Panel Thk Side I','rwcalc_Panel Thk Side II','rwcalc_Panel Thk Top','rwcalc_Rail Offset','rwcalc_Rail1','rwcalc_Rail2','rwcalc_Real Panel Base Thk','rwcalc_Real Panel Side I Thk','rwcalc_Real Panel Side II Thk','rwcalc_Real Panel Top Thk','rwcalc_Shelf Depth','rwcalc_Shelf1','rwcalc_Shelf2','rwcalc_Shelf2 Height','rwcalc_Shelf3','rwcalc_Shelf3 Height','rwcalc_Shelf4','rwcalc_Shelf4 Height','rwcalc_Shelf5','rwcalc_Shelf5 Height','rwcalc_Shelf6','rwcalc_Shelf6 Height','rwcalc_Show Double Front Panel','rwcalc_Show Single Front Panel','rwcalc_Single Panel Width','rwcalc_Swappable','rwcalc_Symbolic Depth','Seat/Back Fabric','Security Rating (SR1 ,SR2)','SEPP 65 - Cross Ventilation','SEPP 65 - Solar Access','SEPP 65 - South Aspect','SEPP65 - Daylight Access','SEPP65_Cross Ventilation','SEPP65_Solar Access','SEPP65_South Facing','Side I Divider Panel','Side I End Panel','Side I End Panel Extend Back','Side I Kickplate Flush','Side I Shadow Margin','Side II Divider Panel','Side II End Panel','Side II End Panel Extend Back','Side II Kickplate Flush','Side II Shadow Margin','Sill Details','Small Panel Width','Sp_Area_Designed','Sp_Ceiling_Height','Sp_Circulation_Area','Sp_Comments','Sp_Department','Sp_Depth','Sp_Gfa_Factor','Sp_Material_Ceilings','Sp_Material_Walls','Sp_Net_Area','Sp_Per_Unit_Area','Sp_Room_Name','Sp_Room_Number','Sp_Total_Gfa_Area','Sp_Unique_Id','Sp_Units','Sp_Width','Special Hardware','SR Document GUID','SR View Calculation Settings','Stage','STF_Parking_BayAngle_t','STF_Parking_Disabled_YesNo_t','STF_Parking_Stripe_End_i','STF_Parking_Wheelstop_Depth_t','STF_Parking_Wheelstop_Height_t','STF_Parking_Wheelstop_Material_t','STF_Parking_Wheelstop_Position_t','STF_Parking_Wheelstop_Width_t','STF_Parking_Wheelstop_YesNo_t','STF_ParkingBay_Depth_t','STF_ParkingBay_Width_t','Structural Opening','Structural Opening Height','Sub Discipline Title - Third','Sub-Department','Swing Angle','Swing Angle','Thickness_Shelf','Unit Type','UTSEquipmentCategories','View','View Panel','View Panel Height','View Panel Inset','View Panel Sill','View Panel Width','Wall_Special Finish','Warranty Duration (Years)','Watermarked By','Wf_E_1','Wf_E_2','Wf_N_1','Wf_N_2','Wf_S_1','Wf_S_2','Wf_W_1','Wf_W_2','Width_Bvn','Width_Corner_Bvn','Width_Counter_Dda_Bvn','Width_Two_Bvn','Window Blind Type','Window Jockey Sash','Window Louvre','Window Shade Centre','Window Shade Left','Window Shade Right','Window Shade Top','Windowframefinish','Windowframematerial','Windowframetype','Windowglazingtype','Windowheadheight','Windowoverallframeheight','Windowoverallframewidth','WNF_Ext Frame_Offset_Internal Skin_i','WNF_Frame_Surround_Depth_t','WNF_Frame_Surround_Width_t','WNF_Overall Frame Height_t','WNF_Overall Frame Width_t','WNF_Panel_Main Fixed_Height_t','WNF_Panel_Main Fixed_Width_t','WNP_Schedule Filter_Louvre_t','Y-Tower Finish','Zone']\n",
    "\n",
    "def is_legit_param(row):\n",
    "    return row.ParameterName in p_BVN\n",
    "\n",
    "p[\"BVNparam\"] = p.apply(is_legit_param, axis=1)\n",
    "\n",
    "p.head(10)"
   ]
  },
  {
   "cell_type": "markdown",
   "metadata": {},
   "source": [
    "## Number of parameters that are using SP vs non-SP"
   ]
  },
  {
   "cell_type": "code",
   "execution_count": 59,
   "metadata": {
    "collapsed": false
   },
   "outputs": [],
   "source": [
    "using_shared_param = p.groupby(\"BVNparam\").agg([\"count\"])"
   ]
  },
  {
   "cell_type": "code",
   "execution_count": 60,
   "metadata": {
    "collapsed": false
   },
   "outputs": [
    {
     "data": {
      "image/png": "[encoded data removed]",
      "text/plain": [
       "<matplotlib.figure.Figure at 0xf3eff28>"
      ]
     },
     "metadata": {},
     "output_type": "display_data"
    }
   ],
   "source": [
    "using_shared_param[\"FamilyName\"].plot(kind=\"bar\", grid=True);\n",
    "plt.title(\"Number of parameters from SP vs non SP\", fontsize=20)\n",
    "plt.xlabel(\"SP vs non-SP\", fontsize=15)\n",
    "plt.ylabel(\"Number of parameters\", fontsize=15)\n",
    "plt.show()"
   ]
  },
  {
   "cell_type": "markdown",
   "metadata": {
    "slideshow": {
     "slide_type": "slide"
    }
   },
   "source": [
    "## Families that are using shared parameters"
   ]
  },
  {
   "cell_type": "code",
   "execution_count": 61,
   "metadata": {
    "collapsed": false
   },
   "outputs": [
    {
     "data": {
      "text/html": [
       "<div>\n",
       "<table border=\"1\" class=\"dataframe\">\n",
       "  <thead>\n",
       "    <tr style=\"text-align: right;\">\n",
       "      <th></th>\n",
       "      <th>FamilyName</th>\n",
       "      <th>ParameterName</th>\n",
       "      <th>BVNparam</th>\n",
       "    </tr>\n",
       "  </thead>\n",
       "  <tbody>\n",
       "    <tr>\n",
       "      <th>0</th>\n",
       "      <td>Window_Square Opening_WIN</td>\n",
       "      <td>Analytic Construction</td>\n",
       "      <td>False</td>\n",
       "    </tr>\n",
       "    <tr>\n",
       "      <th>1</th>\n",
       "      <td>Window_Square Opening_WIN</td>\n",
       "      <td>Assembly Code</td>\n",
       "      <td>False</td>\n",
       "    </tr>\n",
       "    <tr>\n",
       "      <th>2</th>\n",
       "      <td>Window_Square Opening_WIN</td>\n",
       "      <td>Construction Type</td>\n",
       "      <td>False</td>\n",
       "    </tr>\n",
       "    <tr>\n",
       "      <th>3</th>\n",
       "      <td>Window_Square Opening_WIN</td>\n",
       "      <td>Cost</td>\n",
       "      <td>False</td>\n",
       "    </tr>\n",
       "    <tr>\n",
       "      <th>4</th>\n",
       "      <td>Window_Square Opening_WIN</td>\n",
       "      <td>Description</td>\n",
       "      <td>False</td>\n",
       "    </tr>\n",
       "    <tr>\n",
       "      <th>5</th>\n",
       "      <td>Window_Square Opening_WIN</td>\n",
       "      <td>Heat Transfer Coefficient (U)</td>\n",
       "      <td>False</td>\n",
       "    </tr>\n",
       "    <tr>\n",
       "      <th>6</th>\n",
       "      <td>Window_Square Opening_WIN</td>\n",
       "      <td>Height</td>\n",
       "      <td>False</td>\n",
       "    </tr>\n",
       "    <tr>\n",
       "      <th>7</th>\n",
       "      <td>Window_Square Opening_WIN</td>\n",
       "      <td>Keynote</td>\n",
       "      <td>False</td>\n",
       "    </tr>\n",
       "    <tr>\n",
       "      <th>8</th>\n",
       "      <td>Window_Square Opening_WIN</td>\n",
       "      <td>Manufacturer</td>\n",
       "      <td>False</td>\n",
       "    </tr>\n",
       "    <tr>\n",
       "      <th>9</th>\n",
       "      <td>Window_Square Opening_WIN</td>\n",
       "      <td>Model</td>\n",
       "      <td>False</td>\n",
       "    </tr>\n",
       "  </tbody>\n",
       "</table>\n",
       "</div>"
      ],
      "text/plain": [
       "                  FamilyName                  ParameterName BVNparam\n",
       "0  Window_Square Opening_WIN          Analytic Construction    False\n",
       "1  Window_Square Opening_WIN                  Assembly Code    False\n",
       "2  Window_Square Opening_WIN              Construction Type    False\n",
       "3  Window_Square Opening_WIN                           Cost    False\n",
       "4  Window_Square Opening_WIN                    Description    False\n",
       "5  Window_Square Opening_WIN  Heat Transfer Coefficient (U)    False\n",
       "6  Window_Square Opening_WIN                         Height    False\n",
       "7  Window_Square Opening_WIN                        Keynote    False\n",
       "8  Window_Square Opening_WIN                   Manufacturer    False\n",
       "9  Window_Square Opening_WIN                          Model    False"
      ]
     },
     "execution_count": 61,
     "metadata": {},
     "output_type": "execute_result"
    }
   ],
   "source": [
    "nameAndSp = p[[\"FamilyName\", \"ParameterName\", \"BVNparam\"]]\n",
    "\n",
    "nameAndSp.head(10)"
   ]
  },
  {
   "cell_type": "code",
   "execution_count": 62,
   "metadata": {
    "collapsed": false,
    "scrolled": false
   },
   "outputs": [
    {
     "name": "stdout",
     "output_type": "stream",
     "text": [
      "Number of non-BVN subcategories: (22866, 3)\n"
     ]
    },
    {
     "data": {
      "text/html": [
       "<div>\n",
       "<table border=\"1\" class=\"dataframe\">\n",
       "  <thead>\n",
       "    <tr style=\"text-align: right;\">\n",
       "      <th></th>\n",
       "      <th>FamilyName</th>\n",
       "      <th>ParameterName</th>\n",
       "      <th>BVNparam</th>\n",
       "    </tr>\n",
       "  </thead>\n",
       "  <tbody>\n",
       "    <tr>\n",
       "      <th>32</th>\n",
       "      <td>Window_Round Opening_WIN</td>\n",
       "      <td>Radius</td>\n",
       "      <td>True</td>\n",
       "    </tr>\n",
       "    <tr>\n",
       "      <th>58</th>\n",
       "      <td>Window Round_basic</td>\n",
       "      <td>Material Frame</td>\n",
       "      <td>True</td>\n",
       "    </tr>\n",
       "    <tr>\n",
       "      <th>87</th>\n",
       "      <td>Window Lancet_basic</td>\n",
       "      <td>Material Frame</td>\n",
       "      <td>True</td>\n",
       "    </tr>\n",
       "    <tr>\n",
       "      <th>115</th>\n",
       "      <td>Window Arched Top_basic</td>\n",
       "      <td>Material Frame</td>\n",
       "      <td>True</td>\n",
       "    </tr>\n",
       "    <tr>\n",
       "      <th>165</th>\n",
       "      <td>Skylight_Operable_WIN</td>\n",
       "      <td>Glazing</td>\n",
       "      <td>True</td>\n",
       "    </tr>\n",
       "    <tr>\n",
       "      <th>166</th>\n",
       "      <td>Skylight_Operable_WIN</td>\n",
       "      <td>Glazing Material</td>\n",
       "      <td>True</td>\n",
       "    </tr>\n",
       "    <tr>\n",
       "      <th>172</th>\n",
       "      <td>Skylight_Operable_WIN</td>\n",
       "      <td>Mullion Height</td>\n",
       "      <td>True</td>\n",
       "    </tr>\n",
       "    <tr>\n",
       "      <th>184</th>\n",
       "      <td>Skylight_Operable_WIN</td>\n",
       "      <td>Window Blind Type</td>\n",
       "      <td>True</td>\n",
       "    </tr>\n",
       "    <tr>\n",
       "      <th>185</th>\n",
       "      <td>Skylight_Operable_WIN</td>\n",
       "      <td>Window Jockey Sash</td>\n",
       "      <td>True</td>\n",
       "    </tr>\n",
       "    <tr>\n",
       "      <th>186</th>\n",
       "      <td>Skylight_Operable_WIN</td>\n",
       "      <td>Window Louvre</td>\n",
       "      <td>True</td>\n",
       "    </tr>\n",
       "  </tbody>\n",
       "</table>\n",
       "</div>"
      ],
      "text/plain": [
       "                   FamilyName       ParameterName BVNparam\n",
       "32   Window_Round Opening_WIN              Radius     True\n",
       "58         Window Round_basic      Material Frame     True\n",
       "87        Window Lancet_basic      Material Frame     True\n",
       "115   Window Arched Top_basic      Material Frame     True\n",
       "165     Skylight_Operable_WIN             Glazing     True\n",
       "166     Skylight_Operable_WIN    Glazing Material     True\n",
       "172     Skylight_Operable_WIN      Mullion Height     True\n",
       "184     Skylight_Operable_WIN   Window Blind Type     True\n",
       "185     Skylight_Operable_WIN  Window Jockey Sash     True\n",
       "186     Skylight_Operable_WIN       Window Louvre     True"
      ]
     },
     "execution_count": 62,
     "metadata": {},
     "output_type": "execute_result"
    }
   ],
   "source": [
    "not_legit_param = nameAndSp[nameAndSp.BVNparam==True]\n",
    "\n",
    "print \"Number of non-BVN subcategories:\", not_legit_param.shape\n",
    "\n",
    "not_legit_param.head(10)"
   ]
  },
  {
   "cell_type": "code",
   "execution_count": 63,
   "metadata": {
    "collapsed": false
   },
   "outputs": [
    {
     "data": {
      "text/plain": [
       "array([u'Radius', u'Material Frame', u'Glazing', u'Glazing Material',\n",
       "       u'Mullion Height', u'Window Blind Type', u'Window Jockey Sash',\n",
       "       u'Window Louvre', u'Window Shade Centre', u'Window Shade Left',\n",
       "       u'Window Shade Right', u'Window Shade Top', u'Windowframefinish',\n",
       "       u'Windowframematerial', u'Windowframetype', u'Windowglazingtype',\n",
       "       u'Windowheadheight', u'Windowoverallframeheight',\n",
       "       u'Windowoverallframewidth', u'DAF_Revision number_t',\n",
       "       u'WNF_Ext Frame_Offset_Internal Skin_i',\n",
       "       u'WNF_Frame_Surround_Depth_t', u'WNF_Frame_Surround_Width_t',\n",
       "       u'WNF_Overall Frame Height_t', u'WNF_Overall Frame Width_t',\n",
       "       u'WNF_Panel_Main Fixed_Height_t', u'WNF_Panel_Main Fixed_Width_t',\n",
       "       u'CreatedBy_ANZRS', u'CreatedByURL_ANZRS', u'Panel Height',\n",
       "       u'WNP_Schedule Filter_Louvre_t', u'Bars', u'Panel Width',\n",
       "       u'Door Undercut', u'Author', u'Copyright', u'Modified Issue',\n",
       "       u'Length', u'Either Side Swing Away', u'Either Side Swing Towards',\n",
       "       u'Front Swing Away', u'Front Swing Towards',\n",
       "       u'Hinge Side Swing Away', u'Hinge Side Swing Towards',\n",
       "       u'Latch Side Swing Away', u'Latch Side Swing Towards',\n",
       "       u'Material Door Panel', u'Material Door Panel EXT',\n",
       "       u'Material Door Panel INT', u'Acoustic Performance', u'FF&E Code',\n",
       "       u'FF&E Comments', u'FF&E Description', u'FF&E Issue', u'FF&E Item',\n",
       "       u'FF&E Supplier', u'ItemCode', u'ItemDescription', u'ItemGroup',\n",
       "       u'Grade', u'Mass per m', u'Column Length', u'ModifiedIssue',\n",
       "       u'DAF_Created By_Username_t', u'DAF_Modified By_Username_t',\n",
       "       u'DAF_Modified_Date_t', u'DAF_Owned By_t', u'No. of Parks',\n",
       "       u'AS1428 Tolerance', u'Clear Opening', u'Double Rebate',\n",
       "       u'Double Swing', u'Frame Overlaps Wall',\n",
       "       u'Frame to Match Wall Thickness', u'Leaf 1 Width', u'Leaf Height',\n",
       "       u'Material View Panel', u'Structural Opening',\n",
       "       u'Structural Opening Height', u'View Panel', u'View Panel Height',\n",
       "       u'View Panel Inset', u'View Panel Sill', u'View Panel Width',\n",
       "       u'Leaf 2 Width', u'Door Thickness', u'Swing Angle', u'Bolt Latch',\n",
       "       u'Closer', u'Core', u'Door Leaf Height', u'Door Leaf Thickness',\n",
       "       u'Door Leaf Type', u'Door Seals', u'Door Stop', u'Electric Locking',\n",
       "       u'Electromagnetic Hold Open', u'Fire/Smoke Door', u'Frame Profile',\n",
       "       u'Head Details', u'Jamb Details', u'Lock/Latch',\n",
       "       u'Meeting Stile Detail', u'Other Protection', u'Pull Handle',\n",
       "       u'Pull Side Finish Zone', u'Push Plates', u'Push Side Finish Zone',\n",
       "       u'Reed Switch', u'Revision', u'Roller Catch', u'Sill Details',\n",
       "       u'Special Hardware', u'Benchtop Material', u'Handle Height',\n",
       "       u'Room Name', u'STF_Parking_BayAngle_t',\n",
       "       u'STF_Parking_Stripe_End_i', u'STF_Parking_Wheelstop_Position_t',\n",
       "       u'STF_Parking_Wheelstop_YesNo_t', u'STF_ParkingBay_Depth_t',\n",
       "       u'STF_ParkingBay_Width_t', u'FF&E Group', u'Base Price', u'Catalog',\n",
       "       u'Catalog Code', u'Package Qty', u'Product Documentation Link',\n",
       "       u'Watermarked By', u'_SPEC_WILKHAHN_ANSI/BIFMA_STANDARDS',\n",
       "       u'_SPEC_WILKHAHN_DIN_EN_STANDARDS',\n",
       "       u'_SPEC_WILKHAHN_FURNTECH-AFRDI_BLUE_TICK',\n",
       "       u'_SPEC_WILKHAHN_FURNTECH-AFRDI_GREEN_TICK',\n",
       "       u'_SPEC_WILKHAHN_GS_SYMBOL', u'_SPEC_WILKHAHN_Model',\n",
       "       u'_SPEC_WILKHAHN_NPR_STANDARDS', u'_SPEC_WILKHAHN_Part_Number',\n",
       "       u'_SPEC_WILKHAHN_Table_Length', u'_SPEC_WILKHAHN_Table_Width',\n",
       "       u'_SPEC_WILKHAHN_URL', u'_SPEC_WILKHAHN_Version',\n",
       "       u'_WILKHAHN Table Height', u'_WILKHAHN Table Length',\n",
       "       u'_WILKHAHN Table Width', u'CheckedBy_ANZRS', u'Base Finish',\n",
       "       u'Frame Finish', u'Armpad Finish', u'Seat/Back Fabric',\n",
       "       u'Y-Tower Finish', u'Back Finish', u'Carcass Material',\n",
       "       u'Door Panel Height', u'Handle Offset', u'Door Panel Thickness',\n",
       "       u'Door Grille/Undercut', u'Door Leaf Width',\n",
       "       u'Protection on Pull Side', u'Protection on Push Side',\n",
       "       u'Small Panel Width', u'Area_Colour_Bvn', u'Bench_Material_Bvn',\n",
       "       u'Bench_Thickness_Bvn', u'Benchtopfinish', u'Benchtopmaterial',\n",
       "       u'Benchtopthickness', u'Carcasefinish', u'Carcasematerial',\n",
       "       u'Carcass_Material_Bvn', u'Carcess_Thickness_Bvn',\n",
       "       u'Caseworkoveralldepth', u'Caseworkoverallheight',\n",
       "       u'Caseworkoverallwidth', u'Cb Classification', u'Cb Code 1',\n",
       "       u'Cb Description', u'Cb Group', u'Cdeb_Doorid', u'Cdeb_Rminstid',\n",
       "       u'Cdeb_Status', u'Ceiling_Height_Bvn', u'Cf_1', u'Cf_2',\n",
       "       u'Department_BVN', u'Depth_Bvn', u'Depth_Two_Bvn',\n",
       "       u'Detailedcategory', u'Ff_1', u'Ff_2', u'FF_SPECIFIC_1',\n",
       "       u'Frontpanel_Left_Material_Bvn', u'Frontpanel_Right_Material_Bvn',\n",
       "       u'Frontpanel_Single_Material_Bvn', u'Generic Room Sheet Reference',\n",
       "       u'Height_Bvn', u'Height_Skirting_Bvn', u'Height_Two_Bvn',\n",
       "       u'Hfbs_Sub_Department', u'Kicker Material', u'Kickerfinish',\n",
       "       u'Kickerheight', u'Kickermaterial', u'Link_Status',\n",
       "       u'Mounted_Top_Bvn', u'Mounting_Height_Bvn',\n",
       "       u'Mounting_Height_Centre_Bvn', u'Mounting_Height_Top_Bvn',\n",
       "       u'Overall_Height_Bvn', u'rwcalc_Panel Offset off Base',\n",
       "       u'Sp_Area_Designed', u'Sp_Ceiling_Height', u'Sp_Circulation_Area',\n",
       "       u'Sp_Comments', u'Sp_Department', u'Sp_Depth', u'Sp_Gfa_Factor',\n",
       "       u'Sp_Material_Ceilings', u'Sp_Material_Walls', u'Sp_Net_Area',\n",
       "       u'Sp_Per_Unit_Area', u'Sp_Room_Name', u'Sp_Room_Number',\n",
       "       u'Sp_Total_Gfa_Area', u'Sp_Unique_Id', u'Sp_Units', u'Sp_Width',\n",
       "       u'Sub-Department', u'Thickness_Shelf', u'Wf_E_1', u'Wf_E_2',\n",
       "       u'Wf_N_1', u'Wf_N_2', u'Wf_S_1', u'Wf_S_2', u'Wf_W_1', u'Wf_W_2',\n",
       "       u'Width_Bvn', u'Width_Corner_Bvn', u'Width_Counter_Dda_Bvn',\n",
       "       u'Width_Two_Bvn', u'Carcase Offset off Wall',\n",
       "       u'End Panel Side I Finish', u'End Panel Side II Finish',\n",
       "       u'Front Panel Finish', u'rwcalc_Front Panel Visibility',\n",
       "       u'rwcalc_Kickplate On', u'rwcalc_Kickplate Side I setback',\n",
       "       u'rwcalc_Kickplate Side II setback', u'rwcalc_Kickplate Visibility',\n",
       "       u'rwcalc_Panel Back Offset', u'rwcalc_Panel Inset Side I',\n",
       "       u'rwcalc_Panel Inset Side II', u'rwcalc_Panel Thk Base',\n",
       "       u'rwcalc_Panel Thk Side I', u'rwcalc_Panel Thk Side II',\n",
       "       u'rwcalc_Panel Thk Top', u'rwcalc_Real Panel Base Thk',\n",
       "       u'rwcalc_Real Panel Side I Thk', u'rwcalc_Real Panel Side II Thk',\n",
       "       u'rwcalc_Real Panel Top Thk', u'rwcalc_Single Panel Width',\n",
       "       u'rwcalc_Swappable', u'Side I Divider Panel', u'Side I End Panel',\n",
       "       u'Side I End Panel Extend Back', u'Side I Kickplate Flush',\n",
       "       u'Side I Shadow Margin', u'Side II Divider Panel',\n",
       "       u'Side II End Panel', u'Side II End Panel Extend Back',\n",
       "       u'Side II Kickplate Flush', u'Side II Shadow Margin',\n",
       "       u'rwcalc_Carcase Inside Width', u'rwcalc_Cupboard1 Height',\n",
       "       u'rwcalc_Double Panel Width', u'rwcalc_Shelf Depth',\n",
       "       u'rwcalc_Shelf1', u'rwcalc_Shelf2', u'rwcalc_Shelf3',\n",
       "       u'rwcalc_Shelf4', u'rwcalc_Shelf5', u'rwcalc_Shelf6',\n",
       "       u'rwcalc_Show Double Front Panel',\n",
       "       u'rwcalc_Show Single Front Panel', u'rwcalc_Symbolic Depth',\n",
       "       u'rwcalc_Shelf2 Height', u'rwcalc_Shelf3 Height',\n",
       "       u'rwcalc_Shelf4 Height', u'rwcalc_Shelf5 Height',\n",
       "       u'rwcalc_Shelf6 Height', u'rwcalc_Rail Offset', u'rwcalc_Rail1',\n",
       "       u'rwcalc_Rail2', u'MOUNTING_HEIGHT_US_BVN', u'Asset Number',\n",
       "       u'Briefed Area', u'Building Name', u'Grid Prefix', u'Project',\n",
       "       u'Room Code', u'Stage', u'Zone'], dtype=object)"
      ]
     },
     "execution_count": 63,
     "metadata": {},
     "output_type": "execute_result"
    }
   ],
   "source": [
    "not_legit_param.ParameterName.unique()"
   ]
  },
  {
   "cell_type": "markdown",
   "metadata": {},
   "source": [
    "## No. of SP parameters vs non-BVN SP parameters of each family"
   ]
  },
  {
   "cell_type": "code",
   "execution_count": 64,
   "metadata": {
    "collapsed": false,
    "scrolled": false
   },
   "outputs": [
    {
     "data": {
      "text/html": [
       "<div>\n",
       "<table border=\"1\" class=\"dataframe\">\n",
       "  <thead>\n",
       "    <tr>\n",
       "      <th></th>\n",
       "      <th></th>\n",
       "      <th>ParameterName</th>\n",
       "    </tr>\n",
       "    <tr>\n",
       "      <th></th>\n",
       "      <th></th>\n",
       "      <th>count</th>\n",
       "    </tr>\n",
       "    <tr>\n",
       "      <th>FamilyName</th>\n",
       "      <th>BVNparam</th>\n",
       "      <th></th>\n",
       "    </tr>\n",
       "  </thead>\n",
       "  <tbody>\n",
       "    <tr>\n",
       "      <th rowspan=\"2\" valign=\"top\">1 Bay Window</th>\n",
       "      <th>False</th>\n",
       "      <td>33</td>\n",
       "    </tr>\n",
       "    <tr>\n",
       "      <th>True</th>\n",
       "      <td>1</td>\n",
       "    </tr>\n",
       "    <tr>\n",
       "      <th>1 Bay Window - Non Hosted</th>\n",
       "      <th>False</th>\n",
       "      <td>30</td>\n",
       "    </tr>\n",
       "    <tr>\n",
       "      <th>10P_Perimeter_Bench_FYS</th>\n",
       "      <th>False</th>\n",
       "      <td>17</td>\n",
       "    </tr>\n",
       "    <tr>\n",
       "      <th>115_BVNDH_WC Cubicle</th>\n",
       "      <th>False</th>\n",
       "      <td>25</td>\n",
       "    </tr>\n",
       "  </tbody>\n",
       "</table>\n",
       "</div>"
      ],
      "text/plain": [
       "                                   ParameterName\n",
       "                                           count\n",
       "FamilyName                BVNparam              \n",
       "1 Bay Window              False               33\n",
       "                          True                 1\n",
       "1 Bay Window - Non Hosted False               30\n",
       "10P_Perimeter_Bench_FYS   False               17\n",
       "115_BVNDH_WC Cubicle      False               25"
      ]
     },
     "execution_count": 64,
     "metadata": {},
     "output_type": "execute_result"
    }
   ],
   "source": [
    "check_for_sp = nameAndSp.groupby([\"FamilyName\", \"BVNparam\"]).agg([\"count\"])\n",
    "\n",
    "check_for_sp.head()"
   ]
  },
  {
   "cell_type": "markdown",
   "metadata": {},
   "source": [
    "## Filters shared parameters that aren't being used in the Master Content (*dead shared parameters*)"
   ]
  },
  {
   "cell_type": "code",
   "execution_count": 95,
   "metadata": {
    "collapsed": false
   },
   "outputs": [
    {
     "name": "stderr",
     "output_type": "stream",
     "text": [
      "Q:\\Users\\arivera\\AppData\\Local\\Continuum\\Anaconda2\\lib\\site-packages\\ipykernel\\__main__.py:3: UnicodeWarning: Unicode equal comparison failed to convert both arguments to Unicode - interpreting them as being unequal\n",
      "  app.launch_new_instance()\n"
     ]
    },
    {
     "data": {
      "text/plain": [
       "{'A3 Scale',\n",
       " 'AS1482 Tolerance',\n",
       " 'Acoustic Rating Rw',\n",
       " 'Adaptable',\n",
       " 'Additional Info- Fourth Line',\n",
       " 'Area Colour',\n",
       " 'BVN Alphabet',\n",
       " 'Balcony Area',\n",
       " 'Category Color',\n",
       " 'Ceiling Acoustic Rating',\n",
       " 'Client Project Number',\n",
       " 'Configured By',\n",
       " 'Consultant 01',\n",
       " 'Consultant 01 Details',\n",
       " 'Consultant 02',\n",
       " 'Consultant 02 Details',\n",
       " 'Consultant 03',\n",
       " 'Consultant 03 Details',\n",
       " 'Consultant 04',\n",
       " 'Consultant 04 Details',\n",
       " 'Consultant 05',\n",
       " 'Consultant 05 Details',\n",
       " 'Copyright \\xc2\\xa9',\n",
       " 'Core Name',\n",
       " 'Discipline',\n",
       " 'Expected Lifespan (Years)',\n",
       " 'Ext Frame_Offset EQUAL Host Wall thickness_i',\n",
       " 'Flux Id',\n",
       " 'HsbType',\n",
       " 'Ideate BIMLink',\n",
       " 'ItemCode_2',\n",
       " 'ItemDescription_2',\n",
       " 'ItemGroup_2',\n",
       " 'Level - Second Line',\n",
       " 'Lining_\"Opposite Side\"',\n",
       " 'Lining_\"Placement Side\"',\n",
       " 'Maintenance Schedule (Months)',\n",
       " 'Original Model By',\n",
       " 'Package',\n",
       " 'Panel 1 Height',\n",
       " 'Panel 1 Width',\n",
       " 'Place in Structural Wall_i',\n",
       " 'Project Manager',\n",
       " 'Project Managers Details',\n",
       " 'Project Stage',\n",
       " 'Project Stage Code',\n",
       " 'Project Type',\n",
       " 'Room Colour',\n",
       " 'SEPP 65 - Cross Ventilation',\n",
       " 'SEPP 65 - Solar Access',\n",
       " 'SEPP 65 - South Aspect',\n",
       " 'SEPP65 - Daylight Access',\n",
       " 'SEPP65_Cross Ventilation',\n",
       " 'SEPP65_Solar Access',\n",
       " 'SEPP65_South Facing',\n",
       " 'SR Document GUID',\n",
       " 'SR View Calculation Settings',\n",
       " 'STF_Parking_Disabled_YesNo_t',\n",
       " 'STF_Parking_Wheelstop_Depth_t',\n",
       " 'STF_Parking_Wheelstop_Height_t',\n",
       " 'STF_Parking_Wheelstop_Material_t',\n",
       " 'STF_Parking_Wheelstop_Width_t',\n",
       " 'Security Rating (SR1 ,SR2)',\n",
       " 'Sub Discipline Title - Third',\n",
       " 'UTSEquipmentCategories',\n",
       " 'Unit Type',\n",
       " 'View',\n",
       " 'Wall_Special Finish',\n",
       " 'Warranty Duration (Years)'}"
      ]
     },
     "execution_count": 95,
     "metadata": {},
     "output_type": "execute_result"
    }
   ],
   "source": [
    "spBVN = set(p_BVN)\n",
    "p_All = set(list(nameAndSp.ParameterName))\n",
    "dead_param = spBVN - p_All\n",
    "\n",
    "dead_param"
   ]
  },
  {
   "cell_type": "code",
   "execution_count": 99,
   "metadata": {
    "collapsed": false
   },
   "outputs": [
    {
     "name": "stdout",
     "output_type": "stream",
     "text": [
      "Primary Pump Flow  for 11Â°C\n",
      "Copyright Â©\n",
      "Plan swing_90Â°_i\n",
      "Plan swing_30Â°_i\n",
      "Plan swing_180Â°_Offset from wall_i\n",
      "Plan swing_45Â°_i\n",
      "DO NOT EDIT_Stacking_Plan rep_90Â°within opening_Visible_t\n",
      "DO NOT EDIT_Stacking_Plan rep_90Â°beyond opening_Visible_i\n",
      "DO NOT EDIT_Stacking_Plan rep_90Â°beyond opening_Visible_t\n",
      "DO NOT EDIT_Stacking_Plan rep_180Â°_Visible_t\n",
      "Plan swing_180Â°_i\n",
      "WB STANDARD donâ€™t change\n",
      "Plan swing_Double acting_90Â°_i\n"
     ]
    }
   ],
   "source": [
    "# This tries to regex search for non ascii chars, BUT it doesn't work because the notebook isn't in unicode.\n",
    "# however, the strings that cause the error are also the ones that we're looking for, so a try except does the job!\n",
    "import re\n",
    "nonUnicode = re.compile(\"[^\\x00-\\x7F]\")\n",
    "\n",
    "for p in list(p_All):\n",
    "    try:\n",
    "        p = str(p)\n",
    "        if re.match(nonUnicode, p):\n",
    "            print p\n",
    "    except Exception as e:\n",
    "        print p#, e"
   ]
  }
 ],
 "metadata": {
  "celltoolbar": "Slideshow",
  "kernelspec": {
   "display_name": "Python 2",
   "language": "python",
   "name": "python2"
  },
  "language_info": {
   "codemirror_mode": {
    "name": "ipython",
    "version": 2
   },
   "file_extension": ".py",
   "mimetype": "text/x-python",
   "name": "python",
   "nbconvert_exporter": "python",
   "pygments_lexer": "ipython2",
   "version": "2.7.13"
  },
  "toc": {
   "colors": {
    "hover_highlight": "#DAA520",
    "navigate_num": "#000000",
    "navigate_text": "#333333",
    "running_highlight": "#FF0000",
    "selected_highlight": "#FFD700",
    "sidebar_border": "#EEEEEE",
    "wrapper_background": "#FFFFFF"
   },
   "moveMenuLeft": true,
   "nav_menu": {
    "height": "512px",
    "width": "252px"
   },
   "navigate_menu": true,
   "number_sections": true,
   "sideBar": false,
   "threshold": 4,
   "toc_cell": false,
   "toc_position": {
    "height": "367px",
    "left": "397.77px",
    "right": "auto",
    "top": "-421.88px",
    "width": "257px"
   },
   "toc_section_display": "block",
   "toc_window_display": true,
   "widenNotebook": false
  }
 },
 "nbformat": 4,
 "nbformat_minor": 2
}
