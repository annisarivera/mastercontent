{
 "cells": [
  {
   "cell_type": "code",
   "execution_count": 1,
   "metadata": {
    "collapsed": true,
    "hide_input": false,
    "slideshow": {
     "slide_type": "skip"
    }
   },
   "outputs": [],
   "source": [
    "import matplotlib\n",
    "import matplotlib.pyplot as plt\n",
    "import numpy as np\n",
    "import pandas as pd\n",
    "import os"
   ]
  },
  {
   "cell_type": "code",
   "execution_count": 2,
   "metadata": {
    "collapsed": true,
    "hide_input": false,
    "slideshow": {
     "slide_type": "skip"
    }
   },
   "outputs": [],
   "source": [
    "%matplotlib inline\n",
    "plt.rcParams['figure.figsize'] = (20, 10)"
   ]
  },
  {
   "cell_type": "markdown",
   "metadata": {
    "slideshow": {
     "slide_type": "slide"
    }
   },
   "source": [
    "# RETRIEVING AND BASIC FORMATTING EXCEL FILES"
   ]
  },
  {
   "cell_type": "markdown",
   "metadata": {
    "hide_input": true,
    "slideshow": {
     "slide_type": "slide"
    }
   },
   "source": [
    "## Retrieving the .xlsx files\n",
    "Find the directory where the excel files are living. \n",
    "\n",
    "Then **'excel_files'** will report what lives inside the folder. \n",
    "\n",
    "Note: Any additional excel files you want analysed will need to be put into the same location as **'directory'.**"
   ]
  },
  {
   "cell_type": "code",
   "execution_count": 3,
   "metadata": {
    "collapsed": false,
    "hide_input": false,
    "slideshow": {
     "slide_type": "subslide"
    }
   },
   "outputs": [
    {
     "data": {
      "text/plain": [
       "['20170429 9_28 Family Types Log.xlsx',\n",
       " '20170429 9_28 FamilyCategory Log.xlsx',\n",
       " '20170429 9_28 FamilySubCategory Log.xlsx',\n",
       " '20170429 9_28 Host Families Log.xlsx',\n",
       " '20170429 9_28 Nested Families Log.xlsx',\n",
       " '20170429 9_28 OmniClass Log.xlsx',\n",
       " '20170429 9_28 Parameters Log.xlsx',\n",
       " '20170429 9_28 ParameterValuesByTypes Log.xlsx',\n",
       " '20170429 9_28 Reference Planes Log.xlsx',\n",
       " '20170429 9_28 Units Log.xlsx',\n",
       " '20170501 6_28 Materials Log.xlsx']"
      ]
     },
     "execution_count": 3,
     "metadata": {},
     "output_type": "execute_result"
    }
   ],
   "source": [
    "directory = r\"\\\\dc2-file001\\Practice\\InfoTech\\BIM\\Revit\\RevitStandardsMasterBVN\\02_BVN_Library\\Master Content\\X_Data\\Data - ARR\\_CONSOLIDATED v2\"\n",
    "files = os.listdir(directory)\n",
    "excel_files = []\n",
    "for f in files:\n",
    "    if \".xlsx\" in f:\n",
    "        excel_files.append(f)\n",
    "excel_files"
   ]
  },
  {
   "cell_type": "markdown",
   "metadata": {
    "hide_input": true,
    "slideshow": {
     "slide_type": "skip"
    }
   },
   "source": [
    "## xlsx. key and values\n",
    "\n",
    "Use <b>keys</b> to pair each key with each excel file in <b>excel_files</b>. This is so that you don't have to type the long file name everytime you need to call it in the rest of the code. \n",
    "\n",
    "<b>file_dict</b> will tell you which excel file is paired with each key."
   ]
  },
  {
   "cell_type": "code",
   "execution_count": 4,
   "metadata": {
    "collapsed": false,
    "hide_input": false
   },
   "outputs": [
    {
     "data": {
      "text/plain": [
       "{'FamilyCategory': '20170429 9_28 FamilyCategory Log.xlsx',\n",
       " 'FamilySubCategory': '20170429 9_28 FamilySubCategory Log.xlsx',\n",
       " 'FamilyTypes': '20170429 9_28 Family Types Log.xlsx',\n",
       " 'HostFamilies': '20170429 9_28 Host Families Log.xlsx',\n",
       " 'Materials': '20170501 6_28 Materials Log.xlsx',\n",
       " 'NestedFamilies': '20170429 9_28 Nested Families Log.xlsx',\n",
       " 'OmniClass': '20170429 9_28 OmniClass Log.xlsx',\n",
       " 'ParameterValuesByTypes': '20170429 9_28 ParameterValuesByTypes Log.xlsx',\n",
       " 'Parameters': '20170429 9_28 Parameters Log.xlsx',\n",
       " 'ReferencePlanes': '20170429 9_28 Reference Planes Log.xlsx',\n",
       " 'Units': '20170429 9_28 Units Log.xlsx'}"
      ]
     },
     "execution_count": 4,
     "metadata": {},
     "output_type": "execute_result"
    }
   ],
   "source": [
    "keys = [\n",
    "        \"FamilyTypes\",\n",
    "        \"FamilyCategory\",\n",
    "        \"FamilySubCategory\",\n",
    "        \"HostFamilies\",\n",
    "        \"NestedFamilies\",\n",
    "        \"OmniClass\",\n",
    "        \"Parameters\",\n",
    "        \"ParameterValuesByTypes\",\n",
    "        \"ReferencePlanes\",\n",
    "        \"Units\",\n",
    "        \"Materials\"\n",
    "       ]\n",
    "\n",
    "file_dict = {key: value for (key, value) in zip(keys, excel_files)}\n",
    "file_dict"
   ]
  },
  {
   "cell_type": "markdown",
   "metadata": {
    "slideshow": {
     "slide_type": "slide"
    }
   },
   "source": [
    "## FUNCTIONS TO FORMAT EXCEL FILES"
   ]
  },
  {
   "cell_type": "markdown",
   "metadata": {
    "slideshow": {
     "slide_type": "slide"
    }
   },
   "source": [
    "### Removing the common file path characters from original family file path name\n",
    "\n",
    "The example file path below is very long. In order to cut the fat out of the long file path, the common characters from each file path is removed. \n",
    "\n",
    "\\\\dc2-file001\\Practice\\InfoTech\\BIM\\Revit\\RevitStandardsMasterBVN\\02_BVN_Library\\Master Content\\Windows\\Double Hung\\Double Hung_3 Panel.rfa\n",
    "\n",
    "Therefore, the start of the file path <b>\\\\dc2-file001\\Practice\\InfoTech\\BIM\\Revit\\RevitStandardsMasterBVN\\02_BVN_Library\\Master Content</b> is removed in every spreadsheet."
   ]
  },
  {
   "cell_type": "markdown",
   "metadata": {
    "slideshow": {
     "slide_type": "slide"
    }
   },
   "source": [
    "### Removing the rfa. name from FamilyFilePath.\n",
    "\n",
    "In the excel files, the family name (.rfa) is part of the FamilyFilePath column.\n",
    "\n",
    "e.g. \\\\dc2-file001\\Practice\\InfoTech\\BIM\\Revit\\RevitStandardsMasterBVN\\02_BVN_Library\\Master Content\\Windows\\Special\\<u>Window Lancet_basic.rfa</u>"
   ]
  },
  {
   "cell_type": "markdown",
   "metadata": {
    "slideshow": {
     "slide_type": "slide"
    }
   },
   "source": [
    "### Determines whether the family is an .rfa or from a .txt catalogue file.\n",
    "\n",
    "<b> remove_rfaName</b> removes the family name from the FamilyFilePath column. This allows us to find things such as the count of how many families there are within a particular master content folder. It splits the <b>full_filepath</b> path by each \\ .\n",
    "\n",
    "<b>joined_again</b> will join the file path back through the \\ except for the last one. The new file path is appended on a FamilyFilePath column."
   ]
  },
  {
   "cell_type": "markdown",
   "metadata": {
    "slideshow": {
     "slide_type": "slide"
    }
   },
   "source": [
    "### Determines whether the family is an .rfa or from a .txt catalogue file.\n",
    "<b>getFileType</b> removes the last three characters from the FamilyFilePath.\n",
    "\n",
    "<b>stripFileType</b> removes the last four characters (including the '.') from the FamilyName."
   ]
  },
  {
   "cell_type": "code",
   "execution_count": 5,
   "metadata": {
    "collapsed": false,
    "hide_input": false,
    "slideshow": {
     "slide_type": "subslide"
    }
   },
   "outputs": [
    {
     "name": "stdout",
     "output_type": "stream",
     "text": [
      "95\n"
     ]
    }
   ],
   "source": [
    "commonPartofFilePath = len(r'\\\\dc2-file001\\Practice\\InfoTech\\BIM\\Revit\\RevitStandardsMasterBVN\\02_BVN_Library\\Master Content')\n",
    "print commonPartofFilePath\n",
    "def stripCommonPath(row):\n",
    "        return row.FamilyFilePath[commonPartofFilePath+1:]\n",
    "    \n",
    "def remove_rfaName(row):\n",
    "    full_filepath = row.FamilyFilePath\n",
    "    split = full_filepath.split(\"\\\\\")[:-1]\n",
    "    joined_again = (\"\\\\\".join(split))\n",
    "    return  joined_again\n",
    "\n",
    "def getFileType(row):\n",
    "    return row.FamilyFilePath[-3:]\n",
    "\n",
    "def stripFileType(row):\n",
    "    return row.FamilyName[:-4]"
   ]
  },
  {
   "cell_type": "markdown",
   "metadata": {},
   "source": [
    "# REVIT VERSION\n",
    "\n",
    "**rv_path** and **rv** reads from the ParameterValuesByTypes excel file.\n",
    "\n",
    "**NOTE:** The columns - \"FamilyEditedLast\", \"ParameterName\", \"ParameterValue\", \"ParameterIsInstance\", \"ParamterIsFormula\", \"ParameterIsReporting\", \"ParameterStorageType\" are dropped from the table below."
   ]
  },
  {
   "cell_type": "code",
   "execution_count": 6,
   "metadata": {
    "collapsed": false,
    "scrolled": true
   },
   "outputs": [
    {
     "data": {
      "text/html": [
       "<div>\n",
       "<table border=\"1\" class=\"dataframe\">\n",
       "  <thead>\n",
       "    <tr style=\"text-align: right;\">\n",
       "      <th></th>\n",
       "      <th>FamilyFilePath</th>\n",
       "      <th>FamilyName</th>\n",
       "      <th>RevitVersion</th>\n",
       "      <th>FamilyCategory</th>\n",
       "      <th>FamilyTypeName</th>\n",
       "    </tr>\n",
       "  </thead>\n",
       "  <tbody>\n",
       "    <tr>\n",
       "      <th>0</th>\n",
       "      <td>\\\\dc2-file001\\Practice\\InfoTech\\BIM\\Revit\\Revi...</td>\n",
       "      <td>Window_Square Opening_WIN.rfa</td>\n",
       "      <td>2015</td>\n",
       "      <td>Windows</td>\n",
       "      <td>0400 x 1200mm</td>\n",
       "    </tr>\n",
       "    <tr>\n",
       "      <th>1</th>\n",
       "      <td>\\\\dc2-file001\\Practice\\InfoTech\\BIM\\Revit\\Revi...</td>\n",
       "      <td>Window_Square Opening_WIN.rfa</td>\n",
       "      <td>2015</td>\n",
       "      <td>Windows</td>\n",
       "      <td>0400 x 1200mm</td>\n",
       "    </tr>\n",
       "    <tr>\n",
       "      <th>2</th>\n",
       "      <td>\\\\dc2-file001\\Practice\\InfoTech\\BIM\\Revit\\Revi...</td>\n",
       "      <td>Window_Square Opening_WIN.rfa</td>\n",
       "      <td>2015</td>\n",
       "      <td>Windows</td>\n",
       "      <td>0400 x 1200mm</td>\n",
       "    </tr>\n",
       "    <tr>\n",
       "      <th>3</th>\n",
       "      <td>\\\\dc2-file001\\Practice\\InfoTech\\BIM\\Revit\\Revi...</td>\n",
       "      <td>Window_Square Opening_WIN.rfa</td>\n",
       "      <td>2015</td>\n",
       "      <td>Windows</td>\n",
       "      <td>0400 x 1200mm</td>\n",
       "    </tr>\n",
       "    <tr>\n",
       "      <th>4</th>\n",
       "      <td>\\\\dc2-file001\\Practice\\InfoTech\\BIM\\Revit\\Revi...</td>\n",
       "      <td>Window_Square Opening_WIN.rfa</td>\n",
       "      <td>2015</td>\n",
       "      <td>Windows</td>\n",
       "      <td>0400 x 1200mm</td>\n",
       "    </tr>\n",
       "  </tbody>\n",
       "</table>\n",
       "</div>"
      ],
      "text/plain": [
       "                                      FamilyFilePath  \\\n",
       "0  \\\\dc2-file001\\Practice\\InfoTech\\BIM\\Revit\\Revi...   \n",
       "1  \\\\dc2-file001\\Practice\\InfoTech\\BIM\\Revit\\Revi...   \n",
       "2  \\\\dc2-file001\\Practice\\InfoTech\\BIM\\Revit\\Revi...   \n",
       "3  \\\\dc2-file001\\Practice\\InfoTech\\BIM\\Revit\\Revi...   \n",
       "4  \\\\dc2-file001\\Practice\\InfoTech\\BIM\\Revit\\Revi...   \n",
       "\n",
       "                      FamilyName RevitVersion FamilyCategory FamilyTypeName  \n",
       "0  Window_Square Opening_WIN.rfa         2015        Windows  0400 x 1200mm  \n",
       "1  Window_Square Opening_WIN.rfa         2015        Windows  0400 x 1200mm  \n",
       "2  Window_Square Opening_WIN.rfa         2015        Windows  0400 x 1200mm  \n",
       "3  Window_Square Opening_WIN.rfa         2015        Windows  0400 x 1200mm  \n",
       "4  Window_Square Opening_WIN.rfa         2015        Windows  0400 x 1200mm  "
      ]
     },
     "execution_count": 6,
     "metadata": {},
     "output_type": "execute_result"
    }
   ],
   "source": [
    "rv_path = os.path.join(directory, file_dict[\"ParameterValuesByTypes\"])\n",
    "rv = pd.read_excel(rv_path)\n",
    "\n",
    "rv.drop([\"FamilyEditedLast\", \"ParameterName\", \"ParameterValue\", \"ParameterIsInstance\", \"ParamterIsFormula\", \"ParameterIsReporting\", \"ParameterStorageType\"],axis=1,inplace=True)\n",
    "\n",
    "rv.head()"
   ]
  },
  {
   "cell_type": "markdown",
   "metadata": {},
   "source": [
    "## Number of Families in a Revit Version"
   ]
  },
  {
   "cell_type": "code",
   "execution_count": 7,
   "metadata": {
    "collapsed": false
   },
   "outputs": [
    {
     "name": "stderr",
     "output_type": "stream",
     "text": [
      "Q:\\Users\\arivera\\AppData\\Local\\Continuum\\Anaconda2\\lib\\site-packages\\pandas\\util\\decorators.py:91: SettingWithCopyWarning: \n",
      "A value is trying to be set on a copy of a slice from a DataFrame\n",
      "\n",
      "See the caveats in the documentation: http://pandas.pydata.org/pandas-docs/stable/indexing.html#indexing-view-versus-copy\n",
      "  return func(*args, **kwargs)\n"
     ]
    }
   ],
   "source": [
    "nameAndVersion = rv[[\"RevitVersion\", \"FamilyName\"]]\n",
    "nameAndVersion.drop_duplicates(inplace=True)\n",
    "\n",
    "rv_group = nameAndVersion.groupby(\"RevitVersion\").agg(\"count\")"
   ]
  },
  {
   "cell_type": "code",
   "execution_count": 8,
   "metadata": {
    "collapsed": false
   },
   "outputs": [
    {
     "data": {
      "text/html": [
       "<div>\n",
       "<table border=\"1\" class=\"dataframe\">\n",
       "  <thead>\n",
       "    <tr style=\"text-align: right;\">\n",
       "      <th></th>\n",
       "      <th>FamilyName</th>\n",
       "    </tr>\n",
       "    <tr>\n",
       "      <th>RevitVersion</th>\n",
       "      <th></th>\n",
       "    </tr>\n",
       "  </thead>\n",
       "  <tbody>\n",
       "    <tr>\n",
       "      <th>2010</th>\n",
       "      <td>3</td>\n",
       "    </tr>\n",
       "    <tr>\n",
       "      <th>2011</th>\n",
       "      <td>22</td>\n",
       "    </tr>\n",
       "    <tr>\n",
       "      <th>2012</th>\n",
       "      <td>342</td>\n",
       "    </tr>\n",
       "    <tr>\n",
       "      <th>2013</th>\n",
       "      <td>308</td>\n",
       "    </tr>\n",
       "    <tr>\n",
       "      <th>2014</th>\n",
       "      <td>1617</td>\n",
       "    </tr>\n",
       "    <tr>\n",
       "      <th>2015</th>\n",
       "      <td>2610</td>\n",
       "    </tr>\n",
       "    <tr>\n",
       "      <th>2016</th>\n",
       "      <td>47</td>\n",
       "    </tr>\n",
       "    <tr>\n",
       "      <th>2017</th>\n",
       "      <td>2</td>\n",
       "    </tr>\n",
       "    <tr>\n",
       "      <th>MEP 2011</th>\n",
       "      <td>85</td>\n",
       "    </tr>\n",
       "  </tbody>\n",
       "</table>\n",
       "</div>"
      ],
      "text/plain": [
       "              FamilyName\n",
       "RevitVersion            \n",
       "2010                   3\n",
       "2011                  22\n",
       "2012                 342\n",
       "2013                 308\n",
       "2014                1617\n",
       "2015                2610\n",
       "2016                  47\n",
       "2017                   2\n",
       "MEP 2011              85"
      ]
     },
     "execution_count": 8,
     "metadata": {},
     "output_type": "execute_result"
    }
   ],
   "source": [
    "rv_group.head(9)"
   ]
  },
  {
   "cell_type": "code",
   "execution_count": 9,
   "metadata": {
    "collapsed": false
   },
   "outputs": [
    {
     "data": {
      "image/png": "[encoded data removed]",
      "text/plain": [
       "<matplotlib.figure.Figure at 0xb4f8908>"
      ]
     },
     "metadata": {},
     "output_type": "display_data"
    }
   ],
   "source": [
    "rv_group.plot(kind=\"bar\", grid=True);\n",
    "plt.title(\"Number of families in each Revit Version\", fontsize=20)\n",
    "plt.xlabel(\"Revit Version\", fontsize=15)\n",
    "plt.ylabel(\"Number of families\", fontsize=15)\n",
    "plt.show()"
   ]
  },
  {
   "cell_type": "markdown",
   "metadata": {},
   "source": [
    "## Filter for names of families in a revit version\n",
    "\n",
    "Change the Revit Version value in <b>rv_filter</b> to filter the list of family names for a particular Revit version"
   ]
  },
  {
   "cell_type": "code",
   "execution_count": 24,
   "metadata": {
    "collapsed": false
   },
   "outputs": [
    {
     "name": "stderr",
     "output_type": "stream",
     "text": [
      "Q:\\Users\\arivera\\AppData\\Local\\Continuum\\Anaconda2\\lib\\site-packages\\ipykernel\\__main__.py:3: SettingWithCopyWarning: \n",
      "A value is trying to be set on a copy of a slice from a DataFrame\n",
      "\n",
      "See the caveats in the documentation: http://pandas.pydata.org/pandas-docs/stable/indexing.html#indexing-view-versus-copy\n",
      "  app.launch_new_instance()\n"
     ]
    },
    {
     "data": {
      "text/html": [
       "<div>\n",
       "<table border=\"1\" class=\"dataframe\">\n",
       "  <thead>\n",
       "    <tr style=\"text-align: right;\">\n",
       "      <th></th>\n",
       "      <th>FamilyFilePath</th>\n",
       "      <th>FamilyName</th>\n",
       "      <th>RevitVersion</th>\n",
       "      <th>FamilyCategory</th>\n",
       "    </tr>\n",
       "  </thead>\n",
       "  <tbody>\n",
       "    <tr>\n",
       "      <th>467</th>\n",
       "      <td>\\\\dc2-file001\\Practice\\InfoTech\\BIM\\Revit\\Revi...</td>\n",
       "      <td>Skylight_Operable_WIN.rfa</td>\n",
       "      <td>2014</td>\n",
       "      <td>Windows</td>\n",
       "    </tr>\n",
       "    <tr>\n",
       "      <th>1426</th>\n",
       "      <td>\\\\dc2-file001\\Practice\\InfoTech\\BIM\\Revit\\Revi...</td>\n",
       "      <td>Sliding_Single Row_XOX_WIN.rfa</td>\n",
       "      <td>2014</td>\n",
       "      <td>Windows</td>\n",
       "    </tr>\n",
       "    <tr>\n",
       "      <th>1489</th>\n",
       "      <td>\\\\dc2-file001\\Practice\\InfoTech\\BIM\\Revit\\Revi...</td>\n",
       "      <td>Sliding_Single Row_XOOX_WIN.rfa</td>\n",
       "      <td>2014</td>\n",
       "      <td>Windows</td>\n",
       "    </tr>\n",
       "    <tr>\n",
       "      <th>1552</th>\n",
       "      <td>\\\\dc2-file001\\Practice\\InfoTech\\BIM\\Revit\\Revi...</td>\n",
       "      <td>Sliding_Single Row_XO_WIN.rfa</td>\n",
       "      <td>2014</td>\n",
       "      <td>Windows</td>\n",
       "    </tr>\n",
       "    <tr>\n",
       "      <th>1615</th>\n",
       "      <td>\\\\dc2-file001\\Practice\\InfoTech\\BIM\\Revit\\Revi...</td>\n",
       "      <td>Sliding_Single Row_OXXO_WIN.rfa</td>\n",
       "      <td>2014</td>\n",
       "      <td>Windows</td>\n",
       "    </tr>\n",
       "    <tr>\n",
       "      <th>1741</th>\n",
       "      <td>\\\\dc2-file001\\Practice\\InfoTech\\BIM\\Revit\\Revi...</td>\n",
       "      <td>Sliding-Metal Frame-AWS 461 End_WIN.rfa</td>\n",
       "      <td>2014</td>\n",
       "      <td>Windows</td>\n",
       "    </tr>\n",
       "    <tr>\n",
       "      <th>1805</th>\n",
       "      <td>\\\\dc2-file001\\Practice\\InfoTech\\BIM\\Revit\\Revi...</td>\n",
       "      <td>Sliding-Metal Frame-AWS 461 Centre_WIN.rfa</td>\n",
       "      <td>2014</td>\n",
       "      <td>Windows</td>\n",
       "    </tr>\n",
       "    <tr>\n",
       "      <th>1869</th>\n",
       "      <td>\\\\dc2-file001\\Practice\\InfoTech\\BIM\\Revit\\Revi...</td>\n",
       "      <td>Sliding-Metal Frame-AWS 461 Both_WIN.rfa</td>\n",
       "      <td>2014</td>\n",
       "      <td>Windows</td>\n",
       "    </tr>\n",
       "    <tr>\n",
       "      <th>2856</th>\n",
       "      <td>\\\\dc2-file001\\Practice\\InfoTech\\BIM\\Revit\\Revi...</td>\n",
       "      <td>Louvre Window_WIN.rfa</td>\n",
       "      <td>2014</td>\n",
       "      <td>Windows</td>\n",
       "    </tr>\n",
       "    <tr>\n",
       "      <th>3970</th>\n",
       "      <td>\\\\dc2-file001\\Practice\\InfoTech\\BIM\\Revit\\Revi...</td>\n",
       "      <td>Louvre Window_Timber_WIN .rfa</td>\n",
       "      <td>2014</td>\n",
       "      <td>Windows</td>\n",
       "    </tr>\n",
       "  </tbody>\n",
       "</table>\n",
       "</div>"
      ],
      "text/plain": [
       "                                         FamilyFilePath  \\\n",
       "467   \\\\dc2-file001\\Practice\\InfoTech\\BIM\\Revit\\Revi...   \n",
       "1426  \\\\dc2-file001\\Practice\\InfoTech\\BIM\\Revit\\Revi...   \n",
       "1489  \\\\dc2-file001\\Practice\\InfoTech\\BIM\\Revit\\Revi...   \n",
       "1552  \\\\dc2-file001\\Practice\\InfoTech\\BIM\\Revit\\Revi...   \n",
       "1615  \\\\dc2-file001\\Practice\\InfoTech\\BIM\\Revit\\Revi...   \n",
       "1741  \\\\dc2-file001\\Practice\\InfoTech\\BIM\\Revit\\Revi...   \n",
       "1805  \\\\dc2-file001\\Practice\\InfoTech\\BIM\\Revit\\Revi...   \n",
       "1869  \\\\dc2-file001\\Practice\\InfoTech\\BIM\\Revit\\Revi...   \n",
       "2856  \\\\dc2-file001\\Practice\\InfoTech\\BIM\\Revit\\Revi...   \n",
       "3970  \\\\dc2-file001\\Practice\\InfoTech\\BIM\\Revit\\Revi...   \n",
       "\n",
       "                                      FamilyName RevitVersion FamilyCategory  \n",
       "467                    Skylight_Operable_WIN.rfa         2014        Windows  \n",
       "1426              Sliding_Single Row_XOX_WIN.rfa         2014        Windows  \n",
       "1489             Sliding_Single Row_XOOX_WIN.rfa         2014        Windows  \n",
       "1552               Sliding_Single Row_XO_WIN.rfa         2014        Windows  \n",
       "1615             Sliding_Single Row_OXXO_WIN.rfa         2014        Windows  \n",
       "1741     Sliding-Metal Frame-AWS 461 End_WIN.rfa         2014        Windows  \n",
       "1805  Sliding-Metal Frame-AWS 461 Centre_WIN.rfa         2014        Windows  \n",
       "1869    Sliding-Metal Frame-AWS 461 Both_WIN.rfa         2014        Windows  \n",
       "2856                       Louvre Window_WIN.rfa         2014        Windows  \n",
       "3970               Louvre Window_Timber_WIN .rfa         2014        Windows  "
      ]
     },
     "execution_count": 24,
     "metadata": {},
     "output_type": "execute_result"
    }
   ],
   "source": [
    "rv_filter = rv[rv.RevitVersion==2014]\n",
    "\n",
    "rv_filter.drop(\"FamilyTypeName\",axis=1,inplace=True)\n",
    "\n",
    "rv_filter.drop_duplicates(inplace=True)\n",
    "\n",
    "rv_filter.head(10)"
   ]
  },
  {
   "cell_type": "markdown",
   "metadata": {},
   "source": [
    "## Number of Categories in a particular Revit Version = 2014"
   ]
  },
  {
   "cell_type": "code",
   "execution_count": 27,
   "metadata": {
    "collapsed": false
   },
   "outputs": [
    {
     "data": {
      "text/html": [
       "<div>\n",
       "<table border=\"1\" class=\"dataframe\">\n",
       "  <thead>\n",
       "    <tr style=\"text-align: right;\">\n",
       "      <th></th>\n",
       "      <th>RevitVersion</th>\n",
       "    </tr>\n",
       "    <tr>\n",
       "      <th>FamilyCategory</th>\n",
       "      <th></th>\n",
       "    </tr>\n",
       "  </thead>\n",
       "  <tbody>\n",
       "    <tr>\n",
       "      <th>Plumbing Fixtures</th>\n",
       "      <td>225</td>\n",
       "    </tr>\n",
       "    <tr>\n",
       "      <th>Doors</th>\n",
       "      <td>187</td>\n",
       "    </tr>\n",
       "    <tr>\n",
       "      <th>Specialty Equipment</th>\n",
       "      <td>160</td>\n",
       "    </tr>\n",
       "    <tr>\n",
       "      <th>Detail Items</th>\n",
       "      <td>156</td>\n",
       "    </tr>\n",
       "    <tr>\n",
       "      <th>Furniture</th>\n",
       "      <td>133</td>\n",
       "    </tr>\n",
       "  </tbody>\n",
       "</table>\n",
       "</div>"
      ],
      "text/plain": [
       "                     RevitVersion\n",
       "FamilyCategory                   \n",
       "Plumbing Fixtures             225\n",
       "Doors                         187\n",
       "Specialty Equipment           160\n",
       "Detail Items                  156\n",
       "Furniture                     133"
      ]
     },
     "execution_count": 27,
     "metadata": {},
     "output_type": "execute_result"
    }
   ],
   "source": [
    "catAndVersion = rv_filter[[\"RevitVersion\", \"FamilyCategory\"]]\n",
    "\n",
    "catAndVersion_group = catAndVersion.groupby(\"FamilyCategory\").agg(\"count\")\n",
    "\n",
    "catAndVersion_group.sort_values(by=\"RevitVersion\",ascending=False, inplace=True)\n",
    "\n",
    "catAndVersion_group.head()"
   ]
  },
  {
   "cell_type": "code",
   "execution_count": 28,
   "metadata": {
    "collapsed": false
   },
   "outputs": [
    {
     "data": {
      "image/png": "[encoded data removed]",
      "text/plain": [
       "<matplotlib.figure.Figure at 0xb3ac828>"
      ]
     },
     "metadata": {},
     "output_type": "display_data"
    }
   ],
   "source": [
    "catAndVersion_group.plot(kind=\"bar\", grid=True);\n",
    "plt.title(\"Number of families in particular category of a Revit Version\", fontsize=20)\n",
    "plt.xlabel(\"Family Categories\", fontsize=15)\n",
    "plt.ylabel(\"Number of families\", fontsize=15)\n",
    "plt.show()"
   ]
  },
  {
   "cell_type": "code",
   "execution_count": null,
   "metadata": {
    "collapsed": true
   },
   "outputs": [],
   "source": []
  }
 ],
 "metadata": {
  "celltoolbar": "Slideshow",
  "kernelspec": {
   "display_name": "Python 2",
   "language": "python",
   "name": "python2"
  },
  "language_info": {
   "codemirror_mode": {
    "name": "ipython",
    "version": 2
   },
   "file_extension": ".py",
   "mimetype": "text/x-python",
   "name": "python",
   "nbconvert_exporter": "python",
   "pygments_lexer": "ipython2",
   "version": "2.7.13"
  },
  "toc": {
   "colors": {
    "hover_highlight": "#DAA520",
    "navigate_num": "#000000",
    "navigate_text": "#333333",
    "running_highlight": "#FF0000",
    "selected_highlight": "#FFD700",
    "sidebar_border": "#EEEEEE",
    "wrapper_background": "#FFFFFF"
   },
   "moveMenuLeft": true,
   "nav_menu": {
    "height": "512px",
    "width": "252px"
   },
   "navigate_menu": true,
   "number_sections": true,
   "sideBar": false,
   "threshold": 4,
   "toc_cell": false,
   "toc_position": {
    "height": "367px",
    "left": "397.77px",
    "right": "auto",
    "top": "-421.88px",
    "width": "257px"
   },
   "toc_section_display": "block",
   "toc_window_display": true,
   "widenNotebook": false
  }
 },
 "nbformat": 4,
 "nbformat_minor": 2
}
